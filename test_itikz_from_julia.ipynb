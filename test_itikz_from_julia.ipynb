{
 "cells": [
  {
   "cell_type": "code",
   "execution_count": 1,
   "metadata": {},
   "outputs": [
    {
     "data": {
      "text/plain": [
       "PyObject <module 'jinja2' from '/home/user/.local/lib/python3.8/site-packages/jinja2/__init__.py'>"
      ]
     },
     "execution_count": 1,
     "metadata": {},
     "output_type": "execute_result"
    }
   ],
   "source": [
    "using PyCall\n",
    "itikz=pyimport(\"itikz\")\n",
    "jinja=pyimport(\"jinja2\")"
   ]
  },
  {
   "cell_type": "markdown",
   "metadata": {},
   "source": [
    "# Example"
   ]
  },
  {
   "cell_type": "code",
   "execution_count": 2,
   "metadata": {},
   "outputs": [
    {
     "data": {
      "image/svg+xml": [
       "<svg xmlns=\"http://www.w3.org/2000/svg\" xmlns:xlink=\"http://www.w3.org/1999/xlink\" width=\"71.065pt\" height=\"71.065pt\" viewBox=\"0 0 71.065 71.065\" version=\"1.1\">\n",
       "<g id=\"surface1\">\n",
       "<path style=\"fill:none;stroke-width:0.19925;stroke-linecap:butt;stroke-linejoin:miter;stroke:rgb(50%,50%,50%);stroke-opacity:1;stroke-miterlimit:10;\" d=\"M 0.0015625 0.00015625 L 70.86875 0.00015625 M 0.0015625 14.172031 L 70.86875 14.172031 M 0.0015625 28.347813 L 70.86875 28.347813 M 0.0015625 42.519688 L 70.86875 42.519688 M 0.0015625 56.695469 L 70.86875 56.695469 M 0.0015625 70.863438 L 70.86875 70.863438 M 0.0015625 0.00015625 L 0.0015625 70.867344 M 14.173438 0.00015625 L 14.173438 70.867344 M 28.345312 0.00015625 L 28.345312 70.867344 M 42.521094 0.00015625 L 42.521094 70.867344 M 56.692969 0.00015625 L 56.692969 70.867344 M 70.860938 0.00015625 L 70.860938 70.867344 \" transform=\"matrix(1,0,0,-1,0.1,70.965)\"/>\n",
       "<path style=\"fill-rule:nonzero;fill:rgb(99.253845%,90.000916%,95.489502%);fill-opacity:1;stroke-width:0.3985;stroke-linecap:butt;stroke-linejoin:miter;stroke:rgb(0%,0%,0%);stroke-opacity:1;stroke-miterlimit:10;\" d=\"M 14.173438 14.172031 L 14.173438 28.347813 L 28.345312 28.347813 L 28.345312 14.172031 Z M 14.173438 14.172031 \" transform=\"matrix(1,0,0,-1,0.1,70.965)\"/>\n",
       "<path style=\"fill-rule:nonzero;fill:rgb(99.253845%,90.000916%,95.489502%);fill-opacity:1;stroke-width:0.3985;stroke-linecap:butt;stroke-linejoin:miter;stroke:rgb(0%,0%,0%);stroke-opacity:1;stroke-miterlimit:10;\" d=\"M 28.345312 14.172031 L 28.345312 28.347813 L 42.521094 28.347813 L 42.521094 14.172031 Z M 28.345312 14.172031 \" transform=\"matrix(1,0,0,-1,0.1,70.965)\"/>\n",
       "<path style=\"fill-rule:nonzero;fill:rgb(99.253845%,90.000916%,95.489502%);fill-opacity:1;stroke-width:0.3985;stroke-linecap:butt;stroke-linejoin:miter;stroke:rgb(0%,0%,0%);stroke-opacity:1;stroke-miterlimit:10;\" d=\"M 42.521094 14.172031 L 42.521094 28.347813 L 56.692969 28.347813 L 56.692969 14.172031 Z M 42.521094 14.172031 \" transform=\"matrix(1,0,0,-1,0.1,70.965)\"/>\n",
       "<path style=\"fill-rule:nonzero;fill:rgb(99.253845%,90.000916%,95.489502%);fill-opacity:1;stroke-width:0.3985;stroke-linecap:butt;stroke-linejoin:miter;stroke:rgb(0%,0%,0%);stroke-opacity:1;stroke-miterlimit:10;\" d=\"M 42.521094 28.347813 L 42.521094 42.519688 L 56.692969 42.519688 L 56.692969 28.347813 Z M 42.521094 28.347813 \" transform=\"matrix(1,0,0,-1,0.1,70.965)\"/>\n",
       "<path style=\"fill-rule:nonzero;fill:rgb(99.253845%,90.000916%,95.489502%);fill-opacity:1;stroke-width:0.3985;stroke-linecap:butt;stroke-linejoin:miter;stroke:rgb(0%,0%,0%);stroke-opacity:1;stroke-miterlimit:10;\" d=\"M 28.345312 42.519688 L 28.345312 56.695469 L 42.521094 56.695469 L 42.521094 42.519688 Z M 28.345312 42.519688 \" transform=\"matrix(1,0,0,-1,0.1,70.965)\"/>\n",
       "</g>\n",
       "</svg>"
      ],
      "text/plain": [
       "PyObject <IPython.core.display.SVG object>"
      ]
     },
     "execution_count": 2,
     "metadata": {},
     "output_type": "execute_result"
    }
   ],
   "source": [
    "src=raw\"\\documentclass[tikz]{standalone}\n",
    "\n",
    "       \\begin{document}\n",
    "       \\begin{tikzpicture}[scale=0.5]\n",
    "       \\draw[help lines] grid (5, 5);\n",
    "       \\draw[fill=magenta!10] (1, 1) rectangle (2, 2);\n",
    "       \\draw[fill=magenta!10] (2, 1) rectangle (3, 2);\n",
    "       \\draw[fill=magenta!10] (3, 1) rectangle (4, 2);\n",
    "       \\draw[fill=magenta!10] (3, 2) rectangle (4, 3);\n",
    "       \\draw[fill=magenta!10] (2, 3) rectangle (3, 4);\n",
    "\n",
    "       \\end{tikzpicture}\n",
    "       \\end{document}\"\n",
    "\n",
    "itikz.fetch_or_compile_svg(src,\"\", \"/tmp\", false, false )"
   ]
  },
  {
   "cell_type": "markdown",
   "metadata": {},
   "source": [
    "# Main Functions"
   ]
  },
  {
   "cell_type": "markdown",
   "metadata": {},
   "source": [
    "The toolchain tex_command -> svg_converter -> crop_program\n",
    "succeeds or fails depending on tex engine, documentclass and packages.\n",
    "\n",
    "To set up the toolchain, run"
   ]
  },
  {
   "cell_type": "code",
   "execution_count": 3,
   "metadata": {},
   "outputs": [
    {
     "data": {
      "text/plain": [
       "\n",
       "build_commands( tex_program=[\"pdflatex\"], svg_converter=[[\"pdf2svg\"],\".pdf\"], use_xetex=False, use_dvi=False, crop=False, nexec=1):\n",
       "    "
      ]
     },
     "execution_count": 3,
     "metadata": {},
     "output_type": "execute_result"
    }
   ],
   "source": [
    "?itikz.build_commands"
   ]
  },
  {
   "cell_type": "markdown",
   "metadata": {},
   "source": [
    "Use the output of build_commands to invoke the toolchain on a tex document string"
   ]
  },
  {
   "cell_type": "code",
   "execution_count": 3,
   "metadata": {},
   "outputs": [
    {
     "data": {
      "text/plain": [
       "\n",
       "fetch_or_compile_svg(src, prefix='', working_dir=None, full_err=False, debug=False, tex_program=[\"pdflatex\"], svg_converter=[[\"pdf2svg\"],\".pdf\"], svg_crop=None, nexec=1):\n",
       "    "
      ]
     },
     "execution_count": 3,
     "metadata": {},
     "output_type": "execute_result"
    }
   ],
   "source": [
    "?itikz.fetch_or_compile_svg"
   ]
  }
 ],
 "metadata": {
  "kernelspec": {
   "display_name": "Julia 1.5.0",
   "language": "julia",
   "name": "julia-1.5"
  },
  "language_info": {
   "file_extension": ".jl",
   "mimetype": "application/julia",
   "name": "julia",
   "version": "1.5.0"
  }
 },
 "nbformat": 4,
 "nbformat_minor": 4
}
