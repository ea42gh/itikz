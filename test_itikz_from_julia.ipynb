{
 "cells": [
  {
   "cell_type": "code",
   "execution_count": null,
   "metadata": {},
   "outputs": [],
   "source": [
    "using PyCall\n",
    "itikz=pyimport(\"itikz\")\n",
    "nM   =pyimport(\"itikz.nicematrix\")\n",
    "jinja=pyimport(\"jinja2\");"
   ]
  },
  {
   "cell_type": "markdown",
   "metadata": {},
   "source": [
    "# Example"
   ]
  },
  {
   "cell_type": "code",
   "execution_count": null,
   "metadata": {},
   "outputs": [],
   "source": [
    "src=raw\"\\documentclass[tikz]{standalone}\n",
    "\n",
    "       \\begin{document}\n",
    "       \\begin{tikzpicture}[scale=0.5]\n",
    "       \\draw[help lines] grid (5, 5);\n",
    "       \\draw[fill=magenta!10] (1, 1) rectangle (2, 2);\n",
    "       \\draw[fill=magenta!10] (2, 1) rectangle (3, 2);\n",
    "       \\draw[fill=magenta!10] (3, 1) rectangle (4, 2);\n",
    "       \\draw[fill=magenta!10] (3, 2) rectangle (4, 3);\n",
    "       \\draw[fill=magenta!10] (2, 3) rectangle (3, 4);\n",
    "\n",
    "       \\end{tikzpicture}\n",
    "       \\end{document}\"\n",
    "\n",
    "itikz.fetch_or_compile_svg(src,\"\", \"/tmp\", false, false )"
   ]
  },
  {
   "cell_type": "markdown",
   "metadata": {},
   "source": [
    "# Main Functions"
   ]
  },
  {
   "cell_type": "markdown",
   "metadata": {},
   "source": [
    "The toolchain tex_command -> svg_converter -> crop_program\n",
    "succeeds or fails depending on tex engine, documentclass and packages.\n",
    "\n",
    "To set up the toolchain, run"
   ]
  },
  {
   "cell_type": "code",
   "execution_count": null,
   "metadata": {},
   "outputs": [],
   "source": [
    "?itikz.build_commands"
   ]
  },
  {
   "cell_type": "markdown",
   "metadata": {},
   "source": [
    "Use the output of build_commands to invoke the toolchain on a tex document string"
   ]
  },
  {
   "cell_type": "code",
   "execution_count": null,
   "metadata": {},
   "outputs": [],
   "source": [
    "?itikz.fetch_or_compile_svg"
   ]
  },
  {
   "cell_type": "markdown",
   "metadata": {},
   "source": [
    "# Commutative Diagram Example"
   ]
  },
  {
   "cell_type": "code",
   "execution_count": null,
   "metadata": {},
   "outputs": [],
   "source": [
    "src = raw\"\"\"\n",
    "\\documentclass[tikz]{standalone}\n",
    "\\usepackage{tikz-cd}\n",
    "\\usetikzlibrary{cd}\n",
    "\n",
    "\\begin{document}\n",
    "\\begin{tikzcd}\n",
    "T\n",
    "\\arrow[drr, bend left, \"x\"]\n",
    "\\arrow[ddr, bend right, \"y\"]\n",
    "\\arrow[dr, dotted, \"{(x,y)}\" description] & & \\\\\n",
    "& X \\times_Z Y \\arrow[r, \"p\"] \\arrow[d, \"q\"]\n",
    "& X \\arrow[d, \"f\"] \\\\\n",
    "& Y \\arrow[r, \"g\"]\n",
    "& Z\n",
    "\\end{tikzcd}\n",
    "\\end{document}\n",
    "\"\"\"\n",
    "\n",
    "cmds = itikz.build_commands_dict(use_xetex=false,use_dvi=false,crop=false)\n",
    "itikz.fetch_or_compile_svg(src, prefix=\"cd_\", working_dir=\"/tmp/itikz\", full_err=false, debug=false,\n",
    "                            tex_program=cmds[\"tex_program\"], svg_converter=cmds[\"svg_converter\"],svg_crop=cmds[\"svg_crop\"])"
   ]
  },
  {
   "cell_type": "markdown",
   "metadata": {},
   "source": [
    "# Linear Algebra Examples"
   ]
  },
  {
   "cell_type": "code",
   "execution_count": null,
   "metadata": {},
   "outputs": [],
   "source": [
    "# REQUIRES FIX: julia needs to pass a list of lists to python\n",
    "# workaround: pass to ge\n",
    "\n",
    "mat_rep = raw\"\"\"\n",
    "      &&                   A &                    b \\\\  \\noalign{\\vskip1.5mm}\n",
    "E_1   &&               E_1 A &                E_1 b \\\\  \\noalign{\\vskip1.5mm}\n",
    "E_2   &&           E_2 E_1 A &            E_2 E_1 b \\\\  \\noalign{\\vskip1.5mm}\n",
    "\\dots && \\dots               & \\dots                \\\\  \\noalign{\\vskip1.5mm}\n",
    "E_k   && E_k \\dots E_2 E_1 A &  E_k \\dots E_2 E_1 b\n",
    "\"\"\"\n",
    "submatrix_locs=[ [\"name=A1\", \"{1-3}{1-4}\"], [\"name=A2\", \"{2-3}{2-4}\"], [\"name=A3\", \"{3-3}{3-4}\"], [\"name=A4\", \"{5-3}{5-4}\"],\n",
    "                 [\"name=A5\", \"{2-1}{2-1}\"], [\"name=A6\", \"{3-1}{3-1}\"], [\"name=A7\", \"{5-1}{5-1}\"]\n",
    "               ]\n",
    "pivot_locs    = []\n",
    "txt_with_locs = []\n",
    "mat_format    = \"{ccrIr}\"\n",
    "\n",
    "cmds = itikz.build_commands_dict(use_xetex=true,use_dvi=false,crop=true)\n",
    "itikz.fetch_or_compile_svg( jinja.Template( nM.GE_TEMPLATE ).render( preamble=nM.preamble, extension=nM.extension,\n",
    "                                                                      mat_rep=mat_rep, mat_format=mat_format, submatrix_locs=submatrix_locs, pivot_locs=pivot_locs, txt_with_locs=txt_with_locs),\n",
    "                            prefix=\"test_\", working_dir=\"/tmp/itikz\", debug=false,\n",
    "                            keep_file=\"/tmp/itikz/foo\",\n",
    "                            tex_program=cmds[\"tex_program\"], svg_converter=cmds[\"svg_converter\"],svg_crop=cmds[\"svg_crop\"], nexec=1 )"
   ]
  },
  {
   "cell_type": "code",
   "execution_count": null,
   "metadata": {},
   "outputs": [],
   "source": [
    "using LinearAlgebra, Latexify\n",
    "function to_latex_str(x)\n",
    "    if x < 0  # fix up minus signs\n",
    "        replace( \"-\"*latexify(-x), \"\\$\"=>\"\")\n",
    "    else\n",
    "        replace( latexify(x), \"\\$\"=>\"\")\n",
    "    end\n",
    "end\n",
    "\n",
    "# -----------------------------------------------------------------------------------\n",
    "# Look at the following matrix\n",
    "A  = [ 1 3 1 4;  -2 5 5 6;  1 3 1 5;   2 2 8 2     ];               p1 = (0,0)\n",
    "E1 = [ 1 0 0 0;  2 1 0 0;  -1 0 1 0;  -2 0 0 1     ]; A1 = E1 * A;  p2 = (1,1)\n",
    "E2 = [ 1 0 0 0;  0 1 0 0;   0 0 1 0;   0 4//11 0 1 ]; A2 = E2 * A1; p3 = (2,3)\n",
    "E3 = [ 1 0 0 0;  0 1 0 0;   0 0 0 1;   0 0 1 0     ]; A3 = E3 * A2; p4 = (2,2)\n",
    "\n",
    "# -----------------------------------------------------------------------------------\n",
    "matrices = [[ :none,               to_latex_str.( A  )],\n",
    "            [ to_latex_str.( E1 ), to_latex_str.( A1 )],\n",
    "            [ to_latex_str.( E2 ), to_latex_str.( A2 )],\n",
    "            [ to_latex_str.( E3 ), to_latex_str.( A3 )] ]\n",
    "\n",
    "m3 = nM.MatrixGridLayout(matrices, extra_cols=1)\n",
    "\n",
    "m3.array_format_string_list( partitions = Dict( 1 => [3]) )\n",
    "m3.array_of_tex_entries(formater=x->x)\n",
    "red_box = nM.make_decorator( text_color=\"red\", boxed=true, bf=true )\n",
    "m3.decorate_tex_entries( 0,1, red_box, entries=[p1] )\n",
    "m3.decorate_tex_entries( 1,1, red_box, entries=[p1,p2] )\n",
    "m3.decorate_tex_entries( 2,1, red_box, entries=[p1,p2,p3] )\n",
    "m3.decorate_tex_entries( 3,1, red_box, entries=[p1,p2,p4] )\n",
    "\n",
    "#m3.nm_text(txt)\n",
    "\n",
    "m3.nm_submatrix_locs()\n",
    "m3.tex_repr()\n",
    "\n",
    "m3_code = m3.nm_latexdoc(template = nM.GE_TEMPLATE )\n",
    "cmds    = itikz.build_commands_dict(use_xetex=true,use_dvi=false,crop=true)\n",
    "\n",
    "h = itikz.fetch_or_compile_svg(\n",
    "        m3_code, prefix=\"m3_\", working_dir=\"/tmp\", debug=false,\n",
    "        tex_program=cmds[\"tex_program\"], svg_converter=cmds[\"svg_converter\"],svg_crop=cmds[\"svg_crop\"],\n",
    "        nexec=4, keep_file=\"m3_\" )\n",
    "h"
   ]
  },
  {
   "cell_type": "code",
   "execution_count": null,
   "metadata": {},
   "outputs": [],
   "source": [
    "print(m3_code)"
   ]
  },
  {
   "cell_type": "code",
   "execution_count": null,
   "metadata": {},
   "outputs": [],
   "source": [
    "A = [ 1  1 -1\n",
    "      1 -2  1\n",
    "     -1 -1  2\n",
    "      1  1 -1]\n",
    "W = [ 1  1  1\n",
    "      1 -3  0\n",
    "     -1 -1  2\n",
    "      1  1  1]\n",
    "\n",
    "h,mz = nM.gram_schmidt_qr( A, W )\n",
    "h"
   ]
  },
  {
   "cell_type": "code",
   "execution_count": null,
   "metadata": {},
   "outputs": [],
   "source": []
  }
 ],
 "metadata": {
  "kernelspec": {
   "display_name": "Julia 1.8.2",
   "language": "julia",
   "name": "julia-1.8"
  },
  "language_info": {
   "file_extension": ".jl",
   "mimetype": "application/julia",
   "name": "julia",
   "version": "1.5.3"
  }
 },
 "nbformat": 4,
 "nbformat_minor": 4
}
