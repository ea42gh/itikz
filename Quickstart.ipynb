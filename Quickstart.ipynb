{
 "cells": [
  {
   "cell_type": "markdown",
   "metadata": {},
   "source": [
    "# Quick Start"
   ]
  },
  {
   "cell_type": "markdown",
   "metadata": {},
   "source": [
    "> Note: If you're viewing this notebook on `nbviewer.jupyter.org` some of the SVGs render improperly, even across cell output contexts. The bug is not in `itikz`."
   ]
  },
  {
   "cell_type": "markdown",
   "metadata": {},
   "source": [
    "## Installation"
   ]
  },
  {
   "cell_type": "markdown",
   "metadata": {},
   "source": [
    "### Install TeX and pdf2svg"
   ]
  },
  {
   "cell_type": "markdown",
   "metadata": {},
   "source": [
    "This is platform-dependent. \n",
    "\n",
    "See:\n",
    "    \n",
    "- [Texlive](https://www.tug.org/texlive/)\n",
    "- [pdf2svg](http://www.cityinthesky.co.uk/opensource/pdf2svg/)"
   ]
  },
  {
   "cell_type": "markdown",
   "metadata": {},
   "source": [
    "### Install itikz\n",
    "\n",
    "```sh\n",
    "pip install itikz\n",
    "```"
   ]
  },
  {
   "cell_type": "markdown",
   "metadata": {},
   "source": [
    "## Usage"
   ]
  },
  {
   "cell_type": "markdown",
   "metadata": {},
   "source": [
    "Load itikz. It's a jupter extension."
   ]
  },
  {
   "cell_type": "code",
   "execution_count": 1,
   "metadata": {},
   "outputs": [],
   "source": [
    "%load_ext itikz"
   ]
  },
  {
   "cell_type": "markdown",
   "metadata": {},
   "source": [
    "Create a simple standalone document."
   ]
  },
  {
   "cell_type": "code",
   "execution_count": 2,
   "metadata": {},
   "outputs": [
    {
     "data": {
      "image/svg+xml": [
       "<svg height=\"141.931pt\" version=\"1.1\" viewBox=\"0 0 141.931 141.931\" width=\"141.931pt\" xmlns=\"http://www.w3.org/2000/svg\" xmlns:xlink=\"http://www.w3.org/1999/xlink\">\n",
       "<defs>\n",
       "<clipPath id=\"clip1\">\n",
       "  <path d=\"M 0 0 L 141.929688 0 L 141.929688 141.929688 L 0 141.929688 Z M 0 0 \"/>\n",
       "</clipPath>\n",
       "</defs>\n",
       "<g id=\"surface1\">\n",
       "<g clip-path=\"url(#clip1)\" clip-rule=\"nonzero\">\n",
       "<path d=\"M 0.0015625 -0.00103125 L 141.735938 -0.00103125 M 0.0015625 28.346625 L 141.735938 28.346625 M 0.0015625 56.694281 L 141.735938 56.694281 M 0.0015625 85.041938 L 141.735938 85.041938 M 0.0015625 113.385688 L 141.735938 113.385688 M 0.0015625 141.725531 L 141.735938 141.725531 M 0.0015625 -0.00103125 L 0.0015625 141.733344 M 28.345312 -0.00103125 L 28.345312 141.733344 M 56.692969 -0.00103125 L 56.692969 141.733344 M 85.040625 -0.00103125 L 85.040625 141.733344 M 113.388281 -0.00103125 L 113.388281 141.733344 M 141.724219 -0.00103125 L 141.724219 141.733344 \" style=\"fill:none;stroke-width:0.19925;stroke-linecap:butt;stroke-linejoin:miter;stroke:rgb(50%,50%,50%);stroke-opacity:1;stroke-miterlimit:10;\" transform=\"matrix(1,0,0,-1,0.1,141.831)\"/>\n",
       "</g>\n",
       "<path d=\"M 28.345312 28.346625 L 28.345312 56.694281 L 56.692969 56.694281 L 56.692969 28.346625 Z M 28.345312 28.346625 \" style=\"fill-rule:nonzero;fill:rgb(0%,0%,0%);fill-opacity:1;stroke-width:0.3985;stroke-linecap:butt;stroke-linejoin:miter;stroke:rgb(0%,0%,0%);stroke-opacity:1;stroke-miterlimit:10;\" transform=\"matrix(1,0,0,-1,0.1,141.831)\"/>\n",
       "<path d=\"M 56.692969 28.346625 L 56.692969 56.694281 L 85.040625 56.694281 L 85.040625 28.346625 Z M 56.692969 28.346625 \" style=\"fill-rule:nonzero;fill:rgb(0%,0%,0%);fill-opacity:1;stroke-width:0.3985;stroke-linecap:butt;stroke-linejoin:miter;stroke:rgb(0%,0%,0%);stroke-opacity:1;stroke-miterlimit:10;\" transform=\"matrix(1,0,0,-1,0.1,141.831)\"/>\n",
       "<path d=\"M 85.040625 28.346625 L 85.040625 56.694281 L 113.388281 56.694281 L 113.388281 28.346625 Z M 85.040625 28.346625 \" style=\"fill-rule:nonzero;fill:rgb(0%,0%,0%);fill-opacity:1;stroke-width:0.3985;stroke-linecap:butt;stroke-linejoin:miter;stroke:rgb(0%,0%,0%);stroke-opacity:1;stroke-miterlimit:10;\" transform=\"matrix(1,0,0,-1,0.1,141.831)\"/>\n",
       "<path d=\"M 85.040625 56.694281 L 85.040625 85.041938 L 113.388281 85.041938 L 113.388281 56.694281 Z M 85.040625 56.694281 \" style=\"fill-rule:nonzero;fill:rgb(0%,0%,0%);fill-opacity:1;stroke-width:0.3985;stroke-linecap:butt;stroke-linejoin:miter;stroke:rgb(0%,0%,0%);stroke-opacity:1;stroke-miterlimit:10;\" transform=\"matrix(1,0,0,-1,0.1,141.831)\"/>\n",
       "<path d=\"M 56.692969 85.041938 L 56.692969 113.385688 L 85.040625 113.385688 L 85.040625 85.041938 Z M 56.692969 85.041938 \" style=\"fill-rule:nonzero;fill:rgb(0%,0%,0%);fill-opacity:1;stroke-width:0.3985;stroke-linecap:butt;stroke-linejoin:miter;stroke:rgb(0%,0%,0%);stroke-opacity:1;stroke-miterlimit:10;\" transform=\"matrix(1,0,0,-1,0.1,141.831)\"/>\n",
       "</g>\n",
       "</svg>"
      ],
      "text/plain": [
       "<IPython.core.display.SVG object>"
      ]
     },
     "execution_count": 2,
     "metadata": {},
     "output_type": "execute_result"
    }
   ],
   "source": [
    "%%itikz\n",
    "\\documentclass[tikz]{standalone}\n",
    "\\begin{document}\n",
    "\\begin{tikzpicture}\n",
    "\\draw[help lines] grid (5, 5);\n",
    "\\draw[fill=black] (1, 1) rectangle (2, 2);\n",
    "\\draw[fill=black] (2, 1) rectangle (3, 2);\n",
    "\\draw[fill=black] (3, 1) rectangle (4, 2);\n",
    "\\draw[fill=black] (3, 2) rectangle (4, 3);\n",
    "\\draw[fill=black] (2, 3) rectangle (3, 4);\n",
    "\\end{tikzpicture}\n",
    "\\end{document}"
   ]
  },
  {
   "cell_type": "code",
   "execution_count": 3,
   "metadata": {},
   "outputs": [
    {
     "data": {
      "image/svg+xml": [
       "<svg height=\"141.931pt\" version=\"1.1\" viewBox=\"0 0 141.931 141.931\" width=\"141.931pt\" xmlns=\"http://www.w3.org/2000/svg\" xmlns:xlink=\"http://www.w3.org/1999/xlink\">\n",
       "<defs>\n",
       "<clipPath id=\"clip1\">\n",
       "  <path d=\"M 0 0 L 141.929688 0 L 141.929688 141.929688 L 0 141.929688 Z M 0 0 \"/>\n",
       "</clipPath>\n",
       "</defs>\n",
       "<g id=\"surface1\">\n",
       "<g clip-path=\"url(#clip1)\" clip-rule=\"nonzero\">\n",
       "<path d=\"M 0.0015625 -0.00103125 L 141.735938 -0.00103125 M 0.0015625 28.346625 L 141.735938 28.346625 M 0.0015625 56.694281 L 141.735938 56.694281 M 0.0015625 85.041938 L 141.735938 85.041938 M 0.0015625 113.385688 L 141.735938 113.385688 M 0.0015625 141.725531 L 141.735938 141.725531 M 0.0015625 -0.00103125 L 0.0015625 141.733344 M 28.345312 -0.00103125 L 28.345312 141.733344 M 56.692969 -0.00103125 L 56.692969 141.733344 M 85.040625 -0.00103125 L 85.040625 141.733344 M 113.388281 -0.00103125 L 113.388281 141.733344 M 141.724219 -0.00103125 L 141.724219 141.733344 \" style=\"fill:none;stroke-width:0.19925;stroke-linecap:butt;stroke-linejoin:miter;stroke:rgb(50%,50%,50%);stroke-opacity:1;stroke-miterlimit:10;\" transform=\"matrix(1,0,0,-1,0.1,141.831)\"/>\n",
       "</g>\n",
       "<path d=\"M 28.345312 28.346625 L 28.345312 56.694281 L 56.692969 56.694281 L 56.692969 28.346625 Z M 28.345312 28.346625 \" style=\"fill-rule:nonzero;fill:rgb(0%,0%,0%);fill-opacity:1;stroke-width:0.3985;stroke-linecap:butt;stroke-linejoin:miter;stroke:rgb(0%,0%,0%);stroke-opacity:1;stroke-miterlimit:10;\" transform=\"matrix(1,0,0,-1,0.1,141.831)\"/>\n",
       "<path d=\"M 56.692969 28.346625 L 56.692969 56.694281 L 85.040625 56.694281 L 85.040625 28.346625 Z M 56.692969 28.346625 \" style=\"fill-rule:nonzero;fill:rgb(0%,0%,0%);fill-opacity:1;stroke-width:0.3985;stroke-linecap:butt;stroke-linejoin:miter;stroke:rgb(0%,0%,0%);stroke-opacity:1;stroke-miterlimit:10;\" transform=\"matrix(1,0,0,-1,0.1,141.831)\"/>\n",
       "<path d=\"M 85.040625 28.346625 L 85.040625 56.694281 L 113.388281 56.694281 L 113.388281 28.346625 Z M 85.040625 28.346625 \" style=\"fill-rule:nonzero;fill:rgb(0%,0%,0%);fill-opacity:1;stroke-width:0.3985;stroke-linecap:butt;stroke-linejoin:miter;stroke:rgb(0%,0%,0%);stroke-opacity:1;stroke-miterlimit:10;\" transform=\"matrix(1,0,0,-1,0.1,141.831)\"/>\n",
       "<path d=\"M 85.040625 56.694281 L 85.040625 85.041938 L 113.388281 85.041938 L 113.388281 56.694281 Z M 85.040625 56.694281 \" style=\"fill-rule:nonzero;fill:rgb(0%,0%,0%);fill-opacity:1;stroke-width:0.3985;stroke-linecap:butt;stroke-linejoin:miter;stroke:rgb(0%,0%,0%);stroke-opacity:1;stroke-miterlimit:10;\" transform=\"matrix(1,0,0,-1,0.1,141.831)\"/>\n",
       "<path d=\"M 56.692969 85.041938 L 56.692969 113.385688 L 85.040625 113.385688 L 85.040625 85.041938 Z M 56.692969 85.041938 \" style=\"fill-rule:nonzero;fill:rgb(0%,0%,0%);fill-opacity:1;stroke-width:0.3985;stroke-linecap:butt;stroke-linejoin:miter;stroke:rgb(0%,0%,0%);stroke-opacity:1;stroke-miterlimit:10;\" transform=\"matrix(1,0,0,-1,0.1,141.831)\"/>\n",
       "</g>\n",
       "</svg>"
      ],
      "text/plain": [
       "<IPython.core.display.SVG object>"
      ]
     },
     "execution_count": 3,
     "metadata": {},
     "output_type": "execute_result"
    }
   ],
   "source": [
    "%%itikz\n",
    "\\documentclass[tikz]{standalone}\n",
    "\\begin{document}\n",
    "\\begin{tikzpicture}\n",
    "\\draw[help lines] grid (5, 5);\n",
    "\\draw[fill=black] (1, 1) rectangle (2, 2);\n",
    "\\draw[fill=black] (2, 1) rectangle (3, 2);\n",
    "\\draw[fill=black] (3, 1) rectangle (4, 2);\n",
    "\\draw[fill=black] (3, 2) rectangle (4, 3);\n",
    "\\draw[fill=black] (2, 3) rectangle (3, 4);\n",
    "\\end{tikzpicture}\n",
    "\\end{document}"
   ]
  },
  {
   "cell_type": "markdown",
   "metadata": {},
   "source": [
    "The extension:\n",
    "    \n",
    "- Writes the cell as a `.tex` file; \n",
    "- Runs `pdflatex` on the source;\n",
    "- Runs `pdf2svg` on the generated pdf;\n",
    "- Removes the intermediary artifacts.\n",
    "\n",
    "By default, the filenames are the `md5` hash of the source. The extension uses the hash to see if regeneration is necessessary. If it's not, it just loads the SVG file."
   ]
  },
  {
   "cell_type": "code",
   "execution_count": 4,
   "metadata": {},
   "outputs": [
    {
     "name": "stdout",
     "output_type": "stream",
     "text": [
      "03f400523adb0f7d2fea15f4c4d6ad6e.svg  03f400523adb0f7d2fea15f4c4d6ad6e.tex\n"
     ]
    }
   ],
   "source": [
    "!ls *.svg *.tex"
   ]
  },
  {
   "cell_type": "markdown",
   "metadata": {},
   "source": [
    "This is annoying sometimes if you want to look for a specific file outside of the notebook. So, you can prefix it, attaching semantical meaning."
   ]
  },
  {
   "cell_type": "code",
   "execution_count": 5,
   "metadata": {},
   "outputs": [
    {
     "data": {
      "image/svg+xml": [
       "<svg height=\"141.931pt\" version=\"1.1\" viewBox=\"0 0 141.931 141.931\" width=\"141.931pt\" xmlns=\"http://www.w3.org/2000/svg\" xmlns:xlink=\"http://www.w3.org/1999/xlink\">\n",
       "<defs>\n",
       "<clipPath id=\"clip1\">\n",
       "  <path d=\"M 0 0 L 141.929688 0 L 141.929688 141.929688 L 0 141.929688 Z M 0 0 \"/>\n",
       "</clipPath>\n",
       "</defs>\n",
       "<g id=\"surface1\">\n",
       "<g clip-path=\"url(#clip1)\" clip-rule=\"nonzero\">\n",
       "<path d=\"M 0.0015625 -0.00103125 L 141.735938 -0.00103125 M 0.0015625 28.346625 L 141.735938 28.346625 M 0.0015625 56.694281 L 141.735938 56.694281 M 0.0015625 85.041938 L 141.735938 85.041938 M 0.0015625 113.385688 L 141.735938 113.385688 M 0.0015625 141.725531 L 141.735938 141.725531 M 0.0015625 -0.00103125 L 0.0015625 141.733344 M 28.345312 -0.00103125 L 28.345312 141.733344 M 56.692969 -0.00103125 L 56.692969 141.733344 M 85.040625 -0.00103125 L 85.040625 141.733344 M 113.388281 -0.00103125 L 113.388281 141.733344 M 141.724219 -0.00103125 L 141.724219 141.733344 \" style=\"fill:none;stroke-width:0.19925;stroke-linecap:butt;stroke-linejoin:miter;stroke:rgb(50%,50%,50%);stroke-opacity:1;stroke-miterlimit:10;\" transform=\"matrix(1,0,0,-1,0.1,141.831)\"/>\n",
       "</g>\n",
       "<path d=\"M 28.345312 28.346625 L 28.345312 56.694281 L 56.692969 56.694281 L 56.692969 28.346625 Z M 28.345312 28.346625 \" style=\"fill-rule:nonzero;fill:rgb(0%,0%,0%);fill-opacity:1;stroke-width:0.3985;stroke-linecap:butt;stroke-linejoin:miter;stroke:rgb(0%,0%,0%);stroke-opacity:1;stroke-miterlimit:10;\" transform=\"matrix(1,0,0,-1,0.1,141.831)\"/>\n",
       "<path d=\"M 56.692969 28.346625 L 56.692969 56.694281 L 85.040625 56.694281 L 85.040625 28.346625 Z M 56.692969 28.346625 \" style=\"fill-rule:nonzero;fill:rgb(0%,0%,0%);fill-opacity:1;stroke-width:0.3985;stroke-linecap:butt;stroke-linejoin:miter;stroke:rgb(0%,0%,0%);stroke-opacity:1;stroke-miterlimit:10;\" transform=\"matrix(1,0,0,-1,0.1,141.831)\"/>\n",
       "<path d=\"M 85.040625 28.346625 L 85.040625 56.694281 L 113.388281 56.694281 L 113.388281 28.346625 Z M 85.040625 28.346625 \" style=\"fill-rule:nonzero;fill:rgb(0%,0%,0%);fill-opacity:1;stroke-width:0.3985;stroke-linecap:butt;stroke-linejoin:miter;stroke:rgb(0%,0%,0%);stroke-opacity:1;stroke-miterlimit:10;\" transform=\"matrix(1,0,0,-1,0.1,141.831)\"/>\n",
       "<path d=\"M 85.040625 56.694281 L 85.040625 85.041938 L 113.388281 85.041938 L 113.388281 56.694281 Z M 85.040625 56.694281 \" style=\"fill-rule:nonzero;fill:rgb(0%,0%,0%);fill-opacity:1;stroke-width:0.3985;stroke-linecap:butt;stroke-linejoin:miter;stroke:rgb(0%,0%,0%);stroke-opacity:1;stroke-miterlimit:10;\" transform=\"matrix(1,0,0,-1,0.1,141.831)\"/>\n",
       "<path d=\"M 56.692969 85.041938 L 56.692969 113.385688 L 85.040625 113.385688 L 85.040625 85.041938 Z M 56.692969 85.041938 \" style=\"fill-rule:nonzero;fill:rgb(0%,0%,0%);fill-opacity:1;stroke-width:0.3985;stroke-linecap:butt;stroke-linejoin:miter;stroke:rgb(0%,0%,0%);stroke-opacity:1;stroke-miterlimit:10;\" transform=\"matrix(1,0,0,-1,0.1,141.831)\"/>\n",
       "</g>\n",
       "</svg>"
      ],
      "text/plain": [
       "<IPython.core.display.SVG object>"
      ]
     },
     "execution_count": 5,
     "metadata": {},
     "output_type": "execute_result"
    }
   ],
   "source": [
    "%%itikz --file-prefix conway-\n",
    "\n",
    "\\documentclass[tikz]{standalone}\n",
    "\\begin{document}\n",
    "\\begin{tikzpicture}\n",
    "\\draw[help lines] grid (5, 5);\n",
    "\\draw[fill=black] (1, 1) rectangle (2, 2);\n",
    "\\draw[fill=black] (2, 1) rectangle (3, 2);\n",
    "\\draw[fill=black] (3, 1) rectangle (4, 2);\n",
    "\\draw[fill=black] (3, 2) rectangle (4, 3);\n",
    "\\draw[fill=black] (2, 3) rectangle (3, 4);\n",
    "\\end{tikzpicture}\n",
    "\\end{document}"
   ]
  },
  {
   "cell_type": "code",
   "execution_count": 6,
   "metadata": {},
   "outputs": [
    {
     "name": "stdout",
     "output_type": "stream",
     "text": [
      "03f400523adb0f7d2fea15f4c4d6ad6e.svg\n",
      "03f400523adb0f7d2fea15f4c4d6ad6e.tex\n",
      "conway-04c3ec160176559dffa49ef2ac7746f2.svg\n",
      "conway-04c3ec160176559dffa49ef2ac7746f2.tex\n"
     ]
    }
   ],
   "source": [
    "!ls *.svg *.tex"
   ]
  },
  {
   "cell_type": "markdown",
   "metadata": {},
   "source": [
    "Of course, writing TikZ files entails lots of tiny tweaks, resulting in a lot of accumulated cruft. For development, you probably want to use your system temp directory to keep your project directory clean."
   ]
  },
  {
   "cell_type": "code",
   "execution_count": 7,
   "metadata": {},
   "outputs": [],
   "source": [
    "!rm -f *.svg *.tex"
   ]
  },
  {
   "cell_type": "code",
   "execution_count": 8,
   "metadata": {},
   "outputs": [
    {
     "data": {
      "image/svg+xml": [
       "<svg height=\"141.931pt\" version=\"1.1\" viewBox=\"0 0 141.931 141.931\" width=\"141.931pt\" xmlns=\"http://www.w3.org/2000/svg\" xmlns:xlink=\"http://www.w3.org/1999/xlink\">\n",
       "<defs>\n",
       "<clipPath id=\"clip1\">\n",
       "  <path d=\"M 0 0 L 141.929688 0 L 141.929688 141.929688 L 0 141.929688 Z M 0 0 \"/>\n",
       "</clipPath>\n",
       "</defs>\n",
       "<g id=\"surface1\">\n",
       "<g clip-path=\"url(#clip1)\" clip-rule=\"nonzero\">\n",
       "<path d=\"M 0.0015625 -0.00103125 L 141.735938 -0.00103125 M 0.0015625 28.346625 L 141.735938 28.346625 M 0.0015625 56.694281 L 141.735938 56.694281 M 0.0015625 85.041938 L 141.735938 85.041938 M 0.0015625 113.385688 L 141.735938 113.385688 M 0.0015625 141.725531 L 141.735938 141.725531 M 0.0015625 -0.00103125 L 0.0015625 141.733344 M 28.345312 -0.00103125 L 28.345312 141.733344 M 56.692969 -0.00103125 L 56.692969 141.733344 M 85.040625 -0.00103125 L 85.040625 141.733344 M 113.388281 -0.00103125 L 113.388281 141.733344 M 141.724219 -0.00103125 L 141.724219 141.733344 \" style=\"fill:none;stroke-width:0.19925;stroke-linecap:butt;stroke-linejoin:miter;stroke:rgb(50%,50%,50%);stroke-opacity:1;stroke-miterlimit:10;\" transform=\"matrix(1,0,0,-1,0.1,141.831)\"/>\n",
       "</g>\n",
       "<path d=\"M 28.345312 28.346625 L 28.345312 56.694281 L 56.692969 56.694281 L 56.692969 28.346625 Z M 28.345312 28.346625 \" style=\"fill-rule:nonzero;fill:rgb(0%,0%,0%);fill-opacity:1;stroke-width:0.3985;stroke-linecap:butt;stroke-linejoin:miter;stroke:rgb(0%,0%,0%);stroke-opacity:1;stroke-miterlimit:10;\" transform=\"matrix(1,0,0,-1,0.1,141.831)\"/>\n",
       "<path d=\"M 56.692969 28.346625 L 56.692969 56.694281 L 85.040625 56.694281 L 85.040625 28.346625 Z M 56.692969 28.346625 \" style=\"fill-rule:nonzero;fill:rgb(0%,0%,0%);fill-opacity:1;stroke-width:0.3985;stroke-linecap:butt;stroke-linejoin:miter;stroke:rgb(0%,0%,0%);stroke-opacity:1;stroke-miterlimit:10;\" transform=\"matrix(1,0,0,-1,0.1,141.831)\"/>\n",
       "<path d=\"M 85.040625 28.346625 L 85.040625 56.694281 L 113.388281 56.694281 L 113.388281 28.346625 Z M 85.040625 28.346625 \" style=\"fill-rule:nonzero;fill:rgb(0%,0%,0%);fill-opacity:1;stroke-width:0.3985;stroke-linecap:butt;stroke-linejoin:miter;stroke:rgb(0%,0%,0%);stroke-opacity:1;stroke-miterlimit:10;\" transform=\"matrix(1,0,0,-1,0.1,141.831)\"/>\n",
       "<path d=\"M 85.040625 56.694281 L 85.040625 85.041938 L 113.388281 85.041938 L 113.388281 56.694281 Z M 85.040625 56.694281 \" style=\"fill-rule:nonzero;fill:rgb(0%,0%,0%);fill-opacity:1;stroke-width:0.3985;stroke-linecap:butt;stroke-linejoin:miter;stroke:rgb(0%,0%,0%);stroke-opacity:1;stroke-miterlimit:10;\" transform=\"matrix(1,0,0,-1,0.1,141.831)\"/>\n",
       "<path d=\"M 56.692969 85.041938 L 56.692969 113.385688 L 85.040625 113.385688 L 85.040625 85.041938 Z M 56.692969 85.041938 \" style=\"fill-rule:nonzero;fill:rgb(0%,0%,0%);fill-opacity:1;stroke-width:0.3985;stroke-linecap:butt;stroke-linejoin:miter;stroke:rgb(0%,0%,0%);stroke-opacity:1;stroke-miterlimit:10;\" transform=\"matrix(1,0,0,-1,0.1,141.831)\"/>\n",
       "</g>\n",
       "</svg>"
      ],
      "text/plain": [
       "<IPython.core.display.SVG object>"
      ]
     },
     "execution_count": 8,
     "metadata": {},
     "output_type": "execute_result"
    }
   ],
   "source": [
    "%%itikz --temp-dir --file-prefix conway-\n",
    "\n",
    "\\documentclass[tikz]{standalone}\n",
    "\\begin{document}\n",
    "\\begin{tikzpicture}\n",
    "\\draw[help lines] grid (5, 5);\n",
    "\\draw[fill=black] (1, 1) rectangle (2, 2);\n",
    "\\draw[fill=black] (2, 1) rectangle (3, 2);\n",
    "\\draw[fill=black] (3, 1) rectangle (4, 2);\n",
    "\\draw[fill=black] (3, 2) rectangle (4, 3);\n",
    "\\draw[fill=black] (2, 3) rectangle (3, 4);\n",
    "\\end{tikzpicture}\n",
    "\\end{document}"
   ]
  },
  {
   "cell_type": "code",
   "execution_count": 9,
   "metadata": {},
   "outputs": [
    {
     "name": "stdout",
     "output_type": "stream",
     "text": [
      "ls: cannot access '*.svg': No such file or directory\n",
      "ls: cannot access '*.tex': No such file or directory\n"
     ]
    }
   ],
   "source": [
    "!ls *.svg *.tex"
   ]
  },
  {
   "cell_type": "markdown",
   "metadata": {},
   "source": [
    "To make it easier to switch from development to production mode, setting the `ITIKZ_TEMP_DIR` environmental to any value enables `--temp-dir`."
   ]
  },
  {
   "cell_type": "code",
   "execution_count": 10,
   "metadata": {},
   "outputs": [],
   "source": [
    "import os\n",
    "os.environ['ITIKZ_TEMP_DIR'] = '1'"
   ]
  },
  {
   "cell_type": "code",
   "execution_count": 11,
   "metadata": {},
   "outputs": [
    {
     "data": {
      "image/svg+xml": [
       "<svg height=\"141.931pt\" version=\"1.1\" viewBox=\"0 0 141.931 141.931\" width=\"141.931pt\" xmlns=\"http://www.w3.org/2000/svg\" xmlns:xlink=\"http://www.w3.org/1999/xlink\">\n",
       "<defs>\n",
       "<clipPath id=\"clip1\">\n",
       "  <path d=\"M 0 0 L 141.929688 0 L 141.929688 141.929688 L 0 141.929688 Z M 0 0 \"/>\n",
       "</clipPath>\n",
       "</defs>\n",
       "<g id=\"surface1\">\n",
       "<g clip-path=\"url(#clip1)\" clip-rule=\"nonzero\">\n",
       "<path d=\"M 0.0015625 -0.00103125 L 141.735938 -0.00103125 M 0.0015625 28.346625 L 141.735938 28.346625 M 0.0015625 56.694281 L 141.735938 56.694281 M 0.0015625 85.041938 L 141.735938 85.041938 M 0.0015625 113.385688 L 141.735938 113.385688 M 0.0015625 141.725531 L 141.735938 141.725531 M 0.0015625 -0.00103125 L 0.0015625 141.733344 M 28.345312 -0.00103125 L 28.345312 141.733344 M 56.692969 -0.00103125 L 56.692969 141.733344 M 85.040625 -0.00103125 L 85.040625 141.733344 M 113.388281 -0.00103125 L 113.388281 141.733344 M 141.724219 -0.00103125 L 141.724219 141.733344 \" style=\"fill:none;stroke-width:0.19925;stroke-linecap:butt;stroke-linejoin:miter;stroke:rgb(50%,50%,50%);stroke-opacity:1;stroke-miterlimit:10;\" transform=\"matrix(1,0,0,-1,0.1,141.831)\"/>\n",
       "</g>\n",
       "<path d=\"M 28.345312 28.346625 L 28.345312 56.694281 L 56.692969 56.694281 L 56.692969 28.346625 Z M 28.345312 28.346625 \" style=\"fill-rule:nonzero;fill:rgb(89.99939%,89.99939%,100%);fill-opacity:1;stroke-width:0.3985;stroke-linecap:butt;stroke-linejoin:miter;stroke:rgb(0%,0%,0%);stroke-opacity:1;stroke-miterlimit:10;\" transform=\"matrix(1,0,0,-1,0.1,141.831)\"/>\n",
       "<path d=\"M 56.692969 28.346625 L 56.692969 56.694281 L 85.040625 56.694281 L 85.040625 28.346625 Z M 56.692969 28.346625 \" style=\"fill-rule:nonzero;fill:rgb(89.99939%,89.99939%,100%);fill-opacity:1;stroke-width:0.3985;stroke-linecap:butt;stroke-linejoin:miter;stroke:rgb(0%,0%,0%);stroke-opacity:1;stroke-miterlimit:10;\" transform=\"matrix(1,0,0,-1,0.1,141.831)\"/>\n",
       "<path d=\"M 85.040625 28.346625 L 85.040625 56.694281 L 113.388281 56.694281 L 113.388281 28.346625 Z M 85.040625 28.346625 \" style=\"fill-rule:nonzero;fill:rgb(89.99939%,89.99939%,100%);fill-opacity:1;stroke-width:0.3985;stroke-linecap:butt;stroke-linejoin:miter;stroke:rgb(0%,0%,0%);stroke-opacity:1;stroke-miterlimit:10;\" transform=\"matrix(1,0,0,-1,0.1,141.831)\"/>\n",
       "<path d=\"M 85.040625 56.694281 L 85.040625 85.041938 L 113.388281 85.041938 L 113.388281 56.694281 Z M 85.040625 56.694281 \" style=\"fill-rule:nonzero;fill:rgb(89.99939%,89.99939%,100%);fill-opacity:1;stroke-width:0.3985;stroke-linecap:butt;stroke-linejoin:miter;stroke:rgb(0%,0%,0%);stroke-opacity:1;stroke-miterlimit:10;\" transform=\"matrix(1,0,0,-1,0.1,141.831)\"/>\n",
       "<path d=\"M 56.692969 85.041938 L 56.692969 113.385688 L 85.040625 113.385688 L 85.040625 85.041938 Z M 56.692969 85.041938 \" style=\"fill-rule:nonzero;fill:rgb(89.99939%,89.99939%,100%);fill-opacity:1;stroke-width:0.3985;stroke-linecap:butt;stroke-linejoin:miter;stroke:rgb(0%,0%,0%);stroke-opacity:1;stroke-miterlimit:10;\" transform=\"matrix(1,0,0,-1,0.1,141.831)\"/>\n",
       "</g>\n",
       "</svg>"
      ],
      "text/plain": [
       "<IPython.core.display.SVG object>"
      ]
     },
     "execution_count": 11,
     "metadata": {},
     "output_type": "execute_result"
    }
   ],
   "source": [
    "%%itikz --file-prefix conway-\n",
    "\\documentclass[tikz]{standalone}\n",
    "\\begin{document}\n",
    "\\begin{tikzpicture}\n",
    "\\draw[help lines] grid (5, 5);\n",
    "\\draw[fill=blue!10] (1, 1) rectangle (2, 2);\n",
    "\\draw[fill=blue!10] (2, 1) rectangle (3, 2);\n",
    "\\draw[fill=blue!10] (3, 1) rectangle (4, 2);\n",
    "\\draw[fill=blue!10] (3, 2) rectangle (4, 3);\n",
    "\\draw[fill=blue!10] (2, 3) rectangle (3, 4);\n",
    "\\end{tikzpicture}\n",
    "\\end{document}"
   ]
  },
  {
   "cell_type": "code",
   "execution_count": 12,
   "metadata": {},
   "outputs": [
    {
     "name": "stdout",
     "output_type": "stream",
     "text": [
      "ls: cannot access '*.svg': No such file or directory\n",
      "ls: cannot access '*.tex': No such file or directory\n"
     ]
    }
   ],
   "source": [
    "!ls *.svg *.tex"
   ]
  },
  {
   "cell_type": "code",
   "execution_count": 13,
   "metadata": {},
   "outputs": [],
   "source": [
    "del os.environ['ITIKZ_TEMP_DIR']"
   ]
  },
  {
   "cell_type": "markdown",
   "metadata": {},
   "source": [
    "Sometimes, you want to generate a TikZ document from a string, rather than a cell. You can do that using the line magic."
   ]
  },
  {
   "cell_type": "code",
   "execution_count": 14,
   "metadata": {},
   "outputs": [],
   "source": [
    "conway_str = r\"\"\"\\documentclass[tikz]{standalone}\n",
    "\\begin{document}\n",
    "\\begin{tikzpicture}\n",
    "\\draw[help lines] grid (5, 5);\n",
    "\\draw[fill=magenta] (1, 1) rectangle (2, 2);\n",
    "\\draw[fill=magenta] (2, 1) rectangle (3, 2);\n",
    "\\draw[fill=magenta] (3, 1) rectangle (4, 2);\n",
    "\\draw[fill=magenta] (3, 2) rectangle (4, 3);\n",
    "\\draw[fill=magenta] (2, 3) rectangle (3, 4);\n",
    "\\end{tikzpicture}\n",
    "\\end{document}\"\"\""
   ]
  },
  {
   "cell_type": "code",
   "execution_count": 15,
   "metadata": {},
   "outputs": [
    {
     "data": {
      "image/svg+xml": [
       "<svg height=\"141.931pt\" version=\"1.1\" viewBox=\"0 0 141.931 141.931\" width=\"141.931pt\" xmlns=\"http://www.w3.org/2000/svg\" xmlns:xlink=\"http://www.w3.org/1999/xlink\">\n",
       "<defs>\n",
       "<clipPath id=\"clip1\">\n",
       "  <path d=\"M 0 0 L 141.929688 0 L 141.929688 141.929688 L 0 141.929688 Z M 0 0 \"/>\n",
       "</clipPath>\n",
       "</defs>\n",
       "<g id=\"surface1\">\n",
       "<g clip-path=\"url(#clip1)\" clip-rule=\"nonzero\">\n",
       "<path d=\"M 0.0015625 -0.00103125 L 141.735938 -0.00103125 M 0.0015625 28.346625 L 141.735938 28.346625 M 0.0015625 56.694281 L 141.735938 56.694281 M 0.0015625 85.041938 L 141.735938 85.041938 M 0.0015625 113.385688 L 141.735938 113.385688 M 0.0015625 141.725531 L 141.735938 141.725531 M 0.0015625 -0.00103125 L 0.0015625 141.733344 M 28.345312 -0.00103125 L 28.345312 141.733344 M 56.692969 -0.00103125 L 56.692969 141.733344 M 85.040625 -0.00103125 L 85.040625 141.733344 M 113.388281 -0.00103125 L 113.388281 141.733344 M 141.724219 -0.00103125 L 141.724219 141.733344 \" style=\"fill:none;stroke-width:0.19925;stroke-linecap:butt;stroke-linejoin:miter;stroke:rgb(50%,50%,50%);stroke-opacity:1;stroke-miterlimit:10;\" transform=\"matrix(1,0,0,-1,0.1,141.831)\"/>\n",
       "</g>\n",
       "<path d=\"M 28.345312 28.346625 L 28.345312 56.694281 L 56.692969 56.694281 L 56.692969 28.346625 Z M 28.345312 28.346625 \" style=\"fill-rule:nonzero;fill:rgb(92.549133%,0%,54.899597%);fill-opacity:1;stroke-width:0.3985;stroke-linecap:butt;stroke-linejoin:miter;stroke:rgb(0%,0%,0%);stroke-opacity:1;stroke-miterlimit:10;\" transform=\"matrix(1,0,0,-1,0.1,141.831)\"/>\n",
       "<path d=\"M 56.692969 28.346625 L 56.692969 56.694281 L 85.040625 56.694281 L 85.040625 28.346625 Z M 56.692969 28.346625 \" style=\"fill-rule:nonzero;fill:rgb(92.549133%,0%,54.899597%);fill-opacity:1;stroke-width:0.3985;stroke-linecap:butt;stroke-linejoin:miter;stroke:rgb(0%,0%,0%);stroke-opacity:1;stroke-miterlimit:10;\" transform=\"matrix(1,0,0,-1,0.1,141.831)\"/>\n",
       "<path d=\"M 85.040625 28.346625 L 85.040625 56.694281 L 113.388281 56.694281 L 113.388281 28.346625 Z M 85.040625 28.346625 \" style=\"fill-rule:nonzero;fill:rgb(92.549133%,0%,54.899597%);fill-opacity:1;stroke-width:0.3985;stroke-linecap:butt;stroke-linejoin:miter;stroke:rgb(0%,0%,0%);stroke-opacity:1;stroke-miterlimit:10;\" transform=\"matrix(1,0,0,-1,0.1,141.831)\"/>\n",
       "<path d=\"M 85.040625 56.694281 L 85.040625 85.041938 L 113.388281 85.041938 L 113.388281 56.694281 Z M 85.040625 56.694281 \" style=\"fill-rule:nonzero;fill:rgb(92.549133%,0%,54.899597%);fill-opacity:1;stroke-width:0.3985;stroke-linecap:butt;stroke-linejoin:miter;stroke:rgb(0%,0%,0%);stroke-opacity:1;stroke-miterlimit:10;\" transform=\"matrix(1,0,0,-1,0.1,141.831)\"/>\n",
       "<path d=\"M 56.692969 85.041938 L 56.692969 113.385688 L 85.040625 113.385688 L 85.040625 85.041938 Z M 56.692969 85.041938 \" style=\"fill-rule:nonzero;fill:rgb(92.549133%,0%,54.899597%);fill-opacity:1;stroke-width:0.3985;stroke-linecap:butt;stroke-linejoin:miter;stroke:rgb(0%,0%,0%);stroke-opacity:1;stroke-miterlimit:10;\" transform=\"matrix(1,0,0,-1,0.1,141.831)\"/>\n",
       "</g>\n",
       "</svg>"
      ],
      "text/plain": [
       "<IPython.core.display.SVG object>"
      ]
     },
     "execution_count": 15,
     "metadata": {},
     "output_type": "execute_result"
    }
   ],
   "source": [
    "%itikz --temp-dir --file-prefix conway- conway_str"
   ]
  },
  {
   "cell_type": "markdown",
   "metadata": {},
   "source": [
    "Generally, string-generation is bad. One useful thing you can do without it is use an implicit `tikzpicture` environment. "
   ]
  },
  {
   "cell_type": "code",
   "execution_count": 16,
   "metadata": {},
   "outputs": [
    {
     "data": {
      "image/svg+xml": [
       "<svg height=\"141.931pt\" version=\"1.1\" viewBox=\"0 0 141.931 141.931\" width=\"141.931pt\" xmlns=\"http://www.w3.org/2000/svg\" xmlns:xlink=\"http://www.w3.org/1999/xlink\">\n",
       "<defs>\n",
       "<clipPath id=\"clip1\">\n",
       "  <path d=\"M 0 0 L 141.929688 0 L 141.929688 141.929688 L 0 141.929688 Z M 0 0 \"/>\n",
       "</clipPath>\n",
       "</defs>\n",
       "<g id=\"surface1\">\n",
       "<g clip-path=\"url(#clip1)\" clip-rule=\"nonzero\">\n",
       "<path d=\"M 0.0015625 -0.00103125 L 141.735938 -0.00103125 M 0.0015625 28.346625 L 141.735938 28.346625 M 0.0015625 56.694281 L 141.735938 56.694281 M 0.0015625 85.041938 L 141.735938 85.041938 M 0.0015625 113.385688 L 141.735938 113.385688 M 0.0015625 141.725531 L 141.735938 141.725531 M 0.0015625 -0.00103125 L 0.0015625 141.733344 M 28.345312 -0.00103125 L 28.345312 141.733344 M 56.692969 -0.00103125 L 56.692969 141.733344 M 85.040625 -0.00103125 L 85.040625 141.733344 M 113.388281 -0.00103125 L 113.388281 141.733344 M 141.724219 -0.00103125 L 141.724219 141.733344 \" style=\"fill:none;stroke-width:0.19925;stroke-linecap:butt;stroke-linejoin:miter;stroke:rgb(50%,50%,50%);stroke-opacity:1;stroke-miterlimit:10;\" transform=\"matrix(1,0,0,-1,0.1,141.831)\"/>\n",
       "</g>\n",
       "<path d=\"M 28.345312 28.346625 L 28.345312 56.694281 L 56.692969 56.694281 L 56.692969 28.346625 Z M 28.345312 28.346625 \" style=\"fill-rule:nonzero;fill:rgb(99.253845%,90.000916%,95.489502%);fill-opacity:1;stroke-width:0.3985;stroke-linecap:butt;stroke-linejoin:miter;stroke:rgb(0%,0%,0%);stroke-opacity:1;stroke-miterlimit:10;\" transform=\"matrix(1,0,0,-1,0.1,141.831)\"/>\n",
       "<path d=\"M 56.692969 28.346625 L 56.692969 56.694281 L 85.040625 56.694281 L 85.040625 28.346625 Z M 56.692969 28.346625 \" style=\"fill-rule:nonzero;fill:rgb(99.253845%,90.000916%,95.489502%);fill-opacity:1;stroke-width:0.3985;stroke-linecap:butt;stroke-linejoin:miter;stroke:rgb(0%,0%,0%);stroke-opacity:1;stroke-miterlimit:10;\" transform=\"matrix(1,0,0,-1,0.1,141.831)\"/>\n",
       "<path d=\"M 85.040625 28.346625 L 85.040625 56.694281 L 113.388281 56.694281 L 113.388281 28.346625 Z M 85.040625 28.346625 \" style=\"fill-rule:nonzero;fill:rgb(99.253845%,90.000916%,95.489502%);fill-opacity:1;stroke-width:0.3985;stroke-linecap:butt;stroke-linejoin:miter;stroke:rgb(0%,0%,0%);stroke-opacity:1;stroke-miterlimit:10;\" transform=\"matrix(1,0,0,-1,0.1,141.831)\"/>\n",
       "<path d=\"M 85.040625 56.694281 L 85.040625 85.041938 L 113.388281 85.041938 L 113.388281 56.694281 Z M 85.040625 56.694281 \" style=\"fill-rule:nonzero;fill:rgb(99.253845%,90.000916%,95.489502%);fill-opacity:1;stroke-width:0.3985;stroke-linecap:butt;stroke-linejoin:miter;stroke:rgb(0%,0%,0%);stroke-opacity:1;stroke-miterlimit:10;\" transform=\"matrix(1,0,0,-1,0.1,141.831)\"/>\n",
       "<path d=\"M 56.692969 85.041938 L 56.692969 113.385688 L 85.040625 113.385688 L 85.040625 85.041938 Z M 56.692969 85.041938 \" style=\"fill-rule:nonzero;fill:rgb(99.253845%,90.000916%,95.489502%);fill-opacity:1;stroke-width:0.3985;stroke-linecap:butt;stroke-linejoin:miter;stroke:rgb(0%,0%,0%);stroke-opacity:1;stroke-miterlimit:10;\" transform=\"matrix(1,0,0,-1,0.1,141.831)\"/>\n",
       "</g>\n",
       "</svg>"
      ],
      "text/plain": [
       "<IPython.core.display.SVG object>"
      ]
     },
     "execution_count": 16,
     "metadata": {},
     "output_type": "execute_result"
    }
   ],
   "source": [
    "%%itikz --file-prefix implicit-demo- --implicit-pic \n",
    "\\draw[help lines] grid (5, 5);\n",
    "\\draw[fill=magenta!10] (1, 1) rectangle (2, 2);\n",
    "\\draw[fill=magenta!10] (2, 1) rectangle (3, 2);\n",
    "\\draw[fill=magenta!10] (3, 1) rectangle (4, 2);\n",
    "\\draw[fill=magenta!10] (3, 2) rectangle (4, 3);\n",
    "\\draw[fill=magenta!10] (2, 3) rectangle (3, 4);"
   ]
  },
  {
   "cell_type": "markdown",
   "metadata": {},
   "source": [
    "Note that the resulting `tex` artifact is a full document so you can use it later when writing a `tex` document."
   ]
  },
  {
   "cell_type": "code",
   "execution_count": 17,
   "metadata": {},
   "outputs": [
    {
     "name": "stdout",
     "output_type": "stream",
     "text": [
      "cat: implicit-demo-a6fdb3ecbc22048b7f090c20b5039b38.tex: No such file or directory\n"
     ]
    }
   ],
   "source": [
    "!cat implicit-demo-a6fdb3ecbc22048b7f090c20b5039b38.tex"
   ]
  },
  {
   "cell_type": "code",
   "execution_count": 18,
   "metadata": {},
   "outputs": [],
   "source": [
    "!rm implicit-demo*"
   ]
  },
  {
   "cell_type": "markdown",
   "metadata": {},
   "source": [
    "In an `--implicit-pic`, it's often useful to:\n",
    "\n",
    "- Set the `\\tikzpicture[scale=X]` via `--scale=<X>` while iterating.\n",
    "- Set the `\\usepackage{X,Y,Z}` via `--tex-packages=<X,Y,Z>`\n",
    "- Set the `\\usetizlibrary{X,Y,Z}` via `--tiz-libraries=<X,Y,Z>`"
   ]
  },
  {
   "cell_type": "code",
   "execution_count": 19,
   "metadata": {},
   "outputs": [
    {
     "data": {
      "image/svg+xml": [
       "<svg height=\"186.674pt\" version=\"1.1\" viewBox=\"0 0 208.585 186.674\" width=\"208.585pt\" xmlns=\"http://www.w3.org/2000/svg\" xmlns:xlink=\"http://www.w3.org/1999/xlink\">\n",
       "<defs>\n",
       "<g>\n",
       "<symbol id=\"glyph0-0\" overflow=\"visible\">\n",
       "<path d=\"\" style=\"stroke:none;\"/>\n",
       "</symbol>\n",
       "<symbol id=\"glyph0-1\" overflow=\"visible\">\n",
       "<path d=\"M 3.3125 -0.75 C 3.359375 -0.359375 3.625 0.0625 4.09375 0.0625 C 4.3125 0.0625 4.921875 -0.078125 4.921875 -0.890625 L 4.921875 -1.453125 L 4.671875 -1.453125 L 4.671875 -0.890625 C 4.671875 -0.3125 4.421875 -0.25 4.3125 -0.25 C 3.984375 -0.25 3.9375 -0.703125 3.9375 -0.75 L 3.9375 -2.734375 C 3.9375 -3.15625 3.9375 -3.546875 3.578125 -3.921875 C 3.1875 -4.3125 2.6875 -4.46875 2.21875 -4.46875 C 1.390625 -4.46875 0.703125 -4 0.703125 -3.34375 C 0.703125 -3.046875 0.90625 -2.875 1.171875 -2.875 C 1.453125 -2.875 1.625 -3.078125 1.625 -3.328125 C 1.625 -3.453125 1.578125 -3.78125 1.109375 -3.78125 C 1.390625 -4.140625 1.875 -4.25 2.1875 -4.25 C 2.6875 -4.25 3.25 -3.859375 3.25 -2.96875 L 3.25 -2.609375 C 2.734375 -2.578125 2.046875 -2.546875 1.421875 -2.25 C 0.671875 -1.90625 0.421875 -1.390625 0.421875 -0.953125 C 0.421875 -0.140625 1.390625 0.109375 2.015625 0.109375 C 2.671875 0.109375 3.125 -0.296875 3.3125 -0.75 Z M 3.25 -2.390625 L 3.25 -1.390625 C 3.25 -0.453125 2.53125 -0.109375 2.078125 -0.109375 C 1.59375 -0.109375 1.1875 -0.453125 1.1875 -0.953125 C 1.1875 -1.5 1.609375 -2.328125 3.25 -2.390625 Z M 3.25 -2.390625 \" style=\"stroke:none;\"/>\n",
       "</symbol>\n",
       "<symbol id=\"glyph0-2\" overflow=\"visible\">\n",
       "<path d=\"M 1.71875 -3.765625 L 1.71875 -6.921875 L 0.28125 -6.8125 L 0.28125 -6.5 C 0.984375 -6.5 1.0625 -6.4375 1.0625 -5.9375 L 1.0625 0 L 1.3125 0 C 1.3125 -0.015625 1.390625 -0.15625 1.671875 -0.625 C 1.8125 -0.390625 2.234375 0.109375 2.96875 0.109375 C 4.15625 0.109375 5.1875 -0.875 5.1875 -2.15625 C 5.1875 -3.421875 4.21875 -4.40625 3.078125 -4.40625 C 2.296875 -4.40625 1.875 -3.9375 1.71875 -3.765625 Z M 1.75 -1.140625 L 1.75 -3.1875 C 1.75 -3.375 1.75 -3.390625 1.859375 -3.546875 C 2.25 -4.109375 2.796875 -4.1875 3.03125 -4.1875 C 3.484375 -4.1875 3.84375 -3.921875 4.078125 -3.546875 C 4.34375 -3.140625 4.359375 -2.578125 4.359375 -2.15625 C 4.359375 -1.796875 4.34375 -1.203125 4.0625 -0.75 C 3.84375 -0.4375 3.46875 -0.109375 2.9375 -0.109375 C 2.484375 -0.109375 2.125 -0.34375 1.890625 -0.71875 C 1.75 -0.921875 1.75 -0.953125 1.75 -1.140625 Z M 1.75 -1.140625 \" style=\"stroke:none;\"/>\n",
       "</symbol>\n",
       "<symbol id=\"glyph0-3\" overflow=\"visible\">\n",
       "<path d=\"M 1.171875 -2.171875 C 1.171875 -3.796875 1.984375 -4.21875 2.515625 -4.21875 C 2.609375 -4.21875 3.234375 -4.203125 3.578125 -3.84375 C 3.171875 -3.8125 3.109375 -3.515625 3.109375 -3.390625 C 3.109375 -3.125 3.296875 -2.9375 3.5625 -2.9375 C 3.828125 -2.9375 4.03125 -3.09375 4.03125 -3.40625 C 4.03125 -4.078125 3.265625 -4.46875 2.5 -4.46875 C 1.25 -4.46875 0.34375 -3.390625 0.34375 -2.15625 C 0.34375 -0.875 1.328125 0.109375 2.484375 0.109375 C 3.8125 0.109375 4.140625 -1.09375 4.140625 -1.1875 C 4.140625 -1.28125 4.03125 -1.28125 4 -1.28125 C 3.921875 -1.28125 3.890625 -1.25 3.875 -1.1875 C 3.59375 -0.265625 2.9375 -0.140625 2.578125 -0.140625 C 2.046875 -0.140625 1.171875 -0.5625 1.171875 -2.171875 Z M 1.171875 -2.171875 \" style=\"stroke:none;\"/>\n",
       "</symbol>\n",
       "<symbol id=\"glyph1-0\" overflow=\"visible\">\n",
       "<path d=\"\" style=\"stroke:none;\"/>\n",
       "</symbol>\n",
       "<symbol id=\"glyph1-1\" overflow=\"visible\">\n",
       "<path d=\"M 4.75 -2.359375 C 4.75 -3.921875 3.828125 -4.40625 3.09375 -4.40625 C 1.71875 -4.40625 0.40625 -2.984375 0.40625 -1.578125 C 0.40625 -0.640625 1 0.109375 2.03125 0.109375 C 2.65625 0.109375 3.375 -0.125 4.125 -0.734375 C 4.25 -0.203125 4.578125 0.109375 5.03125 0.109375 C 5.5625 0.109375 5.875 -0.4375 5.875 -0.59375 C 5.875 -0.671875 5.8125 -0.703125 5.75 -0.703125 C 5.6875 -0.703125 5.65625 -0.671875 5.625 -0.59375 C 5.4375 -0.109375 5.078125 -0.109375 5.0625 -0.109375 C 4.75 -0.109375 4.75 -0.890625 4.75 -1.125 C 4.75 -1.328125 4.75 -1.359375 4.859375 -1.46875 C 5.796875 -2.65625 6 -3.8125 6 -3.8125 C 6 -3.84375 5.984375 -3.921875 5.875 -3.921875 C 5.78125 -3.921875 5.78125 -3.890625 5.734375 -3.703125 C 5.546875 -3.078125 5.21875 -2.328125 4.75 -1.734375 Z M 4.09375 -0.984375 C 3.203125 -0.21875 2.4375 -0.109375 2.046875 -0.109375 C 1.453125 -0.109375 1.140625 -0.5625 1.140625 -1.203125 C 1.140625 -1.6875 1.40625 -2.765625 1.71875 -3.265625 C 2.1875 -4 2.734375 -4.1875 3.078125 -4.1875 C 4.0625 -4.1875 4.0625 -2.875 4.0625 -2.109375 C 4.0625 -1.734375 4.0625 -1.15625 4.09375 -0.984375 Z M 4.09375 -0.984375 \" style=\"stroke:none;\"/>\n",
       "</symbol>\n",
       "<symbol id=\"glyph2-0\" overflow=\"visible\">\n",
       "<path d=\"\" style=\"stroke:none;\"/>\n",
       "</symbol>\n",
       "<symbol id=\"glyph2-1\" overflow=\"visible\">\n",
       "<path d=\"M 2.765625 -4.421875 L 1.453125 -4.484375 C 0.796875 -4.546875 0.34375 -4.984375 0.25 -5.5625 C 0.125 -6.25 0.53125 -6.9375 1.3125 -7.078125 C 2.9375 -7.359375 3.4375 -5.796875 3.578125 -5.359375 C 3.609375 -5.328125 3.609375 -5.265625 3.71875 -5.28125 C 3.828125 -5.296875 3.828125 -5.34375 3.796875 -5.515625 L 3.453125 -7.484375 C 3.421875 -7.65625 3.40625 -7.734375 3.3125 -7.71875 C 3.25 -7.703125 3.234375 -7.6875 3.1875 -7.546875 L 2.9375 -6.9375 C 2.578125 -7.1875 2.125 -7.515625 1.25 -7.359375 C 0.15625 -7.15625 -0.515625 -6.15625 -0.34375 -5.109375 C -0.1875 -4.296875 0.46875 -3.671875 1.265625 -3.546875 C 1.375 -3.53125 1.90625 -3.5 2.625 -3.4375 C 2.90625 -3.421875 3.203125 -3.40625 3.546875 -3.109375 C 3.796875 -2.875 3.96875 -2.5625 4.015625 -2.25 C 4.140625 -1.546875 3.765625 -0.765625 2.9375 -0.609375 C 2.65625 -0.5625 1.890625 -0.484375 1.296875 -0.859375 C 0.625 -1.296875 0.484375 -1.90625 0.421875 -2.265625 C 0.390625 -2.375 0.3125 -2.359375 0.28125 -2.359375 C 0.15625 -2.328125 0.171875 -2.25 0.203125 -2.078125 L 0.546875 -0.109375 C 0.578125 0.0625 0.578125 0.125 0.6875 0.109375 C 0.75 0.09375 0.765625 0.078125 0.8125 -0.046875 C 0.8125 -0.0625 0.84375 -0.09375 1.078125 -0.6875 C 1.4375 -0.390625 2.125 -0.15625 3 -0.3125 C 4.140625 -0.5 4.765625 -1.59375 4.5625 -2.6875 C 4.390625 -3.65625 3.609375 -4.359375 2.765625 -4.421875 Z M 2.765625 -4.421875 \" style=\"stroke:none;\"/>\n",
       "</symbol>\n",
       "<symbol id=\"glyph2-2\" overflow=\"visible\">\n",
       "<path d=\"M 4.234375 -2.921875 C 4.015625 -4.171875 2.859375 -5.046875 1.6875 -4.84375 C 0.453125 -4.625 -0.3125 -3.375 -0.09375 -2.15625 C 0.140625 -0.875 1.3125 -0.125 2.46875 -0.328125 C 3.640625 -0.53125 4.453125 -1.671875 4.234375 -2.921875 Z M 2.4375 -0.578125 C 2 -0.5 1.53125 -0.625 1.203125 -1.03125 C 0.875 -1.421875 0.765625 -2.015625 0.703125 -2.375 C 0.640625 -2.75 0.546875 -3.28125 0.703125 -3.765625 C 0.875 -4.25 1.3125 -4.546875 1.71875 -4.625 C 2.140625 -4.6875 2.59375 -4.546875 2.921875 -4.171875 C 3.265625 -3.796875 3.359375 -3.21875 3.421875 -2.859375 C 3.484375 -2.5 3.578125 -1.96875 3.4375 -1.5 C 3.296875 -1.015625 2.90625 -0.65625 2.4375 -0.578125 Z M 2.4375 -0.578125 \" style=\"stroke:none;\"/>\n",
       "</symbol>\n",
       "<symbol id=\"glyph2-3\" overflow=\"visible\">\n",
       "<path d=\"M 0.484375 -3.5625 L 0.953125 -0.921875 C 1.03125 -0.5 0.921875 -0.484375 0.265625 -0.359375 L 0.3125 -0.046875 C 0.65625 -0.125 1.15625 -0.234375 1.4375 -0.28125 C 1.671875 -0.328125 2.1875 -0.40625 2.53125 -0.4375 L 2.484375 -0.75 C 1.8125 -0.640625 1.703125 -0.625 1.625 -1.046875 L 1.296875 -2.859375 C 1.125 -3.875 1.734375 -4.5625 2.34375 -4.671875 C 2.96875 -4.78125 3.171875 -4.265625 3.28125 -3.703125 L 3.6875 -1.40625 C 3.765625 -0.984375 3.65625 -0.96875 3 -0.84375 L 3.046875 -0.53125 C 3.390625 -0.609375 3.890625 -0.71875 4.15625 -0.765625 C 4.40625 -0.8125 4.921875 -0.890625 5.25 -0.921875 L 5.203125 -1.234375 C 4.546875 -1.125 4.453125 -1.109375 4.375 -1.53125 L 4.046875 -3.34375 C 3.875 -4.359375 4.453125 -5.046875 5.078125 -5.15625 C 5.703125 -5.265625 5.90625 -4.75 6.015625 -4.1875 L 6.421875 -1.890625 C 6.5 -1.46875 6.390625 -1.453125 5.71875 -1.328125 L 5.765625 -1.015625 C 6.109375 -1.09375 6.609375 -1.203125 6.875 -1.25 C 7.140625 -1.296875 7.640625 -1.359375 7.984375 -1.40625 L 7.9375 -1.71875 C 7.4375 -1.625 7.1875 -1.59375 7.109375 -1.859375 L 6.78125 -3.75 C 6.625 -4.59375 6.578125 -4.875 6.203125 -5.1875 C 6.03125 -5.328125 5.6875 -5.484375 5.109375 -5.375 C 4.296875 -5.234375 3.953125 -4.5625 3.875 -4.15625 C 3.578125 -5 2.828125 -4.984375 2.390625 -4.90625 C 1.671875 -4.765625 1.28125 -4.265625 1.109375 -3.609375 L 0.921875 -4.640625 L -0.4375 -4.28125 L -0.375 -3.96875 C 0.3125 -4.09375 0.390625 -4.046875 0.484375 -3.5625 Z M 0.484375 -3.5625 \" style=\"stroke:none;\"/>\n",
       "</symbol>\n",
       "<symbol id=\"glyph2-4\" overflow=\"visible\">\n",
       "<path d=\"M 0.65625 -2.671875 C 0.46875 -4.140625 1.25 -4.53125 1.59375 -4.59375 C 2.59375 -4.78125 2.9375 -3.46875 3 -3.09375 Z M 0.6875 -2.453125 L 3.421875 -2.9375 C 3.640625 -2.984375 3.671875 -2.984375 3.640625 -3.203125 C 3.46875 -4.171875 2.765625 -5.03125 1.546875 -4.8125 C 0.40625 -4.609375 -0.3125 -3.4375 -0.09375 -2.203125 C 0.125 -0.890625 1.328125 -0.125 2.453125 -0.3125 C 3.640625 -0.53125 3.90625 -1.703125 3.875 -1.890625 C 3.859375 -1.984375 3.765625 -2 3.703125 -1.984375 C 3.625 -1.984375 3.609375 -1.90625 3.609375 -1.828125 C 3.453125 -0.75 2.546875 -0.59375 2.46875 -0.578125 C 1.96875 -0.5 1.53125 -0.71875 1.25 -1.046875 C 0.875 -1.453125 0.75 -2.09375 0.6875 -2.453125 Z M 0.6875 -2.453125 \" style=\"stroke:none;\"/>\n",
       "</symbol>\n",
       "<symbol id=\"glyph2-5\" overflow=\"visible\">\n",
       "<path d=\"M 1 -4.21875 L 2.421875 -4.46875 L 2.359375 -4.78125 L 0.9375 -4.53125 L 0.625 -6.328125 L 0.390625 -6.28125 C 0.53125 -5.484375 0.421875 -4.390625 -0.546875 -4.171875 L -0.5 -3.953125 L 0.328125 -4.09375 L 0.796875 -1.390625 C 1.015625 -0.1875 1.953125 -0.234375 2.3125 -0.296875 C 3 -0.421875 3.15625 -1.15625 3.046875 -1.796875 L 2.953125 -2.34375 L 2.703125 -2.296875 L 2.796875 -1.765625 C 2.921875 -1.03125 2.6875 -0.625 2.328125 -0.5625 C 1.65625 -0.4375 1.5 -1.328125 1.46875 -1.5 Z M 1 -4.21875 \" style=\"stroke:none;\"/>\n",
       "</symbol>\n",
       "<symbol id=\"glyph2-6\" overflow=\"visible\">\n",
       "<path d=\"M 0.953125 -0.921875 C 1.03125 -0.5 0.921875 -0.484375 0.265625 -0.359375 L 0.3125 -0.046875 C 0.65625 -0.125 1.15625 -0.234375 1.4375 -0.28125 C 1.671875 -0.328125 2.1875 -0.40625 2.53125 -0.4375 L 2.484375 -0.75 C 1.8125 -0.640625 1.703125 -0.625 1.625 -1.046875 L 1.296875 -2.859375 C 1.125 -3.875 1.734375 -4.5625 2.34375 -4.671875 C 2.96875 -4.78125 3.171875 -4.265625 3.28125 -3.703125 L 3.6875 -1.40625 C 3.765625 -0.984375 3.65625 -0.96875 3 -0.84375 L 3.046875 -0.53125 C 3.390625 -0.609375 3.890625 -0.71875 4.15625 -0.765625 C 4.40625 -0.8125 4.921875 -0.890625 5.25 -0.921875 L 5.203125 -1.234375 C 4.6875 -1.140625 4.453125 -1.109375 4.390625 -1.390625 L 4.0625 -3.28125 C 3.90625 -4.125 3.859375 -4.40625 3.484375 -4.703125 C 3.3125 -4.859375 2.953125 -5 2.390625 -4.90625 C 1.5625 -4.75 1.234375 -4.078125 1.125 -3.671875 L 0.515625 -7.109375 L -0.875 -6.75 L -0.8125 -6.453125 C -0.125 -6.578125 -0.046875 -6.53125 0.046875 -6.03125 Z M 0.953125 -0.921875 \" style=\"stroke:none;\"/>\n",
       "</symbol>\n",
       "<symbol id=\"glyph2-7\" overflow=\"visible\">\n",
       "<path d=\"M 0.96875 -4.65625 L -0.375 -4.296875 L -0.3125 -3.984375 C 0.3125 -4.09375 0.40625 -4.046875 0.5 -3.578125 L 0.96875 -0.921875 C 1.046875 -0.5 0.9375 -0.484375 0.28125 -0.375 L 0.328125 -0.0625 C 0.625 -0.125 1.171875 -0.234375 1.40625 -0.28125 C 1.75 -0.34375 2.09375 -0.390625 2.4375 -0.421875 L 2.390625 -0.734375 C 1.71875 -0.625 1.671875 -0.671875 1.609375 -1.046875 Z M 0.703125 -6.359375 C 0.640625 -6.671875 0.375 -6.84375 0.109375 -6.796875 C -0.203125 -6.75 -0.375 -6.4375 -0.328125 -6.171875 C -0.28125 -5.90625 -0.015625 -5.703125 0.296875 -5.75 C 0.5625 -5.796875 0.75 -6.046875 0.703125 -6.359375 Z M 0.703125 -6.359375 \" style=\"stroke:none;\"/>\n",
       "</symbol>\n",
       "<symbol id=\"glyph2-8\" overflow=\"visible\">\n",
       "<path d=\"M 0.484375 -3.5625 L 0.953125 -0.921875 C 1.03125 -0.5 0.921875 -0.484375 0.265625 -0.359375 L 0.3125 -0.046875 C 0.65625 -0.125 1.15625 -0.234375 1.4375 -0.28125 C 1.671875 -0.328125 2.1875 -0.40625 2.53125 -0.4375 L 2.484375 -0.75 C 1.8125 -0.640625 1.703125 -0.625 1.625 -1.046875 L 1.296875 -2.859375 C 1.125 -3.875 1.734375 -4.5625 2.34375 -4.671875 C 2.96875 -4.78125 3.171875 -4.265625 3.28125 -3.703125 L 3.6875 -1.40625 C 3.765625 -0.984375 3.65625 -0.96875 3 -0.84375 L 3.046875 -0.53125 C 3.390625 -0.609375 3.890625 -0.71875 4.15625 -0.765625 C 4.40625 -0.8125 4.921875 -0.890625 5.25 -0.921875 L 5.203125 -1.234375 C 4.6875 -1.140625 4.453125 -1.109375 4.390625 -1.390625 L 4.0625 -3.28125 C 3.90625 -4.125 3.859375 -4.40625 3.484375 -4.703125 C 3.3125 -4.859375 2.953125 -5 2.390625 -4.90625 C 1.671875 -4.765625 1.28125 -4.265625 1.109375 -3.609375 L 0.921875 -4.640625 L -0.4375 -4.28125 L -0.375 -3.96875 C 0.3125 -4.09375 0.390625 -4.046875 0.484375 -3.5625 Z M 0.484375 -3.5625 \" style=\"stroke:none;\"/>\n",
       "</symbol>\n",
       "<symbol id=\"glyph2-9\" overflow=\"visible\">\n",
       "<path d=\"M 1.890625 -2.078125 C 1.03125 -1.921875 0.859375 -2.90625 0.8125 -3.125 C 0.765625 -3.390625 0.734375 -3.71875 0.828125 -3.984375 C 0.875 -4.109375 1.0625 -4.421875 1.46875 -4.5 C 2.3125 -4.640625 2.484375 -3.671875 2.515625 -3.4375 C 2.5625 -3.171875 2.625 -2.859375 2.515625 -2.578125 C 2.453125 -2.46875 2.265625 -2.140625 1.890625 -2.078125 Z M 0.8125 -1.5 C 0.8125 -1.53125 0.765625 -1.75 0.890625 -1.984375 C 1.3125 -1.78125 1.75 -1.828125 1.9375 -1.859375 C 2.84375 -2.015625 3.390625 -2.8125 3.25 -3.5625 C 3.1875 -3.9375 2.96875 -4.25 2.703125 -4.4375 C 2.984375 -4.84375 3.328125 -4.953125 3.5 -4.984375 C 3.53125 -4.984375 3.578125 -5 3.609375 -4.984375 C 3.515625 -4.9375 3.46875 -4.8125 3.484375 -4.6875 C 3.515625 -4.515625 3.671875 -4.4375 3.828125 -4.46875 C 3.90625 -4.484375 4.09375 -4.578125 4.046875 -4.8125 C 4.015625 -4.984375 3.859375 -5.265625 3.484375 -5.203125 C 3.28125 -5.171875 2.859375 -5.03125 2.515625 -4.546875 C 2.03125 -4.8125 1.640625 -4.765625 1.421875 -4.734375 C 0.5 -4.5625 -0.0625 -3.765625 0.0625 -3.015625 C 0.140625 -2.59375 0.421875 -2.25 0.71875 -2.078125 C 0.609375 -1.90625 0.484375 -1.5625 0.546875 -1.203125 C 0.59375 -0.890625 0.796875 -0.5625 1.15625 -0.40625 C 0.5625 -0.15625 0.34375 0.34375 0.421875 0.71875 C 0.546875 1.4375 1.609375 1.796875 2.8125 1.578125 C 3.953125 1.375 4.875 0.703125 4.75 -0.0625 C 4.6875 -0.390625 4.484375 -0.890625 3.921875 -1.078125 C 3.359375 -1.234375 2.78125 -1.140625 2.1875 -1.03125 C 1.9375 -0.984375 1.515625 -0.90625 1.4375 -0.921875 C 1.125 -0.90625 0.875 -1.171875 0.8125 -1.5 Z M 2.78125 1.359375 C 1.78125 1.546875 1.015625 1.15625 0.921875 0.625 C 0.84375 0.1875 1.140625 -0.25 1.5625 -0.34375 L 2.15625 -0.4375 C 3 -0.59375 4.09375 -0.78125 4.25 0.046875 C 4.34375 0.59375 3.734375 1.1875 2.78125 1.359375 Z M 2.78125 1.359375 \" style=\"stroke:none;\"/>\n",
       "</symbol>\n",
       "<symbol id=\"glyph2-10\" overflow=\"visible\">\n",
       "<path d=\"M 3.140625 -1.3125 C 3.25 -0.9375 3.578125 -0.5625 4.046875 -0.640625 C 4.265625 -0.6875 4.828125 -0.9375 4.6875 -1.734375 L 4.59375 -2.296875 L 4.34375 -2.25 L 4.4375 -1.6875 C 4.546875 -1.125 4.3125 -1.015625 4.203125 -1 C 3.875 -0.9375 3.75 -1.375 3.75 -1.421875 L 3.40625 -3.375 C 3.328125 -3.796875 3.265625 -4.1875 2.84375 -4.484375 C 2.390625 -4.796875 1.859375 -4.875 1.40625 -4.796875 C 0.59375 -4.640625 0 -4.0625 0.109375 -3.421875 C 0.15625 -3.125 0.390625 -2.984375 0.65625 -3.03125 C 0.9375 -3.078125 1.0625 -3.3125 1.015625 -3.5625 C 1 -3.6875 0.890625 -4 0.4375 -3.90625 C 0.65625 -4.3125 1.109375 -4.515625 1.421875 -4.5625 C 1.90625 -4.65625 2.53125 -4.359375 2.6875 -3.484375 L 2.75 -3.125 C 2.234375 -3 1.578125 -2.875 1.015625 -2.46875 C 0.328125 -1.984375 0.1875 -1.453125 0.25 -1.015625 C 0.390625 -0.21875 1.390625 -0.125 2 -0.234375 C 2.640625 -0.359375 3.03125 -0.84375 3.140625 -1.3125 Z M 2.78125 -2.921875 L 2.96875 -1.9375 C 3.125 -1.015625 2.484375 -0.546875 2.03125 -0.46875 C 1.546875 -0.390625 1.09375 -0.65625 1 -1.140625 C 0.90625 -1.6875 1.171875 -2.578125 2.78125 -2.921875 Z M 2.78125 -2.921875 \" style=\"stroke:none;\"/>\n",
       "</symbol>\n",
       "<symbol id=\"glyph2-11\" overflow=\"visible\">\n",
       "<path d=\"M 1.03125 -4 L 0.484375 -7.109375 L -0.90625 -6.75 L -0.84375 -6.453125 C -0.15625 -6.578125 -0.078125 -6.53125 0.015625 -6.03125 L 1.046875 -0.1875 L 1.296875 -0.234375 C 1.296875 -0.25 1.34375 -0.390625 1.53125 -0.90625 C 1.71875 -0.703125 2.21875 -0.28125 2.9375 -0.40625 C 4.109375 -0.609375 4.953125 -1.765625 4.734375 -3.03125 C 4.515625 -4.28125 3.390625 -5.078125 2.265625 -4.875 C 1.5 -4.75 1.15625 -4.203125 1.03125 -4 Z M 1.515625 -1.421875 L 1.171875 -3.4375 C 1.125 -3.625 1.125 -3.640625 1.21875 -3.828125 C 1.5 -4.4375 2.015625 -4.609375 2.25 -4.65625 C 2.703125 -4.734375 3.09375 -4.53125 3.40625 -4.203125 C 3.734375 -3.84375 3.84375 -3.28125 3.921875 -2.875 C 3.984375 -2.515625 4.078125 -1.9375 3.875 -1.4375 C 3.703125 -1.109375 3.40625 -0.71875 2.875 -0.625 C 2.4375 -0.546875 2.03125 -0.71875 1.734375 -1.03125 C 1.5625 -1.203125 1.546875 -1.234375 1.515625 -1.421875 Z M 1.515625 -1.421875 \" style=\"stroke:none;\"/>\n",
       "</symbol>\n",
       "<symbol id=\"glyph2-12\" overflow=\"visible\">\n",
       "<path d=\"M 3.6875 -1.4375 L 3.84375 -0.5625 L 5.25 -0.921875 L 5.203125 -1.234375 C 4.515625 -1.125 4.4375 -1.171875 4.34375 -1.65625 L 3.734375 -5.140625 L 2.296875 -4.765625 L 2.359375 -4.453125 C 3.03125 -4.578125 3.125 -4.53125 3.21875 -4.046875 L 3.53125 -2.296875 C 3.671875 -1.4375 3.328125 -0.703125 2.59375 -0.578125 C 1.78125 -0.421875 1.65625 -0.875 1.5625 -1.390625 L 0.984375 -4.65625 L -0.4375 -4.28125 L -0.375 -3.96875 C 0.390625 -4.109375 0.390625 -4.078125 0.546875 -3.21875 L 0.796875 -1.734375 C 0.9375 -0.96875 1.09375 -0.078125 2.578125 -0.34375 C 3.140625 -0.4375 3.515625 -0.796875 3.6875 -1.4375 Z M 3.6875 -1.4375 \" style=\"stroke:none;\"/>\n",
       "</symbol>\n",
       "<symbol id=\"glyph3-0\" overflow=\"visible\">\n",
       "<path d=\"\" style=\"stroke:none;\"/>\n",
       "</symbol>\n",
       "<symbol id=\"glyph3-1\" overflow=\"visible\">\n",
       "<path d=\"M 2.078125 -3.546875 L 2.4375 -3.609375 L 4.328125 -1.578125 C 4.453125 -1.4375 4.734375 -1.109375 4.875 -0.984375 C 4.96875 -0.875 5 -0.875 5.21875 -0.921875 L 6.578125 -1.15625 C 6.75 -1.1875 6.90625 -1.21875 6.875 -1.390625 C 6.859375 -1.484375 6.78125 -1.53125 6.6875 -1.53125 C 6.3125 -1.546875 5.71875 -2.125 5.421875 -2.390625 C 5.328125 -2.46875 4.734375 -3.03125 3.90625 -3.96875 C 4.734375 -4.296875 5.515625 -4.8125 5.3125 -5.984375 C 5.078125 -7.34375 3.546875 -7.546875 2.375 -7.34375 L -0.6875 -6.8125 C -0.875 -6.765625 -1.03125 -6.75 -1 -6.59375 C -0.96875 -6.421875 -0.78125 -6.453125 -0.703125 -6.46875 C -0.140625 -6.5625 -0.078125 -6.5 0 -6 L 0.875 -1.09375 C 0.953125 -0.609375 0.921875 -0.515625 0.359375 -0.421875 C 0.28125 -0.40625 0.09375 -0.375 0.125 -0.203125 C 0.15625 -0.03125 0.3125 -0.046875 0.5 -0.09375 L 3.1875 -0.5625 C 3.359375 -0.59375 3.515625 -0.625 3.484375 -0.796875 C 3.453125 -0.96875 3.28125 -0.9375 3.171875 -0.90625 C 2.609375 -0.8125 2.546875 -0.890625 2.46875 -1.375 Z M 3.90625 -4.359375 C 4.109375 -4.765625 4.046875 -5.3125 3.96875 -5.734375 C 3.890625 -6.21875 3.734375 -6.71875 3.359375 -7.0625 C 3.765625 -7.046875 4.796875 -6.90625 4.96875 -5.921875 C 5.078125 -5.28125 4.890625 -4.734375 3.90625 -4.359375 Z M 1.59375 -6.3125 C 1.5625 -6.53125 1.5 -6.859375 2.125 -6.96875 C 2.953125 -7.109375 3.4375 -6.828125 3.640625 -5.671875 C 3.859375 -4.40625 3.578125 -4.171875 2.015625 -3.90625 Z M 1.234375 -0.578125 C 1.28125 -0.75 1.234375 -1.03125 1.21875 -1.109375 L 0.34375 -6.078125 C 0.328125 -6.171875 0.28125 -6.4375 0.171875 -6.625 L 1.296875 -6.8125 C 1.203125 -6.625 1.234375 -6.4375 1.265625 -6.28125 L 2.140625 -1.28125 C 2.15625 -1.1875 2.203125 -0.921875 2.3125 -0.765625 Z M 2.84375 -3.671875 C 2.921875 -3.703125 2.953125 -3.71875 3.015625 -3.734375 C 3.171875 -3.765625 3.390625 -3.8125 3.53125 -3.859375 C 3.71875 -3.65625 5.09375 -2.09375 6.046875 -1.421875 L 5.09375 -1.25 Z M 2.84375 -3.671875 \" style=\"stroke:none;\"/>\n",
       "</symbol>\n",
       "<symbol id=\"glyph4-0\" overflow=\"visible\">\n",
       "<path d=\"\" style=\"stroke:none;\"/>\n",
       "</symbol>\n",
       "<symbol id=\"glyph4-1\" overflow=\"visible\">\n",
       "<path d=\"M 3.25 -1.859375 L 3.015625 -1.8125 C 3.03125 -1.65625 3.015625 -1.234375 2.9375 -1.15625 C 2.890625 -1.109375 2.375 -1.015625 2.265625 -1 L 1 -0.78125 C 1.609375 -1.546875 1.828125 -1.78125 2.171875 -2.171875 C 2.609375 -2.671875 3.015625 -3.171875 2.90625 -3.828125 C 2.75 -4.65625 1.9375 -5.046875 1.0625 -4.890625 C 0.21875 -4.734375 -0.265625 -4.03125 -0.15625 -3.40625 C -0.09375 -3.0625 0.203125 -3.0625 0.28125 -3.078125 C 0.4375 -3.109375 0.609375 -3.265625 0.578125 -3.515625 C 0.546875 -3.640625 0.453125 -3.875 0.09375 -3.8125 C 0.234375 -4.328125 0.671875 -4.5625 0.984375 -4.625 C 1.6875 -4.75 2.125 -4.265625 2.234375 -3.71875 C 2.328125 -3.109375 2 -2.578125 1.8125 -2.28125 L 0.453125 -0.359375 C 0.40625 -0.28125 0.40625 -0.265625 0.4375 -0.078125 L 3.265625 -0.578125 Z M 3.25 -1.859375 \" style=\"stroke:none;\"/>\n",
       "</symbol>\n",
       "</g>\n",
       "<clipPath id=\"clip1\">\n",
       "  <path d=\"M 6 5 L 189 5 L 189 186.675781 L 6 186.675781 Z M 6 5 \"/>\n",
       "</clipPath>\n",
       "</defs>\n",
       "<g id=\"surface1\">\n",
       "<g clip-path=\"url(#clip1)\" clip-rule=\"nonzero\">\n",
       "<path d=\"M 170.082031 -56.694938 L -0.000000000000001776 0.000375 L 113.386719 113.387094 \" style=\"fill:none;stroke-width:0.3985;stroke-linecap:butt;stroke-linejoin:miter;stroke:rgb(0%,0%,0%);stroke-opacity:1;stroke-miterlimit:10;\" transform=\"matrix(1,0,0,-1,12.375,124.516)\"/>\n",
       "</g>\n",
       "<g style=\"fill:rgb(0%,0%,0%);fill-opacity:1;\">\n",
       "  <use x=\"185.974\" xlink:href=\"#glyph0-1\" y=\"183.353\"/>\n",
       "</g>\n",
       "<g style=\"fill:rgb(0%,0%,0%);fill-opacity:1;\">\n",
       "  <use x=\"3.32\" xlink:href=\"#glyph0-2\" y=\"127.975\"/>\n",
       "</g>\n",
       "<g style=\"fill:rgb(0%,0%,0%);fill-opacity:1;\">\n",
       "  <use x=\"129.281\" xlink:href=\"#glyph0-3\" y=\"7.61\"/>\n",
       "</g>\n",
       "<path d=\"M 27.035156 -8.526969 C 30.285156 1.223031 27.636719 12.4535 20.367188 19.719125 \" style=\"fill:none;stroke-width:0.3985;stroke-linecap:butt;stroke-linejoin:miter;stroke:rgb(100%,50%,0%);stroke-opacity:1;stroke-miterlimit:10;\" transform=\"matrix(1,0,0,-1,12.375,124.516)\"/>\n",
       "<path d=\"M -1.195553 1.595721 C -1.094367 0.995972 -0.00100685 0.0975733 0.298866 0.0000804906 C -0.00100872 -0.0998747 -1.096854 -0.995785 -1.194349 -1.59183 \" style=\"fill:none;stroke-width:0.31879;stroke-linecap:round;stroke-linejoin:round;stroke:rgb(100%,50%,0%);stroke-opacity:1;stroke-miterlimit:10;\" transform=\"matrix(-0.31653,0.94962,0.94962,0.31653,39.41093,133.04429)\"/>\n",
       "<path d=\"M -1.195943 1.595288 C -1.093753 0.995905 0.0000350152 0.100962 0.298343 0.00152136 C 0.0000322028 -0.0979109 -1.096543 -0.995585 -1.195988 -1.592203 \" style=\"fill:none;stroke-width:0.31879;stroke-linecap:round;stroke-linejoin:round;stroke:rgb(100%,50%,0%);stroke-opacity:1;stroke-miterlimit:10;\" transform=\"matrix(-0.70712,-0.7071,-0.7071,0.70712,32.74329,104.79582)\"/>\n",
       "<g style=\"fill:rgb(0%,0%,0%);fill-opacity:1;\">\n",
       "  <use x=\"42.274\" xlink:href=\"#glyph1-1\" y=\"118.846\"/>\n",
       "</g>\n",
       "<g style=\"fill:rgb(0%,0%,0%);fill-opacity:1;\">\n",
       "  <use x=\"104.884\" xlink:href=\"#glyph2-1\" y=\"99.479\"/>\n",
       "  <use x=\"110.335196\" xlink:href=\"#glyph2-2\" y=\"98.517809\"/>\n",
       "  <use x=\"115.24088\" xlink:href=\"#glyph2-3\" y=\"97.652806\"/>\n",
       "  <use x=\"123.416693\" xlink:href=\"#glyph2-4\" y=\"96.211193\"/>\n",
       "  <use x=\"127.776864\" xlink:href=\"#glyph2-5\" y=\"95.442378\"/>\n",
       "  <use x=\"131.592505\" xlink:href=\"#glyph2-6\" y=\"94.769579\"/>\n",
       "  <use x=\"137.043701\" xlink:href=\"#glyph2-7\" y=\"93.808388\"/>\n",
       "  <use x=\"139.769299\" xlink:href=\"#glyph2-8\" y=\"93.327792\"/>\n",
       "  <use x=\"145.220495\" xlink:href=\"#glyph2-9\" y=\"92.366601\"/>\n",
       "</g>\n",
       "<g style=\"fill:rgb(0%,0%,0%);fill-opacity:1;\">\n",
       "  <use x=\"153.393364\" xlink:href=\"#glyph2-10\" y=\"90.925507\"/>\n",
       "  <use x=\"158.299048\" xlink:href=\"#glyph2-11\" y=\"90.060504\"/>\n",
       "</g>\n",
       "<g style=\"fill:rgb(0%,0%,0%);fill-opacity:1;\">\n",
       "  <use x=\"164.024962\" xlink:href=\"#glyph2-2\" y=\"89.050873\"/>\n",
       "  <use x=\"168.930646\" xlink:href=\"#glyph2-12\" y=\"88.18587\"/>\n",
       "  <use x=\"174.381842\" xlink:href=\"#glyph2-5\" y=\"87.224679\"/>\n",
       "</g>\n",
       "<g style=\"fill:rgb(0%,0%,0%);fill-opacity:1;\">\n",
       "  <use x=\"181.464669\" xlink:href=\"#glyph2-7\" y=\"85.975788\"/>\n",
       "  <use x=\"184.190267\" xlink:href=\"#glyph2-8\" y=\"85.495193\"/>\n",
       "</g>\n",
       "<g style=\"fill:rgb(0%,0%,0%);fill-opacity:1;\">\n",
       "  <use x=\"192.91509\" xlink:href=\"#glyph3-1\" y=\"83.956774\"/>\n",
       "</g>\n",
       "<g style=\"fill:rgb(0%,0%,0%);fill-opacity:1;\">\n",
       "  <use x=\"199.372952\" xlink:href=\"#glyph4-1\" y=\"79.146253\"/>\n",
       "</g>\n",
       "</g>\n",
       "</svg>"
      ],
      "text/plain": [
       "<IPython.core.display.SVG object>"
      ]
     },
     "execution_count": 19,
     "metadata": {},
     "output_type": "execute_result"
    }
   ],
   "source": [
    "%%itikz --temp-dir --implicit-pic --tikz-libraries=quotes,angles --tex-packages=amsfonts --scale=2\n",
    "% Example from Paul Gaborit\n",
    "% http://www.texample.net/tikz/examples/angles-quotes/\n",
    "\\draw\n",
    "    (3,-1) coordinate (a) node[right] {a}\n",
    "    -- (0,0) coordinate (b) node[left] {b}\n",
    "    -- (2,2) coordinate (c) node[above right] {c}\n",
    "    pic[\"$\\alpha$\", draw=orange, <->, angle eccentricity=1.2, angle radius=1cm]\n",
    "    {angle=a--b--c};\n",
    "    \n",
    "\\node[rotate=10] (r) at (2.5, 0.65) {Something about in $\\mathbb{R}^2$};"
   ]
  },
  {
   "cell_type": "markdown",
   "metadata": {},
   "source": [
    "Sometimes, tikz-based packages don't use `tikzpicture` environments. To save a few keystrokes, you may want to use an implicit standalone flag. *Note: You have to use `--tex-packages=tikz` in this environment if you need tikz itself!*"
   ]
  },
  {
   "cell_type": "code",
   "execution_count": 20,
   "metadata": {},
   "outputs": [
    {
     "data": {
      "image/svg+xml": [
       "<svg height=\"30.482pt\" version=\"1.1\" viewBox=\"0 0 482.94 30.482\" width=\"482.94pt\" xmlns=\"http://www.w3.org/2000/svg\" xmlns:xlink=\"http://www.w3.org/1999/xlink\">\n",
       "<defs>\n",
       "<g>\n",
       "<symbol id=\"glyph0-0\" overflow=\"visible\">\n",
       "<path d=\"\" style=\"stroke:none;\"/>\n",
       "</symbol>\n",
       "<symbol id=\"glyph0-1\" overflow=\"visible\">\n",
       "<path d=\"M 0.890625 -4.734375 L 0.890625 -0.859375 C 0.890625 -0.4375 0.828125 -0.28125 0.421875 -0.28125 C 0.328125 -0.28125 0.203125 -0.265625 0.203125 -0.140625 C 0.203125 0 0.328125 0 0.46875 0 L 1.703125 0 C 1.84375 0 1.96875 0 1.96875 -0.140625 C 1.96875 -0.265625 1.84375 -0.28125 1.734375 -0.28125 C 1.296875 -0.28125 1.234375 -0.453125 1.234375 -0.875 L 1.234375 -4.515625 L 4.671875 0.03125 C 4.734375 0.125 4.78125 0.15625 4.84375 0.15625 C 4.96875 0.15625 4.96875 0.03125 4.96875 -0.109375 L 4.96875 -4.609375 C 4.96875 -5.0625 5.046875 -5.171875 5.40625 -5.171875 C 5.453125 -5.171875 5.59375 -5.1875 5.59375 -5.3125 C 5.59375 -5.453125 5.46875 -5.453125 5.328125 -5.453125 L 4.171875 -5.453125 C 4.03125 -5.453125 3.890625 -5.453125 3.890625 -5.3125 C 3.890625 -5.171875 4.046875 -5.171875 4.125 -5.171875 C 4.578125 -5.171875 4.640625 -5.015625 4.640625 -4.59375 L 4.640625 -2.09375 L 2.234375 -5.34375 C 2.15625 -5.453125 2.125 -5.453125 1.9375 -5.453125 L 0.5625 -5.453125 C 0.421875 -5.453125 0.296875 -5.453125 0.296875 -5.3125 C 0.296875 -5.203125 0.421875 -5.171875 0.46875 -5.171875 C 0.671875 -5.15625 0.828125 -5.03125 0.90625 -4.9375 C 0.890625 -4.875 0.890625 -4.859375 0.890625 -4.734375 Z M 4.6875 -0.40625 L 1.234375 -4.984375 C 1.140625 -5.078125 1.140625 -5.09375 1.0625 -5.171875 L 2.015625 -5.171875 L 4.6875 -1.546875 Z M 4.6875 -0.40625 \" style=\"stroke:none;\"/>\n",
       "</symbol>\n",
       "<symbol id=\"glyph0-2\" overflow=\"visible\">\n",
       "<path d=\"M 4.75 -5.171875 C 4.828125 -5.28125 4.828125 -5.296875 4.828125 -5.3125 C 4.828125 -5.453125 4.703125 -5.453125 4.5625 -5.453125 L 0.90625 -5.453125 C 0.65625 -5.453125 0.65625 -5.4375 0.625 -5.234375 L 0.515625 -4.15625 L 0.5 -4.046875 C 0.5 -3.9375 0.578125 -3.890625 0.640625 -3.890625 C 0.703125 -3.890625 0.75 -3.953125 0.765625 -4.015625 C 0.8125 -4.203125 0.875 -4.5625 1.359375 -4.859375 C 1.8125 -5.15625 2.375 -5.171875 2.640625 -5.171875 L 3.296875 -5.171875 L 0.296875 -0.28125 C 0.21875 -0.1875 0.21875 -0.171875 0.21875 -0.140625 C 0.21875 0 0.34375 0 0.5 0 L 4.578125 0 C 4.828125 0 4.828125 -0.015625 4.859375 -0.21875 L 5.0625 -1.796875 C 5.0625 -1.875 5 -1.9375 4.9375 -1.9375 C 4.8125 -1.9375 4.796875 -1.859375 4.765625 -1.703125 C 4.640625 -1.046875 4.015625 -0.28125 2.890625 -0.28125 L 1.75 -0.28125 Z M 0.90625 -5.171875 L 1.328125 -5.171875 C 1.109375 -5.046875 0.953125 -4.90625 0.859375 -4.828125 Z M 3.625 -5.171875 L 4.4375 -5.171875 L 1.421875 -0.28125 L 0.609375 -0.28125 Z M 4.046875 -0.28125 C 4.265625 -0.421875 4.46875 -0.59375 4.65625 -0.8125 C 4.640625 -0.65625 4.625 -0.5625 4.578125 -0.28125 Z M 4.046875 -0.28125 \" style=\"stroke:none;\"/>\n",
       "</symbol>\n",
       "<symbol id=\"glyph0-3\" overflow=\"visible\">\n",
       "<path d=\"M 3.8125 0.078125 C 4.9375 -0.15625 5.9375 -1.046875 5.9375 -2.71875 C 5.9375 -4.734375 4.53125 -5.609375 3.09375 -5.609375 C 1.640625 -5.609375 0.265625 -4.6875 0.265625 -2.734375 C 0.265625 -1.03125 1.28125 -0.21875 2.21875 0.03125 C 2.578125 0.859375 3.375 1.421875 4.359375 1.421875 C 4.75 1.421875 5.203125 1.34375 5.609375 1.1875 C 5.75 1.125 5.828125 1.09375 5.828125 1 C 5.828125 0.90625 5.765625 0.859375 5.703125 0.859375 C 5.6875 0.859375 5.671875 0.859375 5.625 0.875 C 5.390625 0.9375 5.3125 0.9375 5.171875 0.9375 C 4.453125 0.9375 4 0.46875 3.8125 0.078125 Z M 2 -5.109375 C 1.515625 -4.546875 1.390625 -3.609375 1.390625 -2.734375 C 1.390625 -1.953125 1.484375 -0.953125 2.015625 -0.328125 C 1.453125 -0.546875 0.546875 -1.171875 0.546875 -2.71875 C 0.546875 -4.34375 1.53125 -4.9375 1.984375 -5.109375 Z M 4.203125 -5.109375 C 4.734375 -4.921875 5.65625 -4.28125 5.65625 -2.734375 C 5.65625 -1.109375 4.671875 -0.515625 4.1875 -0.328125 C 4.6875 -0.921875 4.8125 -1.84375 4.8125 -2.71875 C 4.8125 -3.5 4.71875 -4.5 4.203125 -5.109375 Z M 3.09375 -0.125 C 1.8125 -0.125 1.671875 -1.8125 1.671875 -2.71875 C 1.671875 -3.6875 1.828125 -5.328125 3.09375 -5.328125 C 4.390625 -5.328125 4.53125 -3.640625 4.53125 -2.734375 C 4.53125 -1.78125 4.375 -0.125 3.09375 -0.125 Z M 2.578125 0.109375 C 2.796875 0.15625 3.09375 0.15625 3.09375 0.15625 C 3.140625 0.15625 3.3125 0.15625 3.53125 0.125 C 3.75 0.625 4.125 0.9375 4.515625 1.09375 C 4.59375 1.125 4.609375 1.125 4.609375 1.125 C 4.609375 1.140625 4.46875 1.140625 4.359375 1.140625 C 3.6875 1.140625 2.984375 0.828125 2.578125 0.109375 Z M 2.578125 0.109375 \" style=\"stroke:none;\"/>\n",
       "</symbol>\n",
       "<symbol id=\"glyph0-4\" overflow=\"visible\">\n",
       "<path d=\"M 2.140625 -2.5 L 2.421875 -2.5 L 3.625 -0.65625 C 3.703125 -0.53125 3.890625 -0.21875 3.96875 -0.09375 C 4.03125 0 4.0625 0 4.234375 0 L 5.34375 0 C 5.484375 0 5.609375 0 5.609375 -0.140625 C 5.609375 -0.203125 5.546875 -0.265625 5.484375 -0.28125 C 5.1875 -0.34375 4.796875 -0.875 4.609375 -1.125 C 4.546875 -1.203125 4.15625 -1.734375 3.625 -2.59375 C 4.328125 -2.71875 5.015625 -3.015625 5.015625 -3.96875 C 5.015625 -5.078125 3.84375 -5.453125 2.90625 -5.453125 L 0.390625 -5.453125 C 0.25 -5.453125 0.125 -5.453125 0.125 -5.3125 C 0.125 -5.171875 0.28125 -5.171875 0.34375 -5.171875 C 0.796875 -5.171875 0.84375 -5.125 0.84375 -4.71875 L 0.84375 -0.734375 C 0.84375 -0.328125 0.796875 -0.28125 0.34375 -0.28125 C 0.28125 -0.28125 0.125 -0.28125 0.125 -0.140625 C 0.125 0 0.25 0 0.390625 0 L 2.578125 0 C 2.71875 0 2.84375 0 2.84375 -0.140625 C 2.84375 -0.28125 2.703125 -0.28125 2.625 -0.28125 C 2.171875 -0.28125 2.140625 -0.34375 2.140625 -0.734375 Z M 3.671875 -2.890625 C 3.890625 -3.1875 3.921875 -3.609375 3.921875 -3.953125 C 3.921875 -4.34375 3.875 -4.765625 3.625 -5.09375 C 3.9375 -5.015625 4.734375 -4.765625 4.734375 -3.96875 C 4.734375 -3.453125 4.5 -3.046875 3.671875 -2.890625 Z M 2.140625 -4.75 C 2.140625 -4.921875 2.140625 -5.171875 2.625 -5.171875 C 3.3125 -5.171875 3.640625 -4.90625 3.640625 -3.953125 C 3.640625 -2.9375 3.390625 -2.78125 2.140625 -2.78125 Z M 1.046875 -0.28125 C 1.109375 -0.421875 1.109375 -0.640625 1.109375 -0.71875 L 1.109375 -4.734375 C 1.109375 -4.828125 1.109375 -5.03125 1.046875 -5.171875 L 1.953125 -5.171875 C 1.859375 -5.046875 1.859375 -4.890625 1.859375 -4.765625 L 1.859375 -0.71875 C 1.859375 -0.640625 1.859375 -0.421875 1.921875 -0.28125 Z M 2.75 -2.5 C 2.8125 -2.515625 2.84375 -2.515625 2.90625 -2.515625 C 3.015625 -2.515625 3.203125 -2.53125 3.3125 -2.546875 C 3.4375 -2.359375 4.296875 -0.9375 4.953125 -0.28125 L 4.1875 -0.28125 Z M 2.75 -2.5 \" style=\"stroke:none;\"/>\n",
       "</symbol>\n",
       "<symbol id=\"glyph0-5\" overflow=\"visible\">\n",
       "<path d=\"M 2.203125 -4.71875 C 2.203125 -5.09375 2.21875 -5.171875 2.6875 -5.171875 C 2.8125 -5.171875 2.9375 -5.171875 2.9375 -5.3125 C 2.9375 -5.453125 2.828125 -5.453125 2.671875 -5.453125 L 0.4375 -5.453125 C 0.28125 -5.453125 0.15625 -5.453125 0.15625 -5.3125 C 0.15625 -5.171875 0.296875 -5.171875 0.421875 -5.171875 C 0.875 -5.171875 0.90625 -5.09375 0.90625 -4.71875 L 0.90625 -0.734375 C 0.90625 -0.34375 0.875 -0.28125 0.40625 -0.28125 C 0.296875 -0.28125 0.15625 -0.28125 0.15625 -0.140625 C 0.15625 0 0.28125 0 0.4375 0 L 2.671875 0 C 2.828125 0 2.9375 0 2.9375 -0.140625 C 2.9375 -0.28125 2.8125 -0.28125 2.71875 -0.28125 C 2.234375 -0.28125 2.203125 -0.34375 2.203125 -0.734375 Z M 1.171875 -4.734375 C 1.171875 -4.859375 1.171875 -5.03125 1.109375 -5.171875 L 1.984375 -5.171875 C 1.921875 -5.03125 1.921875 -4.859375 1.921875 -4.734375 L 1.921875 -0.71875 C 1.921875 -0.59375 1.921875 -0.421875 1.984375 -0.28125 L 1.109375 -0.28125 C 1.171875 -0.421875 1.171875 -0.59375 1.171875 -0.71875 Z M 1.171875 -4.734375 \" style=\"stroke:none;\"/>\n",
       "</symbol>\n",
       "<symbol id=\"glyph0-6\" overflow=\"visible\">\n",
       "<path d=\"M 5.234375 -5.34375 C 5.234375 -5.484375 5.234375 -5.609375 5.09375 -5.609375 C 5.09375 -5.609375 4.96875 -5.609375 4.953125 -5.46875 C 4.9375 -5.25 4.75 -5.25 4.6875 -5.25 C 4.421875 -5.25 4.140625 -5.359375 3.96875 -5.4375 C 3.5625 -5.609375 3.234375 -5.609375 3.09375 -5.609375 C 1.765625 -5.609375 0.296875 -4.765625 0.296875 -2.734375 C 0.296875 -0.703125 1.734375 0.15625 3.109375 0.15625 C 3.53125 0.15625 4.109375 0.0625 4.6875 -0.28125 C 5.046875 -0.515625 5.453125 -0.921875 5.453125 -1.03125 C 5.453125 -1.140625 5.34375 -1.1875 5.296875 -1.1875 C 5.234375 -1.1875 5.203125 -1.15625 5.125 -1.078125 C 4.65625 -0.546875 3.953125 -0.234375 3.25 -0.234375 C 2.015625 -0.234375 1.703125 -1.484375 1.703125 -2.71875 C 1.703125 -4.28125 2.265625 -5.328125 3.125 -5.328125 C 3.71875 -5.328125 4.671875 -4.75 4.953125 -3.90625 C 4.96875 -3.828125 5 -3.75 5.09375 -3.75 C 5.234375 -3.75 5.234375 -3.875 5.234375 -4.015625 Z M 4.953125 -4.53125 C 4.859375 -4.65625 4.75 -4.765625 4.5625 -4.96875 C 4.59375 -4.96875 4.65625 -4.96875 4.703125 -4.96875 C 4.796875 -4.96875 4.890625 -4.984375 4.953125 -5.015625 Z M 2.125 -5.140625 C 1.9375 -4.96875 1.421875 -4.28125 1.421875 -2.71875 C 1.421875 -1.921875 1.53125 -0.828125 2.25 -0.25 C 0.953125 -0.671875 0.578125 -1.75 0.578125 -2.71875 C 0.578125 -4.1875 1.375 -4.90625 2.125 -5.15625 Z M 2.125 -5.140625 \" style=\"stroke:none;\"/>\n",
       "</symbol>\n",
       "</g>\n",
       "<clipPath id=\"clip1\">\n",
       "  <path d=\"M 0 0 L 127 0 L 127 30.480469 L 0 30.480469 Z M 0 0 \"/>\n",
       "</clipPath>\n",
       "<clipPath id=\"clip2\">\n",
       "  <path d=\"M 53 0 L 204 0 L 204 30.480469 L 53 30.480469 Z M 53 0 \"/>\n",
       "</clipPath>\n",
       "<clipPath id=\"clip3\">\n",
       "  <path d=\"M 130 0 L 280 0 L 280 30.480469 L 130 30.480469 Z M 130 0 \"/>\n",
       "</clipPath>\n",
       "<clipPath id=\"clip4\">\n",
       "  <path d=\"M 206 0 L 356 0 L 356 30.480469 L 206 30.480469 Z M 206 0 \"/>\n",
       "</clipPath>\n",
       "<clipPath id=\"clip5\">\n",
       "  <path d=\"M 283 0 L 433 0 L 433 30.480469 L 283 30.480469 Z M 283 0 \"/>\n",
       "</clipPath>\n",
       "<clipPath id=\"clip6\">\n",
       "  <path d=\"M 359 0 L 482.941406 0 L 482.941406 30.480469 L 359 30.480469 Z M 359 0 \"/>\n",
       "</clipPath>\n",
       "</defs>\n",
       "<g id=\"surface1\">\n",
       "<path d=\"M 52.132812 1.066406 L 82.382812 1.066406 L 96.558594 15.242188 L 82.382812 29.414062 L 7.710938 29.414062 L 21.882812 15.242188 L 7.710938 1.066406 Z M 52.132812 1.066406 \" style=\" stroke:none;fill-rule:nonzero;fill:rgb(29.998779%,29.998779%,29.998779%);fill-opacity:1;\"/>\n",
       "<g clip-path=\"url(#clip1)\" clip-rule=\"nonzero\">\n",
       "<path d=\"M -0.0001875 14.174594 L 30.249812 14.174594 L 44.425594 -0.0011875 L 30.249812 -14.173063 L -44.422063 -14.173063 L -30.250188 -0.0011875 L -44.422063 14.174594 Z M -0.0001875 14.174594 \" style=\"fill:none;stroke-width:2.13568;stroke-linecap:butt;stroke-linejoin:miter;stroke:rgb(0%,0%,0%);stroke-opacity:1;stroke-miterlimit:10;\" transform=\"matrix(1,0,0,-1,52.133,15.241)\"/>\n",
       "</g>\n",
       "<g style=\"fill:rgb(100%,100%,100%);fill-opacity:1;\">\n",
       "  <use x=\"49.255\" xlink:href=\"#glyph0-1\" y=\"17.986\"/>\n",
       "</g>\n",
       "<path d=\"M 128.53125 1.066406 L 158.78125 1.066406 L 172.957031 15.242188 L 158.78125 29.414062 L 84.109375 29.414062 L 98.28125 15.242188 L 84.109375 1.066406 Z M 128.53125 1.066406 \" style=\" stroke:none;fill-rule:nonzero;fill:rgb(29.998779%,29.998779%,29.998779%);fill-opacity:1;\"/>\n",
       "<g clip-path=\"url(#clip2)\" clip-rule=\"nonzero\">\n",
       "<path d=\"M 76.39825 14.174594 L 106.64825 14.174594 L 120.824031 -0.0011875 L 106.64825 -14.173063 L 31.976375 -14.173063 L 46.14825 -0.0011875 L 31.976375 14.174594 Z M 76.39825 14.174594 \" style=\"fill:none;stroke-width:2.13568;stroke-linecap:butt;stroke-linejoin:miter;stroke:rgb(0%,0%,0%);stroke-opacity:1;stroke-miterlimit:10;\" transform=\"matrix(1,0,0,-1,52.133,15.241)\"/>\n",
       "</g>\n",
       "<g style=\"fill:rgb(100%,100%,100%);fill-opacity:1;\">\n",
       "  <use x=\"125.875\" xlink:href=\"#glyph0-2\" y=\"17.986\"/>\n",
       "</g>\n",
       "<path d=\"M 204.933594 1.066406 L 235.183594 1.066406 L 249.355469 15.242188 L 235.183594 29.414062 L 160.507812 29.414062 L 174.683594 15.242188 L 160.507812 1.066406 Z M 204.933594 1.066406 \" style=\" stroke:none;fill-rule:nonzero;fill:rgb(29.998779%,29.998779%,29.998779%);fill-opacity:1;\"/>\n",
       "<g clip-path=\"url(#clip3)\" clip-rule=\"nonzero\">\n",
       "<path d=\"M 152.800594 14.174594 L 183.050594 14.174594 L 197.222469 -0.0011875 L 183.050594 -14.173063 L 108.374812 -14.173063 L 122.550594 -0.0011875 L 108.374812 14.174594 Z M 152.800594 14.174594 \" style=\"fill:none;stroke-width:2.13568;stroke-linecap:butt;stroke-linejoin:miter;stroke:rgb(0%,0%,0%);stroke-opacity:1;stroke-miterlimit:10;\" transform=\"matrix(1,0,0,-1,52.133,15.241)\"/>\n",
       "</g>\n",
       "<g style=\"fill:rgb(100%,100%,100%);fill-opacity:1;\">\n",
       "  <use x=\"201.831\" xlink:href=\"#glyph0-3\" y=\"17.322\"/>\n",
       "</g>\n",
       "<path d=\"M 281.332031 1.066406 L 311.582031 1.066406 L 325.757812 15.242188 L 311.582031 29.414062 L 236.910156 29.414062 L 251.082031 15.242188 L 236.910156 1.066406 Z M 281.332031 1.066406 \" style=\" stroke:none;fill-rule:nonzero;fill:rgb(29.998779%,29.998779%,29.998779%);fill-opacity:1;\"/>\n",
       "<g clip-path=\"url(#clip4)\" clip-rule=\"nonzero\">\n",
       "<path d=\"M 229.199031 14.174594 L 259.449031 14.174594 L 273.624813 -0.0011875 L 259.449031 -14.173063 L 184.777156 -14.173063 L 198.949031 -0.0011875 L 184.777156 14.174594 Z M 229.199031 14.174594 \" style=\"fill:none;stroke-width:2.13568;stroke-linecap:butt;stroke-linejoin:miter;stroke:rgb(0%,0%,0%);stroke-opacity:1;stroke-miterlimit:10;\" transform=\"matrix(1,0,0,-1,52.133,15.241)\"/>\n",
       "</g>\n",
       "<g style=\"fill:rgb(100%,100%,100%);fill-opacity:1;\">\n",
       "  <use x=\"278.452\" xlink:href=\"#glyph0-4\" y=\"17.986\"/>\n",
       "</g>\n",
       "<path d=\"M 357.734375 1.066406 L 387.984375 1.066406 L 402.15625 15.242188 L 387.984375 29.414062 L 313.308594 29.414062 L 327.484375 15.242188 L 313.308594 1.066406 Z M 357.734375 1.066406 \" style=\" stroke:none;fill-rule:nonzero;fill:rgb(29.998779%,29.998779%,29.998779%);fill-opacity:1;\"/>\n",
       "<g clip-path=\"url(#clip5)\" clip-rule=\"nonzero\">\n",
       "<path d=\"M 305.601375 14.174594 L 335.851375 14.174594 L 350.02325 -0.0011875 L 335.851375 -14.173063 L 261.175594 -14.173063 L 275.351375 -0.0011875 L 261.175594 14.174594 Z M 305.601375 14.174594 \" style=\"fill:none;stroke-width:2.13568;stroke-linecap:butt;stroke-linejoin:miter;stroke:rgb(0%,0%,0%);stroke-opacity:1;stroke-miterlimit:10;\" transform=\"matrix(1,0,0,-1,52.133,15.241)\"/>\n",
       "</g>\n",
       "<g style=\"fill:rgb(100%,100%,100%);fill-opacity:1;\">\n",
       "  <use x=\"356.179\" xlink:href=\"#glyph0-5\" y=\"17.986\"/>\n",
       "</g>\n",
       "<path d=\"M 434.132812 1.066406 L 464.382812 1.066406 L 478.554688 15.242188 L 464.382812 29.414062 L 389.707031 29.414062 L 403.882812 15.242188 L 389.707031 1.066406 Z M 434.132812 1.066406 \" style=\" stroke:none;fill-rule:nonzero;fill:rgb(29.998779%,29.998779%,29.998779%);fill-opacity:1;\"/>\n",
       "<g clip-path=\"url(#clip6)\" clip-rule=\"nonzero\">\n",
       "<path d=\"M 381.999813 14.174594 L 412.249813 14.174594 L 426.421688 -0.0011875 L 412.249813 -14.173063 L 337.574031 -14.173063 L 351.749813 -0.0011875 L 337.574031 14.174594 Z M 381.999813 14.174594 \" style=\"fill:none;stroke-width:2.13568;stroke-linecap:butt;stroke-linejoin:miter;stroke:rgb(0%,0%,0%);stroke-opacity:1;stroke-miterlimit:10;\" transform=\"matrix(1,0,0,-1,52.133,15.241)\"/>\n",
       "</g>\n",
       "<g style=\"fill:rgb(100%,100%,100%);fill-opacity:1;\">\n",
       "  <use x=\"431.25\" xlink:href=\"#glyph0-6\" y=\"17.986\"/>\n",
       "</g>\n",
       "</g>\n",
       "</svg>"
      ],
      "text/plain": [
       "<IPython.core.display.SVG object>"
      ]
     },
     "execution_count": 20,
     "metadata": {},
     "output_type": "execute_result"
    }
   ],
   "source": [
    "%%itikz --temp-dir --implicit-standalone --tex-packages=smartdiagram,amsfonts\n",
    "\\smartdiagramset{uniform sequence color=true,\n",
    "sequence item border color=black,\n",
    "sequence item font size=\\footnotesize,\n",
    "sequence item text color=white\n",
    "}\n",
    "\\smartdiagram[sequence diagram]{\n",
    "    $\\mathbb{N}$,\n",
    "    $\\mathbb{Z}$,\n",
    "    $\\mathbb{Q}$,\n",
    "    $\\mathbb{R}$,\n",
    "    $\\mathbb{I}$,\n",
    "    $\\mathbb{C}$\n",
    "}"
   ]
  },
  {
   "cell_type": "markdown",
   "metadata": {},
   "source": [
    "To help ensure that your tikz pictures stay aligned with your data -- and, to reduce the need for properly knowing PGF -- you can use [jinja2 templates](http://jinja.pocoo.org/docs/latest/templates/)! For example, lets say you had five noes in a DAG, ${A,B,C,D,F}$. You could figure out positioning and such in the notebook, where your brain lives."
   ]
  },
  {
   "cell_type": "code",
   "execution_count": 21,
   "metadata": {},
   "outputs": [
    {
     "data": {
      "text/plain": [
       "{'A': 0, 'B': 60, 'C': 121, 'D': 182, 'E': 243, 'F': 304}"
      ]
     },
     "execution_count": 21,
     "metadata": {},
     "output_type": "execute_result"
    }
   ],
   "source": [
    "node_names = \"ABCDEF\"\n",
    "nodes = {s: int(365/len(node_names) * i) for i, s in enumerate(node_names)}\n",
    "n = len(nodes)\n",
    "nodes"
   ]
  },
  {
   "cell_type": "markdown",
   "metadata": {},
   "source": [
    "Then, you can interpret the cell magic source as a jinja2 template."
   ]
  },
  {
   "cell_type": "code",
   "execution_count": 22,
   "metadata": {},
   "outputs": [
    {
     "data": {
      "image/svg+xml": [
       "<svg height=\"63.254pt\" version=\"1.1\" viewBox=\"0 0 71.315 63.254\" width=\"71.315pt\" xmlns=\"http://www.w3.org/2000/svg\" xmlns:xlink=\"http://www.w3.org/1999/xlink\">\n",
       "<defs>\n",
       "<g>\n",
       "<symbol id=\"glyph0-0\" overflow=\"visible\">\n",
       "<path d=\"\" style=\"stroke:none;\"/>\n",
       "</symbol>\n",
       "<symbol id=\"glyph0-1\" overflow=\"visible\">\n",
       "<path d=\"M 1.78125 -1.140625 C 1.390625 -0.484375 1 -0.34375 0.5625 -0.3125 C 0.4375 -0.296875 0.34375 -0.296875 0.34375 -0.109375 C 0.34375 -0.046875 0.40625 0 0.484375 0 C 0.75 0 1.0625 -0.03125 1.328125 -0.03125 C 1.671875 -0.03125 2.015625 0 2.328125 0 C 2.390625 0 2.515625 0 2.515625 -0.1875 C 2.515625 -0.296875 2.4375 -0.3125 2.359375 -0.3125 C 2.140625 -0.328125 1.890625 -0.40625 1.890625 -0.65625 C 1.890625 -0.78125 1.953125 -0.890625 2.03125 -1.03125 L 2.796875 -2.296875 L 5.296875 -2.296875 C 5.3125 -2.09375 5.453125 -0.734375 5.453125 -0.640625 C 5.453125 -0.34375 4.9375 -0.3125 4.734375 -0.3125 C 4.59375 -0.3125 4.5 -0.3125 4.5 -0.109375 C 4.5 0 4.609375 0 4.640625 0 C 5.046875 0 5.46875 -0.03125 5.875 -0.03125 C 6.125 -0.03125 6.765625 0 7.015625 0 C 7.0625 0 7.1875 0 7.1875 -0.203125 C 7.1875 -0.3125 7.09375 -0.3125 6.953125 -0.3125 C 6.34375 -0.3125 6.34375 -0.375 6.3125 -0.671875 L 5.703125 -6.890625 C 5.6875 -7.09375 5.6875 -7.140625 5.515625 -7.140625 C 5.359375 -7.140625 5.3125 -7.0625 5.25 -6.96875 Z M 2.984375 -2.609375 L 4.9375 -5.90625 L 5.265625 -2.609375 Z M 2.984375 -2.609375 \" style=\"stroke:none;\"/>\n",
       "</symbol>\n",
       "<symbol id=\"glyph0-2\" overflow=\"visible\">\n",
       "<path d=\"M 1.59375 -0.78125 C 1.5 -0.390625 1.46875 -0.3125 0.6875 -0.3125 C 0.515625 -0.3125 0.421875 -0.3125 0.421875 -0.109375 C 0.421875 0 0.515625 0 0.6875 0 L 4.25 0 C 5.828125 0 7 -1.171875 7 -2.15625 C 7 -2.875 6.421875 -3.453125 5.453125 -3.5625 C 6.484375 -3.75 7.53125 -4.484375 7.53125 -5.4375 C 7.53125 -6.171875 6.875 -6.8125 5.6875 -6.8125 L 2.328125 -6.8125 C 2.140625 -6.8125 2.046875 -6.8125 2.046875 -6.609375 C 2.046875 -6.5 2.140625 -6.5 2.328125 -6.5 C 2.34375 -6.5 2.53125 -6.5 2.703125 -6.484375 C 2.875 -6.453125 2.96875 -6.453125 2.96875 -6.3125 C 2.96875 -6.28125 2.953125 -6.25 2.9375 -6.125 Z M 3.09375 -3.65625 L 3.71875 -6.125 C 3.8125 -6.46875 3.828125 -6.5 4.25 -6.5 L 5.546875 -6.5 C 6.421875 -6.5 6.625 -5.90625 6.625 -5.46875 C 6.625 -4.59375 5.765625 -3.65625 4.5625 -3.65625 Z M 2.65625 -0.3125 C 2.515625 -0.3125 2.5 -0.3125 2.4375 -0.3125 C 2.328125 -0.328125 2.296875 -0.34375 2.296875 -0.421875 C 2.296875 -0.453125 2.296875 -0.46875 2.359375 -0.640625 L 3.046875 -3.421875 L 4.921875 -3.421875 C 5.875 -3.421875 6.078125 -2.6875 6.078125 -2.265625 C 6.078125 -1.28125 5.1875 -0.3125 4 -0.3125 Z M 2.65625 -0.3125 \" style=\"stroke:none;\"/>\n",
       "</symbol>\n",
       "<symbol id=\"glyph0-3\" overflow=\"visible\">\n",
       "<path d=\"M 7.578125 -6.921875 C 7.578125 -6.953125 7.5625 -7.03125 7.46875 -7.03125 C 7.4375 -7.03125 7.421875 -7.015625 7.3125 -6.90625 L 6.625 -6.140625 C 6.53125 -6.28125 6.078125 -7.03125 4.96875 -7.03125 C 2.734375 -7.03125 0.5 -4.828125 0.5 -2.515625 C 0.5 -0.875 1.671875 0.21875 3.203125 0.21875 C 4.0625 0.21875 4.828125 -0.171875 5.359375 -0.640625 C 6.28125 -1.453125 6.453125 -2.359375 6.453125 -2.390625 C 6.453125 -2.5 6.34375 -2.5 6.328125 -2.5 C 6.265625 -2.5 6.21875 -2.46875 6.203125 -2.390625 C 6.109375 -2.109375 5.875 -1.390625 5.1875 -0.8125 C 4.5 -0.265625 3.875 -0.09375 3.359375 -0.09375 C 2.46875 -0.09375 1.40625 -0.609375 1.40625 -2.15625 C 1.40625 -2.734375 1.609375 -4.34375 2.609375 -5.515625 C 3.21875 -6.21875 4.15625 -6.71875 5.046875 -6.71875 C 6.0625 -6.71875 6.65625 -5.953125 6.65625 -4.796875 C 6.65625 -4.390625 6.625 -4.390625 6.625 -4.28125 C 6.625 -4.1875 6.734375 -4.1875 6.765625 -4.1875 C 6.890625 -4.1875 6.890625 -4.203125 6.953125 -4.390625 Z M 7.578125 -6.921875 \" style=\"stroke:none;\"/>\n",
       "</symbol>\n",
       "<symbol id=\"glyph0-4\" overflow=\"visible\">\n",
       "<path d=\"M 1.578125 -0.78125 C 1.484375 -0.390625 1.46875 -0.3125 0.671875 -0.3125 C 0.515625 -0.3125 0.40625 -0.3125 0.40625 -0.125 C 0.40625 0 0.484375 0 0.671875 0 L 3.984375 0 C 6.046875 0 8.015625 -2.109375 8.015625 -4.28125 C 8.015625 -5.6875 7.171875 -6.8125 5.671875 -6.8125 L 2.328125 -6.8125 C 2.140625 -6.8125 2.03125 -6.8125 2.03125 -6.625 C 2.03125 -6.5 2.109375 -6.5 2.3125 -6.5 C 2.4375 -6.5 2.625 -6.484375 2.734375 -6.484375 C 2.90625 -6.453125 2.953125 -6.4375 2.953125 -6.3125 C 2.953125 -6.28125 2.953125 -6.25 2.921875 -6.125 Z M 3.734375 -6.125 C 3.828125 -6.46875 3.84375 -6.5 4.28125 -6.5 L 5.34375 -6.5 C 6.3125 -6.5 7.140625 -5.96875 7.140625 -4.65625 C 7.140625 -4.171875 6.953125 -2.53125 6.09375 -1.4375 C 5.8125 -1.0625 5.03125 -0.3125 3.796875 -0.3125 L 2.671875 -0.3125 C 2.53125 -0.3125 2.515625 -0.3125 2.453125 -0.3125 C 2.359375 -0.328125 2.328125 -0.34375 2.328125 -0.421875 C 2.328125 -0.453125 2.328125 -0.46875 2.375 -0.640625 Z M 3.734375 -6.125 \" style=\"stroke:none;\"/>\n",
       "</symbol>\n",
       "<symbol id=\"glyph0-5\" overflow=\"visible\">\n",
       "<path d=\"M 7.0625 -2.328125 C 7.078125 -2.375 7.109375 -2.4375 7.109375 -2.46875 C 7.109375 -2.46875 7.109375 -2.578125 6.984375 -2.578125 C 6.890625 -2.578125 6.875 -2.515625 6.859375 -2.453125 C 6.203125 -0.984375 5.84375 -0.3125 4.140625 -0.3125 L 2.6875 -0.3125 C 2.546875 -0.3125 2.515625 -0.3125 2.46875 -0.3125 C 2.359375 -0.328125 2.328125 -0.34375 2.328125 -0.421875 C 2.328125 -0.453125 2.328125 -0.46875 2.375 -0.640625 L 3.0625 -3.375 L 4.046875 -3.375 C 4.890625 -3.375 4.890625 -3.15625 4.890625 -2.90625 C 4.890625 -2.84375 4.890625 -2.71875 4.828125 -2.421875 C 4.8125 -2.375 4.796875 -2.34375 4.796875 -2.3125 C 4.796875 -2.265625 4.828125 -2.203125 4.921875 -2.203125 C 5 -2.203125 5.03125 -2.25 5.078125 -2.40625 L 5.640625 -4.734375 C 5.640625 -4.796875 5.59375 -4.84375 5.515625 -4.84375 C 5.4375 -4.84375 5.40625 -4.78125 5.390625 -4.671875 C 5.171875 -3.90625 5 -3.671875 4.078125 -3.671875 L 3.140625 -3.671875 L 3.734375 -6.078125 C 3.828125 -6.4375 3.84375 -6.46875 4.28125 -6.46875 L 5.6875 -6.46875 C 6.890625 -6.46875 7.203125 -6.1875 7.203125 -5.359375 C 7.203125 -5.125 7.203125 -5.109375 7.15625 -4.828125 C 7.15625 -4.78125 7.140625 -4.703125 7.140625 -4.65625 C 7.140625 -4.609375 7.171875 -4.53125 7.265625 -4.53125 C 7.375 -4.53125 7.390625 -4.59375 7.40625 -4.78125 L 7.609375 -6.515625 C 7.640625 -6.78125 7.59375 -6.78125 7.34375 -6.78125 L 2.296875 -6.78125 C 2.109375 -6.78125 2 -6.78125 2 -6.578125 C 2 -6.46875 2.09375 -6.46875 2.28125 -6.46875 C 2.65625 -6.46875 2.9375 -6.46875 2.9375 -6.296875 C 2.9375 -6.25 2.9375 -6.234375 2.875 -6.046875 L 1.5625 -0.78125 C 1.46875 -0.390625 1.453125 -0.3125 0.65625 -0.3125 C 0.484375 -0.3125 0.375 -0.3125 0.375 -0.125 C 0.375 0 0.46875 0 0.65625 0 L 5.828125 0 C 6.0625 0 6.078125 -0.015625 6.140625 -0.171875 Z M 7.0625 -2.328125 \" style=\"stroke:none;\"/>\n",
       "</symbol>\n",
       "<symbol id=\"glyph0-6\" overflow=\"visible\">\n",
       "<path d=\"M 3.015625 -3.234375 L 3.984375 -3.234375 C 4.734375 -3.234375 4.8125 -3.078125 4.8125 -2.796875 C 4.8125 -2.71875 4.8125 -2.609375 4.75 -2.296875 C 4.71875 -2.25 4.71875 -2.21875 4.71875 -2.1875 C 4.71875 -2.109375 4.78125 -2.078125 4.828125 -2.078125 C 4.9375 -2.078125 4.9375 -2.109375 4.984375 -2.28125 L 5.53125 -4.453125 C 5.5625 -4.5625 5.5625 -4.578125 5.5625 -4.609375 C 5.5625 -4.625 5.546875 -4.71875 5.4375 -4.71875 C 5.34375 -4.71875 5.328125 -4.671875 5.296875 -4.5 C 5.078125 -3.734375 4.859375 -3.546875 4 -3.546875 L 3.09375 -3.546875 L 3.734375 -6.078125 C 3.828125 -6.4375 3.84375 -6.46875 4.28125 -6.46875 L 5.59375 -6.46875 C 6.8125 -6.46875 7.046875 -6.140625 7.046875 -5.375 C 7.046875 -5.140625 7.046875 -5.109375 7.015625 -4.828125 C 7 -4.703125 7 -4.6875 7 -4.65625 C 7 -4.609375 7.03125 -4.53125 7.125 -4.53125 C 7.234375 -4.53125 7.234375 -4.59375 7.25 -4.78125 L 7.453125 -6.515625 C 7.484375 -6.78125 7.4375 -6.78125 7.1875 -6.78125 L 2.296875 -6.78125 C 2.109375 -6.78125 2 -6.78125 2 -6.578125 C 2 -6.46875 2.09375 -6.46875 2.28125 -6.46875 C 2.65625 -6.46875 2.9375 -6.46875 2.9375 -6.296875 C 2.9375 -6.25 2.9375 -6.234375 2.875 -6.046875 L 1.5625 -0.78125 C 1.46875 -0.390625 1.453125 -0.3125 0.65625 -0.3125 C 0.484375 -0.3125 0.375 -0.3125 0.375 -0.125 C 0.375 0 0.5 0 0.53125 0 C 0.8125 0 1.5625 -0.03125 1.84375 -0.03125 C 2.171875 -0.03125 3 0 3.328125 0 C 3.421875 0 3.53125 0 3.53125 -0.1875 C 3.53125 -0.265625 3.484375 -0.296875 3.484375 -0.296875 C 3.453125 -0.3125 3.421875 -0.3125 3.203125 -0.3125 C 2.984375 -0.3125 2.9375 -0.3125 2.6875 -0.328125 C 2.390625 -0.359375 2.359375 -0.40625 2.359375 -0.53125 C 2.359375 -0.546875 2.359375 -0.609375 2.40625 -0.75 Z M 3.015625 -3.234375 \" style=\"stroke:none;\"/>\n",
       "</symbol>\n",
       "</g>\n",
       "<clipPath id=\"clip1\">\n",
       "  <path d=\"M 22 46 L 51 46 L 51 63.253906 L 22 63.253906 Z M 22 46 \"/>\n",
       "</clipPath>\n",
       "</defs>\n",
       "<g id=\"surface1\">\n",
       "<g style=\"fill:rgb(88.627625%,0%,45.489502%);fill-opacity:1;\">\n",
       "  <use x=\"60.523\" xlink:href=\"#glyph0-1\" y=\"34.677\"/>\n",
       "</g>\n",
       "<g style=\"fill:rgb(88.627625%,0%,45.489502%);fill-opacity:1;\">\n",
       "  <use x=\"46.057\" xlink:href=\"#glyph0-2\" y=\"10.128\"/>\n",
       "</g>\n",
       "<g style=\"fill:rgb(88.627625%,0%,45.489502%);fill-opacity:1;\">\n",
       "  <use x=\"17.396\" xlink:href=\"#glyph0-3\" y=\"10.379\"/>\n",
       "</g>\n",
       "<g style=\"fill:rgb(88.627625%,0%,45.489502%);fill-opacity:1;\">\n",
       "  <use x=\"3.321\" xlink:href=\"#glyph0-4\" y=\"35.666\"/>\n",
       "</g>\n",
       "<g style=\"fill:rgb(88.627625%,0%,45.489502%);fill-opacity:1;\">\n",
       "  <use x=\"19.079\" xlink:href=\"#glyph0-5\" y=\"59.933\"/>\n",
       "</g>\n",
       "<g style=\"fill:rgb(88.627625%,0%,45.489502%);fill-opacity:1;\">\n",
       "  <use x=\"47.868\" xlink:href=\"#glyph0-6\" y=\"58.177\"/>\n",
       "</g>\n",
       "<path d=\"M 24.291125 7.023 L 19.338 15.605031 \" style=\"fill:none;stroke-width:0.59776;stroke-linecap:butt;stroke-linejoin:miter;stroke:rgb(0%,0%,0%);stroke-opacity:1;stroke-miterlimit:10;\" transform=\"matrix(1,0,0,-1,35.912,31.273)\"/>\n",
       "<path d=\"M 0.91774 -0.000739806 C -0.230162 0.23051 -1.37317 0.688244 -2.750304 1.488012 C -1.374693 0.459812 -1.374041 -0.45781 -2.747923 -1.489913 C -1.375564 -0.686241 -0.229836 -0.228301 0.91774 -0.000739806 Z M 0.91774 -0.000739806 \" style=\"fill-rule:nonzero;fill:rgb(0%,0%,0%);fill-opacity:1;stroke-width:0.59776;stroke-linecap:butt;stroke-linejoin:round;stroke:rgb(0%,0%,0%);stroke-opacity:1;stroke-miterlimit:10;\" transform=\"matrix(-0.5017,-0.86877,-0.86877,0.5017,55.24885,15.66877)\"/>\n",
       "<path d=\"M 20.990344 4.159719 L -5.134656 18.944875 \" style=\"fill:none;stroke-width:0.59776;stroke-linecap:butt;stroke-linejoin:miter;stroke:rgb(0%,0%,0%);stroke-opacity:1;stroke-miterlimit:10;\" transform=\"matrix(1,0,0,-1,35.912,31.273)\"/>\n",
       "<path d=\"M 0.917282 0.00212614 C -0.228619 0.231176 -1.374045 0.688822 -2.750011 1.490574 C -1.374519 0.460225 -1.374498 -0.457553 -2.750421 -1.491357 C -1.374972 -0.68615 -0.227648 -0.229409 0.917282 0.00212614 Z M 0.917282 0.00212614 \" style=\"fill-rule:nonzero;fill:rgb(0%,0%,0%);fill-opacity:1;stroke-width:0.59776;stroke-linecap:butt;stroke-linejoin:round;stroke:rgb(0%,0%,0%);stroke-opacity:1;stroke-miterlimit:10;\" transform=\"matrix(-0.87251,-0.49374,-0.49374,0.87251,30.77795,12.32995)\"/>\n",
       "<path d=\"M 20.990344 -0.129344 L -18.236219 -0.812938 \" style=\"fill:none;stroke-width:0.59776;stroke-linecap:butt;stroke-linejoin:miter;stroke:rgb(0%,0%,0%);stroke-opacity:1;stroke-miterlimit:10;\" transform=\"matrix(1,0,0,-1,35.912,31.273)\"/>\n",
       "<path d=\"M 0.918362 -0.000644585 C -0.230013 0.230321 -1.374441 0.687791 -2.751166 1.489171 C -1.374552 0.457313 -1.374859 -0.45679 -2.748364 -1.487589 C -1.37497 -0.687269 -0.230235 -0.230636 0.918362 -0.000644585 Z M 0.918362 -0.000644585 \" style=\"fill-rule:nonzero;fill:rgb(0%,0%,0%);fill-opacity:1;stroke-width:0.59776;stroke-linecap:butt;stroke-linejoin:round;stroke:rgb(0%,0%,0%);stroke-opacity:1;stroke-miterlimit:10;\" transform=\"matrix(-0.99995,0.01743,0.01743,0.99995,17.67614,32.0862)\"/>\n",
       "<path d=\"M 20.990344 -4.50825 L -3.396375 -19.453563 \" style=\"fill:none;stroke-width:0.59776;stroke-linecap:butt;stroke-linejoin:miter;stroke:rgb(0%,0%,0%);stroke-opacity:1;stroke-miterlimit:10;\" transform=\"matrix(1,0,0,-1,35.912,31.273)\"/>\n",
       "<path d=\"M 0.918685 0.000191598 C -0.231361 0.229114 -1.373908 0.6868 -2.749418 1.488584 C -1.376043 0.459325 -1.374605 -0.456691 -2.749277 -1.490264 C -1.373414 -0.686204 -0.228979 -0.229913 0.918685 0.000191598 Z M 0.918685 0.000191598 \" style=\"fill-rule:nonzero;fill:rgb(0%,0%,0%);fill-opacity:1;stroke-width:0.59776;stroke-linecap:butt;stroke-linejoin:round;stroke:rgb(0%,0%,0%);stroke-opacity:1;stroke-miterlimit:10;\" transform=\"matrix(-0.8537,0.52318,0.52318,0.8537,32.51465,50.72623)\"/>\n",
       "<path d=\"M 24.611438 -7.023875 L 20.623156 -14.523875 \" style=\"fill:none;stroke-width:0.59776;stroke-linecap:butt;stroke-linejoin:miter;stroke:rgb(0%,0%,0%);stroke-opacity:1;stroke-miterlimit:10;\" transform=\"matrix(1,0,0,-1,35.912,31.273)\"/>\n",
       "<path d=\"M 0.91631 -0.000413697 C -0.228005 0.231028 -1.376184 0.685882 -2.749648 1.48955 C -1.373933 0.45719 -1.373654 -0.457796 -2.748175 -1.489377 C -1.37485 -0.68832 -0.230395 -0.230021 0.91631 -0.000413697 Z M 0.91631 -0.000413697 \" style=\"fill-rule:nonzero;fill:rgb(0%,0%,0%);fill-opacity:1;stroke-width:0.59776;stroke-linecap:butt;stroke-linejoin:round;stroke:rgb(0%,0%,0%);stroke-opacity:1;stroke-miterlimit:10;\" transform=\"matrix(-0.46988,0.88358,0.88358,0.46988,56.53639,45.79603)\"/>\n",
       "<path d=\"M 6.5255 24.483937 L -4.853406 24.382375 \" style=\"fill:none;stroke-width:0.59776;stroke-linecap:butt;stroke-linejoin:miter;stroke:rgb(0%,0%,0%);stroke-opacity:1;stroke-miterlimit:10;\" transform=\"matrix(1,0,0,-1,35.912,31.273)\"/>\n",
       "<path d=\"M 0.915392 0.000316132 C -0.231049 0.229075 -1.375478 0.688284 -2.751297 1.489358 C -1.373583 0.457799 -1.373785 -0.460168 -2.749973 -1.491123 C -1.375763 -0.686713 -0.227227 -0.22799 0.915392 0.000316132 Z M 0.915392 0.000316132 \" style=\"fill-rule:nonzero;fill:rgb(0%,0%,0%);fill-opacity:1;stroke-width:0.59776;stroke-linecap:butt;stroke-linejoin:round;stroke:rgb(0%,0%,0%);stroke-opacity:1;stroke-miterlimit:10;\" transform=\"matrix(-1,0.00873,0.00873,1,31.05992,6.89013)\"/>\n",
       "<path d=\"M 6.5255 19.956594 L -18.552625 4.886281 \" style=\"fill:none;stroke-width:0.59776;stroke-linecap:butt;stroke-linejoin:miter;stroke:rgb(0%,0%,0%);stroke-opacity:1;stroke-miterlimit:10;\" transform=\"matrix(1,0,0,-1,35.912,31.273)\"/>\n",
       "<path d=\"M 0.917296 -0.000485075 C -0.229616 0.228664 -1.374357 0.688834 -2.75189 1.489338 C -1.376529 0.457814 -1.375833 -0.458238 -2.751975 -1.489838 C -1.375993 -0.685912 -0.229936 -0.226683 0.917296 -0.000485075 Z M 0.917296 -0.000485075 \" style=\"fill-rule:nonzero;fill:rgb(0%,0%,0%);fill-opacity:1;stroke-width:0.59776;stroke-linecap:butt;stroke-linejoin:round;stroke:rgb(0%,0%,0%);stroke-opacity:1;stroke-miterlimit:10;\" transform=\"matrix(-0.8575,0.51532,0.51532,0.8575,17.36105,26.38709)\"/>\n",
       "<path d=\"M 10.361438 17.526906 L -8.001844 -16.2895 \" style=\"fill:none;stroke-width:0.59776;stroke-linecap:butt;stroke-linejoin:miter;stroke:rgb(0%,0%,0%);stroke-opacity:1;stroke-miterlimit:10;\" transform=\"matrix(1,0,0,-1,35.912,31.273)\"/>\n",
       "<path d=\"M 0.916346 0.000407026 C -0.229662 0.230502 -1.374616 0.687579 -2.751193 1.489466 C -1.373808 0.457168 -1.374299 -0.45762 -2.749998 -1.488739 C -1.373491 -0.688032 -0.228046 -0.230321 0.916346 0.000407026 Z M 0.916346 0.000407026 \" style=\"fill-rule:nonzero;fill:rgb(0%,0%,0%);fill-opacity:1;stroke-width:0.59776;stroke-linecap:butt;stroke-linejoin:round;stroke:rgb(0%,0%,0%);stroke-opacity:1;stroke-miterlimit:10;\" transform=\"matrix(-0.47778,0.8799,0.8799,0.47778,27.91011,47.5607)\"/>\n",
       "<path d=\"M 14.420031 17.526906 L 15.529406 -14.266063 \" style=\"fill:none;stroke-width:0.59776;stroke-linecap:butt;stroke-linejoin:miter;stroke:rgb(0%,0%,0%);stroke-opacity:1;stroke-miterlimit:10;\" transform=\"matrix(1,0,0,-1,35.912,31.273)\"/>\n",
       "<path d=\"M 0.91791 -0.000440636 C -0.230768 0.231133 -1.37545 0.68923 -2.750553 1.487545 C -1.375679 0.458668 -1.376462 -0.459678 -2.748954 -1.490383 C -1.376555 -0.686336 -0.227324 -0.230127 0.91791 -0.000440636 Z M 0.91791 -0.000440636 \" style=\"fill-rule:nonzero;fill:rgb(0%,0%,0%);fill-opacity:1;stroke-width:0.59776;stroke-linecap:butt;stroke-linejoin:round;stroke:rgb(0%,0%,0%);stroke-opacity:1;stroke-miterlimit:10;\" transform=\"matrix(0.03488,0.99956,0.99956,-0.03488,51.44108,45.53951)\"/>\n",
       "<path d=\"M -18.412 17.273 L -23.458875 7.980031 \" style=\"fill:none;stroke-width:0.59776;stroke-linecap:butt;stroke-linejoin:miter;stroke:rgb(0%,0%,0%);stroke-opacity:1;stroke-miterlimit:10;\" transform=\"matrix(1,0,0,-1,35.912,31.273)\"/>\n",
       "<path d=\"M 0.914707 0.000137579 C -0.229429 0.22677 -1.37624 0.68724 -2.749391 1.490941 C -1.375426 0.456832 -1.375894 -0.457943 -2.751545 -1.489084 C -1.37508 -0.688352 -0.229663 -0.230617 0.914707 0.000137579 Z M 0.914707 0.000137579 \" style=\"fill-rule:nonzero;fill:rgb(0%,0%,0%);fill-opacity:1;stroke-width:0.59776;stroke-linecap:butt;stroke-linejoin:round;stroke:rgb(0%,0%,0%);stroke-opacity:1;stroke-miterlimit:10;\" transform=\"matrix(-0.47781,0.8799,0.8799,0.47781,12.45256,23.29274)\"/>\n",
       "<path d=\"M -14.353406 17.273 L -13.19325 -16.023875 \" style=\"fill:none;stroke-width:0.59776;stroke-linecap:butt;stroke-linejoin:miter;stroke:rgb(0%,0%,0%);stroke-opacity:1;stroke-miterlimit:10;\" transform=\"matrix(1,0,0,-1,35.912,31.273)\"/>\n",
       "<path d=\"M 0.915333 0.00152179 C -0.229572 0.229079 -1.374244 0.687198 -2.749194 1.489443 C -1.374478 0.456636 -1.375142 -0.457805 -2.751558 -1.488347 C -1.375377 -0.688367 -0.229905 -0.228142 0.915333 0.00152179 Z M 0.915333 0.00152179 \" style=\"fill-rule:nonzero;fill:rgb(0%,0%,0%);fill-opacity:1;stroke-width:0.59776;stroke-linecap:butt;stroke-linejoin:round;stroke:rgb(0%,0%,0%);stroke-opacity:1;stroke-miterlimit:10;\" transform=\"matrix(0.0349,0.99956,0.99956,-0.0349,22.72044,47.29606)\"/>\n",
       "<path d=\"M -10.126844 17.273 L 10.189563 -14.605906 \" style=\"fill:none;stroke-width:0.59776;stroke-linecap:butt;stroke-linejoin:miter;stroke:rgb(0%,0%,0%);stroke-opacity:1;stroke-miterlimit:10;\" transform=\"matrix(1,0,0,-1,35.912,31.273)\"/>\n",
       "<path d=\"M 0.918093 -0.000982075 C -0.227285 0.230254 -1.375211 0.689341 -2.74839 1.490489 C -1.374755 0.458206 -1.377405 -0.458864 -2.750507 -1.490666 C -1.374856 -0.686716 -0.229656 -0.229923 0.918093 -0.000982075 Z M 0.918093 -0.000982075 \" style=\"fill-rule:nonzero;fill:rgb(0%,0%,0%);fill-opacity:1;stroke-width:0.59776;stroke-linecap:butt;stroke-linejoin:round;stroke:rgb(0%,0%,0%);stroke-opacity:1;stroke-miterlimit:10;\" transform=\"matrix(0.53914,0.84608,0.84608,-0.53914,46.0996,45.87894)\"/>\n",
       "<path d=\"M -23.853406 -8.012156 L -18.537 -16.363719 \" style=\"fill:none;stroke-width:0.59776;stroke-linecap:butt;stroke-linejoin:miter;stroke:rgb(0%,0%,0%);stroke-opacity:1;stroke-miterlimit:10;\" transform=\"matrix(1,0,0,-1,35.912,31.273)\"/>\n",
       "<path d=\"M 0.915913 0.000500214 C -0.231606 0.228402 -1.374216 0.688638 -2.747479 1.489742 C -1.373748 0.457495 -1.376352 -0.459605 -2.749446 -1.491509 C -1.373792 -0.687463 -0.228577 -0.230598 0.915913 0.000500214 Z M 0.915913 0.000500214 \" style=\"fill-rule:nonzero;fill:rgb(0%,0%,0%);fill-opacity:1;stroke-width:0.59776;stroke-linecap:butt;stroke-linejoin:round;stroke:rgb(0%,0%,0%);stroke-opacity:1;stroke-miterlimit:10;\" transform=\"matrix(0.53908,0.84608,0.84608,-0.53908,17.37692,47.63549)\"/>\n",
       "<path d=\"M -20.447156 -5.004344 L 6.357531 -18.6645 \" style=\"fill:none;stroke-width:0.59776;stroke-linecap:butt;stroke-linejoin:miter;stroke:rgb(0%,0%,0%);stroke-opacity:1;stroke-miterlimit:10;\" transform=\"matrix(1,0,0,-1,35.912,31.273)\"/>\n",
       "<path d=\"M 0.915812 0.000818864 C -0.230999 0.228638 -1.374389 0.68967 -2.751844 1.489976 C -1.374344 0.458223 -1.374228 -0.458862 -2.749752 -1.487494 C -1.37595 -0.686842 -0.229208 -0.229022 0.915812 0.000818864 Z M 0.915812 0.000818864 \" style=\"fill-rule:nonzero;fill:rgb(0%,0%,0%);fill-opacity:1;stroke-width:0.59776;stroke-linecap:butt;stroke-linejoin:round;stroke:rgb(0%,0%,0%);stroke-opacity:1;stroke-miterlimit:10;\" transform=\"matrix(0.89442,0.45587,0.45587,-0.89442,42.27035,49.93871)\"/>\n",
       "<g clip-path=\"url(#clip1)\" clip-rule=\"nonzero\">\n",
       "<path d=\"M -5.287 -24.793406 L 6.127063 -24.094188 \" style=\"fill:none;stroke-width:0.59776;stroke-linecap:butt;stroke-linejoin:miter;stroke:rgb(0%,0%,0%);stroke-opacity:1;stroke-miterlimit:10;\" transform=\"matrix(1,0,0,-1,35.912,31.273)\"/>\n",
       "</g>\n",
       "<path d=\"M 0.917828 -0.000414148 C -0.230313 0.230251 -1.37632 0.687757 -2.747916 1.487777 C -1.374793 0.45678 -1.376008 -0.458857 -2.750033 -1.49011 C -1.374243 -0.685936 -0.23092 -0.227567 0.917828 -0.000414148 Z M 0.917828 -0.000414148 \" style=\"fill-rule:nonzero;fill:rgb(0%,0%,0%);fill-opacity:1;stroke-width:0.59776;stroke-linecap:butt;stroke-linejoin:round;stroke:rgb(0%,0%,0%);stroke-opacity:1;stroke-miterlimit:10;\" transform=\"matrix(0.9982,-0.06105,-0.06105,-0.9982,42.04083,55.36812)\"/>\n",
       "</g>\n",
       "</svg>"
      ],
      "text/plain": [
       "<IPython.core.display.SVG object>"
      ]
     },
     "execution_count": 22,
     "metadata": {},
     "output_type": "execute_result"
    }
   ],
   "source": [
    "%%itikz --as-jinja --temp-dir\n",
    "\\documentclass[tikz]{standalone}\n",
    "\\usetikzlibrary{arrows,automata}\n",
    "\\definecolor{mymagenta}{RGB}{226,0,116}\n",
    "\\begin{document}\n",
    "\\begin{tikzpicture}[->,>=stealth',shorten >=1pt,auto,node distance=2.8cm,\n",
    "                    semithick]\n",
    "  \\tikzstyle{every state}=[fill=mymagenta,draw=none,text=white]\n",
    "  \n",
    "  {% for name, angle in nodes.items() -%}\n",
    "       \\node[color=mymagenta] (v{{loop.index0}}) at ({{angle}}:1) {${{name}}$};\n",
    "  {% endfor -%}\n",
    "  \n",
    "  {% for n1 in range(n) -%}\n",
    "      {% for n2 in range(n) -%}\n",
    "         {%if n1 < n2 -%}\n",
    "             \\path (v{{n1}}) edge (v{{n2}});\n",
    "         {% endif -%}\n",
    "      {% endfor -%}\n",
    "  {% endfor -%}\n",
    "\n",
    "\\end{tikzpicture}\n",
    "\n",
    "\\end{document}"
   ]
  },
  {
   "cell_type": "markdown",
   "metadata": {},
   "source": [
    "Which also works with the implicit environments."
   ]
  },
  {
   "cell_type": "code",
   "execution_count": 23,
   "metadata": {},
   "outputs": [
    {
     "data": {
      "image/svg+xml": [
       "<svg height=\"63.254pt\" version=\"1.1\" viewBox=\"0 0 71.315 63.254\" width=\"71.315pt\" xmlns=\"http://www.w3.org/2000/svg\" xmlns:xlink=\"http://www.w3.org/1999/xlink\">\n",
       "<defs>\n",
       "<g>\n",
       "<symbol id=\"glyph0-0\" overflow=\"visible\">\n",
       "<path d=\"\" style=\"stroke:none;\"/>\n",
       "</symbol>\n",
       "<symbol id=\"glyph0-1\" overflow=\"visible\">\n",
       "<path d=\"M 1.78125 -1.140625 C 1.390625 -0.484375 1 -0.34375 0.5625 -0.3125 C 0.4375 -0.296875 0.34375 -0.296875 0.34375 -0.109375 C 0.34375 -0.046875 0.40625 0 0.484375 0 C 0.75 0 1.0625 -0.03125 1.328125 -0.03125 C 1.671875 -0.03125 2.015625 0 2.328125 0 C 2.390625 0 2.515625 0 2.515625 -0.1875 C 2.515625 -0.296875 2.4375 -0.3125 2.359375 -0.3125 C 2.140625 -0.328125 1.890625 -0.40625 1.890625 -0.65625 C 1.890625 -0.78125 1.953125 -0.890625 2.03125 -1.03125 L 2.796875 -2.296875 L 5.296875 -2.296875 C 5.3125 -2.09375 5.453125 -0.734375 5.453125 -0.640625 C 5.453125 -0.34375 4.9375 -0.3125 4.734375 -0.3125 C 4.59375 -0.3125 4.5 -0.3125 4.5 -0.109375 C 4.5 0 4.609375 0 4.640625 0 C 5.046875 0 5.46875 -0.03125 5.875 -0.03125 C 6.125 -0.03125 6.765625 0 7.015625 0 C 7.0625 0 7.1875 0 7.1875 -0.203125 C 7.1875 -0.3125 7.09375 -0.3125 6.953125 -0.3125 C 6.34375 -0.3125 6.34375 -0.375 6.3125 -0.671875 L 5.703125 -6.890625 C 5.6875 -7.09375 5.6875 -7.140625 5.515625 -7.140625 C 5.359375 -7.140625 5.3125 -7.0625 5.25 -6.96875 Z M 2.984375 -2.609375 L 4.9375 -5.90625 L 5.265625 -2.609375 Z M 2.984375 -2.609375 \" style=\"stroke:none;\"/>\n",
       "</symbol>\n",
       "<symbol id=\"glyph0-2\" overflow=\"visible\">\n",
       "<path d=\"M 1.59375 -0.78125 C 1.5 -0.390625 1.46875 -0.3125 0.6875 -0.3125 C 0.515625 -0.3125 0.421875 -0.3125 0.421875 -0.109375 C 0.421875 0 0.515625 0 0.6875 0 L 4.25 0 C 5.828125 0 7 -1.171875 7 -2.15625 C 7 -2.875 6.421875 -3.453125 5.453125 -3.5625 C 6.484375 -3.75 7.53125 -4.484375 7.53125 -5.4375 C 7.53125 -6.171875 6.875 -6.8125 5.6875 -6.8125 L 2.328125 -6.8125 C 2.140625 -6.8125 2.046875 -6.8125 2.046875 -6.609375 C 2.046875 -6.5 2.140625 -6.5 2.328125 -6.5 C 2.34375 -6.5 2.53125 -6.5 2.703125 -6.484375 C 2.875 -6.453125 2.96875 -6.453125 2.96875 -6.3125 C 2.96875 -6.28125 2.953125 -6.25 2.9375 -6.125 Z M 3.09375 -3.65625 L 3.71875 -6.125 C 3.8125 -6.46875 3.828125 -6.5 4.25 -6.5 L 5.546875 -6.5 C 6.421875 -6.5 6.625 -5.90625 6.625 -5.46875 C 6.625 -4.59375 5.765625 -3.65625 4.5625 -3.65625 Z M 2.65625 -0.3125 C 2.515625 -0.3125 2.5 -0.3125 2.4375 -0.3125 C 2.328125 -0.328125 2.296875 -0.34375 2.296875 -0.421875 C 2.296875 -0.453125 2.296875 -0.46875 2.359375 -0.640625 L 3.046875 -3.421875 L 4.921875 -3.421875 C 5.875 -3.421875 6.078125 -2.6875 6.078125 -2.265625 C 6.078125 -1.28125 5.1875 -0.3125 4 -0.3125 Z M 2.65625 -0.3125 \" style=\"stroke:none;\"/>\n",
       "</symbol>\n",
       "<symbol id=\"glyph0-3\" overflow=\"visible\">\n",
       "<path d=\"M 7.578125 -6.921875 C 7.578125 -6.953125 7.5625 -7.03125 7.46875 -7.03125 C 7.4375 -7.03125 7.421875 -7.015625 7.3125 -6.90625 L 6.625 -6.140625 C 6.53125 -6.28125 6.078125 -7.03125 4.96875 -7.03125 C 2.734375 -7.03125 0.5 -4.828125 0.5 -2.515625 C 0.5 -0.875 1.671875 0.21875 3.203125 0.21875 C 4.0625 0.21875 4.828125 -0.171875 5.359375 -0.640625 C 6.28125 -1.453125 6.453125 -2.359375 6.453125 -2.390625 C 6.453125 -2.5 6.34375 -2.5 6.328125 -2.5 C 6.265625 -2.5 6.21875 -2.46875 6.203125 -2.390625 C 6.109375 -2.109375 5.875 -1.390625 5.1875 -0.8125 C 4.5 -0.265625 3.875 -0.09375 3.359375 -0.09375 C 2.46875 -0.09375 1.40625 -0.609375 1.40625 -2.15625 C 1.40625 -2.734375 1.609375 -4.34375 2.609375 -5.515625 C 3.21875 -6.21875 4.15625 -6.71875 5.046875 -6.71875 C 6.0625 -6.71875 6.65625 -5.953125 6.65625 -4.796875 C 6.65625 -4.390625 6.625 -4.390625 6.625 -4.28125 C 6.625 -4.1875 6.734375 -4.1875 6.765625 -4.1875 C 6.890625 -4.1875 6.890625 -4.203125 6.953125 -4.390625 Z M 7.578125 -6.921875 \" style=\"stroke:none;\"/>\n",
       "</symbol>\n",
       "<symbol id=\"glyph0-4\" overflow=\"visible\">\n",
       "<path d=\"M 1.578125 -0.78125 C 1.484375 -0.390625 1.46875 -0.3125 0.671875 -0.3125 C 0.515625 -0.3125 0.40625 -0.3125 0.40625 -0.125 C 0.40625 0 0.484375 0 0.671875 0 L 3.984375 0 C 6.046875 0 8.015625 -2.109375 8.015625 -4.28125 C 8.015625 -5.6875 7.171875 -6.8125 5.671875 -6.8125 L 2.328125 -6.8125 C 2.140625 -6.8125 2.03125 -6.8125 2.03125 -6.625 C 2.03125 -6.5 2.109375 -6.5 2.3125 -6.5 C 2.4375 -6.5 2.625 -6.484375 2.734375 -6.484375 C 2.90625 -6.453125 2.953125 -6.4375 2.953125 -6.3125 C 2.953125 -6.28125 2.953125 -6.25 2.921875 -6.125 Z M 3.734375 -6.125 C 3.828125 -6.46875 3.84375 -6.5 4.28125 -6.5 L 5.34375 -6.5 C 6.3125 -6.5 7.140625 -5.96875 7.140625 -4.65625 C 7.140625 -4.171875 6.953125 -2.53125 6.09375 -1.4375 C 5.8125 -1.0625 5.03125 -0.3125 3.796875 -0.3125 L 2.671875 -0.3125 C 2.53125 -0.3125 2.515625 -0.3125 2.453125 -0.3125 C 2.359375 -0.328125 2.328125 -0.34375 2.328125 -0.421875 C 2.328125 -0.453125 2.328125 -0.46875 2.375 -0.640625 Z M 3.734375 -6.125 \" style=\"stroke:none;\"/>\n",
       "</symbol>\n",
       "<symbol id=\"glyph0-5\" overflow=\"visible\">\n",
       "<path d=\"M 7.0625 -2.328125 C 7.078125 -2.375 7.109375 -2.4375 7.109375 -2.46875 C 7.109375 -2.46875 7.109375 -2.578125 6.984375 -2.578125 C 6.890625 -2.578125 6.875 -2.515625 6.859375 -2.453125 C 6.203125 -0.984375 5.84375 -0.3125 4.140625 -0.3125 L 2.6875 -0.3125 C 2.546875 -0.3125 2.515625 -0.3125 2.46875 -0.3125 C 2.359375 -0.328125 2.328125 -0.34375 2.328125 -0.421875 C 2.328125 -0.453125 2.328125 -0.46875 2.375 -0.640625 L 3.0625 -3.375 L 4.046875 -3.375 C 4.890625 -3.375 4.890625 -3.15625 4.890625 -2.90625 C 4.890625 -2.84375 4.890625 -2.71875 4.828125 -2.421875 C 4.8125 -2.375 4.796875 -2.34375 4.796875 -2.3125 C 4.796875 -2.265625 4.828125 -2.203125 4.921875 -2.203125 C 5 -2.203125 5.03125 -2.25 5.078125 -2.40625 L 5.640625 -4.734375 C 5.640625 -4.796875 5.59375 -4.84375 5.515625 -4.84375 C 5.4375 -4.84375 5.40625 -4.78125 5.390625 -4.671875 C 5.171875 -3.90625 5 -3.671875 4.078125 -3.671875 L 3.140625 -3.671875 L 3.734375 -6.078125 C 3.828125 -6.4375 3.84375 -6.46875 4.28125 -6.46875 L 5.6875 -6.46875 C 6.890625 -6.46875 7.203125 -6.1875 7.203125 -5.359375 C 7.203125 -5.125 7.203125 -5.109375 7.15625 -4.828125 C 7.15625 -4.78125 7.140625 -4.703125 7.140625 -4.65625 C 7.140625 -4.609375 7.171875 -4.53125 7.265625 -4.53125 C 7.375 -4.53125 7.390625 -4.59375 7.40625 -4.78125 L 7.609375 -6.515625 C 7.640625 -6.78125 7.59375 -6.78125 7.34375 -6.78125 L 2.296875 -6.78125 C 2.109375 -6.78125 2 -6.78125 2 -6.578125 C 2 -6.46875 2.09375 -6.46875 2.28125 -6.46875 C 2.65625 -6.46875 2.9375 -6.46875 2.9375 -6.296875 C 2.9375 -6.25 2.9375 -6.234375 2.875 -6.046875 L 1.5625 -0.78125 C 1.46875 -0.390625 1.453125 -0.3125 0.65625 -0.3125 C 0.484375 -0.3125 0.375 -0.3125 0.375 -0.125 C 0.375 0 0.46875 0 0.65625 0 L 5.828125 0 C 6.0625 0 6.078125 -0.015625 6.140625 -0.171875 Z M 7.0625 -2.328125 \" style=\"stroke:none;\"/>\n",
       "</symbol>\n",
       "<symbol id=\"glyph0-6\" overflow=\"visible\">\n",
       "<path d=\"M 3.015625 -3.234375 L 3.984375 -3.234375 C 4.734375 -3.234375 4.8125 -3.078125 4.8125 -2.796875 C 4.8125 -2.71875 4.8125 -2.609375 4.75 -2.296875 C 4.71875 -2.25 4.71875 -2.21875 4.71875 -2.1875 C 4.71875 -2.109375 4.78125 -2.078125 4.828125 -2.078125 C 4.9375 -2.078125 4.9375 -2.109375 4.984375 -2.28125 L 5.53125 -4.453125 C 5.5625 -4.5625 5.5625 -4.578125 5.5625 -4.609375 C 5.5625 -4.625 5.546875 -4.71875 5.4375 -4.71875 C 5.34375 -4.71875 5.328125 -4.671875 5.296875 -4.5 C 5.078125 -3.734375 4.859375 -3.546875 4 -3.546875 L 3.09375 -3.546875 L 3.734375 -6.078125 C 3.828125 -6.4375 3.84375 -6.46875 4.28125 -6.46875 L 5.59375 -6.46875 C 6.8125 -6.46875 7.046875 -6.140625 7.046875 -5.375 C 7.046875 -5.140625 7.046875 -5.109375 7.015625 -4.828125 C 7 -4.703125 7 -4.6875 7 -4.65625 C 7 -4.609375 7.03125 -4.53125 7.125 -4.53125 C 7.234375 -4.53125 7.234375 -4.59375 7.25 -4.78125 L 7.453125 -6.515625 C 7.484375 -6.78125 7.4375 -6.78125 7.1875 -6.78125 L 2.296875 -6.78125 C 2.109375 -6.78125 2 -6.78125 2 -6.578125 C 2 -6.46875 2.09375 -6.46875 2.28125 -6.46875 C 2.65625 -6.46875 2.9375 -6.46875 2.9375 -6.296875 C 2.9375 -6.25 2.9375 -6.234375 2.875 -6.046875 L 1.5625 -0.78125 C 1.46875 -0.390625 1.453125 -0.3125 0.65625 -0.3125 C 0.484375 -0.3125 0.375 -0.3125 0.375 -0.125 C 0.375 0 0.5 0 0.53125 0 C 0.8125 0 1.5625 -0.03125 1.84375 -0.03125 C 2.171875 -0.03125 3 0 3.328125 0 C 3.421875 0 3.53125 0 3.53125 -0.1875 C 3.53125 -0.265625 3.484375 -0.296875 3.484375 -0.296875 C 3.453125 -0.3125 3.421875 -0.3125 3.203125 -0.3125 C 2.984375 -0.3125 2.9375 -0.3125 2.6875 -0.328125 C 2.390625 -0.359375 2.359375 -0.40625 2.359375 -0.53125 C 2.359375 -0.546875 2.359375 -0.609375 2.40625 -0.75 Z M 3.015625 -3.234375 \" style=\"stroke:none;\"/>\n",
       "</symbol>\n",
       "</g>\n",
       "<clipPath id=\"clip1\">\n",
       "  <path d=\"M 22 46 L 51 46 L 51 63.253906 L 22 63.253906 Z M 22 46 \"/>\n",
       "</clipPath>\n",
       "</defs>\n",
       "<g id=\"surface1\">\n",
       "<g style=\"fill:rgb(100%,0%,0%);fill-opacity:1;\">\n",
       "  <use x=\"60.523\" xlink:href=\"#glyph0-1\" y=\"34.677\"/>\n",
       "</g>\n",
       "<g style=\"fill:rgb(100%,0%,0%);fill-opacity:1;\">\n",
       "  <use x=\"46.057\" xlink:href=\"#glyph0-2\" y=\"10.128\"/>\n",
       "</g>\n",
       "<g style=\"fill:rgb(100%,0%,0%);fill-opacity:1;\">\n",
       "  <use x=\"17.396\" xlink:href=\"#glyph0-3\" y=\"10.379\"/>\n",
       "</g>\n",
       "<g style=\"fill:rgb(100%,0%,0%);fill-opacity:1;\">\n",
       "  <use x=\"3.321\" xlink:href=\"#glyph0-4\" y=\"35.666\"/>\n",
       "</g>\n",
       "<g style=\"fill:rgb(100%,0%,0%);fill-opacity:1;\">\n",
       "  <use x=\"19.079\" xlink:href=\"#glyph0-5\" y=\"59.933\"/>\n",
       "</g>\n",
       "<g style=\"fill:rgb(100%,0%,0%);fill-opacity:1;\">\n",
       "  <use x=\"47.868\" xlink:href=\"#glyph0-6\" y=\"58.177\"/>\n",
       "</g>\n",
       "<path d=\"M 24.291125 7.023 L 19.338 15.605031 \" style=\"fill:none;stroke-width:0.59776;stroke-linecap:butt;stroke-linejoin:miter;stroke:rgb(0%,0%,0%);stroke-opacity:1;stroke-miterlimit:10;\" transform=\"matrix(1,0,0,-1,35.912,31.273)\"/>\n",
       "<path d=\"M 0.91774 -0.000739806 C -0.230162 0.23051 -1.37317 0.688244 -2.750304 1.488012 C -1.374693 0.459812 -1.374041 -0.45781 -2.747923 -1.489913 C -1.375564 -0.686241 -0.229836 -0.228301 0.91774 -0.000739806 Z M 0.91774 -0.000739806 \" style=\"fill-rule:nonzero;fill:rgb(0%,0%,0%);fill-opacity:1;stroke-width:0.59776;stroke-linecap:butt;stroke-linejoin:round;stroke:rgb(0%,0%,0%);stroke-opacity:1;stroke-miterlimit:10;\" transform=\"matrix(-0.5017,-0.86877,-0.86877,0.5017,55.24885,15.66877)\"/>\n",
       "<path d=\"M 20.990344 4.159719 L -5.134656 18.944875 \" style=\"fill:none;stroke-width:0.59776;stroke-linecap:butt;stroke-linejoin:miter;stroke:rgb(0%,0%,0%);stroke-opacity:1;stroke-miterlimit:10;\" transform=\"matrix(1,0,0,-1,35.912,31.273)\"/>\n",
       "<path d=\"M 0.917282 0.00212614 C -0.228619 0.231176 -1.374045 0.688822 -2.750011 1.490574 C -1.374519 0.460225 -1.374498 -0.457553 -2.750421 -1.491357 C -1.374972 -0.68615 -0.227648 -0.229409 0.917282 0.00212614 Z M 0.917282 0.00212614 \" style=\"fill-rule:nonzero;fill:rgb(0%,0%,0%);fill-opacity:1;stroke-width:0.59776;stroke-linecap:butt;stroke-linejoin:round;stroke:rgb(0%,0%,0%);stroke-opacity:1;stroke-miterlimit:10;\" transform=\"matrix(-0.87251,-0.49374,-0.49374,0.87251,30.77795,12.32995)\"/>\n",
       "<path d=\"M 20.990344 -0.129344 L -18.236219 -0.812938 \" style=\"fill:none;stroke-width:0.59776;stroke-linecap:butt;stroke-linejoin:miter;stroke:rgb(0%,0%,0%);stroke-opacity:1;stroke-miterlimit:10;\" transform=\"matrix(1,0,0,-1,35.912,31.273)\"/>\n",
       "<path d=\"M 0.918362 -0.000644585 C -0.230013 0.230321 -1.374441 0.687791 -2.751166 1.489171 C -1.374552 0.457313 -1.374859 -0.45679 -2.748364 -1.487589 C -1.37497 -0.687269 -0.230235 -0.230636 0.918362 -0.000644585 Z M 0.918362 -0.000644585 \" style=\"fill-rule:nonzero;fill:rgb(0%,0%,0%);fill-opacity:1;stroke-width:0.59776;stroke-linecap:butt;stroke-linejoin:round;stroke:rgb(0%,0%,0%);stroke-opacity:1;stroke-miterlimit:10;\" transform=\"matrix(-0.99995,0.01743,0.01743,0.99995,17.67614,32.0862)\"/>\n",
       "<path d=\"M 20.990344 -4.50825 L -3.396375 -19.453563 \" style=\"fill:none;stroke-width:0.59776;stroke-linecap:butt;stroke-linejoin:miter;stroke:rgb(0%,0%,0%);stroke-opacity:1;stroke-miterlimit:10;\" transform=\"matrix(1,0,0,-1,35.912,31.273)\"/>\n",
       "<path d=\"M 0.918685 0.000191598 C -0.231361 0.229114 -1.373908 0.6868 -2.749418 1.488584 C -1.376043 0.459325 -1.374605 -0.456691 -2.749277 -1.490264 C -1.373414 -0.686204 -0.228979 -0.229913 0.918685 0.000191598 Z M 0.918685 0.000191598 \" style=\"fill-rule:nonzero;fill:rgb(0%,0%,0%);fill-opacity:1;stroke-width:0.59776;stroke-linecap:butt;stroke-linejoin:round;stroke:rgb(0%,0%,0%);stroke-opacity:1;stroke-miterlimit:10;\" transform=\"matrix(-0.8537,0.52318,0.52318,0.8537,32.51465,50.72623)\"/>\n",
       "<path d=\"M 24.611438 -7.023875 L 20.623156 -14.523875 \" style=\"fill:none;stroke-width:0.59776;stroke-linecap:butt;stroke-linejoin:miter;stroke:rgb(0%,0%,0%);stroke-opacity:1;stroke-miterlimit:10;\" transform=\"matrix(1,0,0,-1,35.912,31.273)\"/>\n",
       "<path d=\"M 0.91631 -0.000413697 C -0.228005 0.231028 -1.376184 0.685882 -2.749648 1.48955 C -1.373933 0.45719 -1.373654 -0.457796 -2.748175 -1.489377 C -1.37485 -0.68832 -0.230395 -0.230021 0.91631 -0.000413697 Z M 0.91631 -0.000413697 \" style=\"fill-rule:nonzero;fill:rgb(0%,0%,0%);fill-opacity:1;stroke-width:0.59776;stroke-linecap:butt;stroke-linejoin:round;stroke:rgb(0%,0%,0%);stroke-opacity:1;stroke-miterlimit:10;\" transform=\"matrix(-0.46988,0.88358,0.88358,0.46988,56.53639,45.79603)\"/>\n",
       "<path d=\"M 6.5255 24.483937 L -4.853406 24.382375 \" style=\"fill:none;stroke-width:0.59776;stroke-linecap:butt;stroke-linejoin:miter;stroke:rgb(0%,0%,0%);stroke-opacity:1;stroke-miterlimit:10;\" transform=\"matrix(1,0,0,-1,35.912,31.273)\"/>\n",
       "<path d=\"M 0.915392 0.000316132 C -0.231049 0.229075 -1.375478 0.688284 -2.751297 1.489358 C -1.373583 0.457799 -1.373785 -0.460168 -2.749973 -1.491123 C -1.375763 -0.686713 -0.227227 -0.22799 0.915392 0.000316132 Z M 0.915392 0.000316132 \" style=\"fill-rule:nonzero;fill:rgb(0%,0%,0%);fill-opacity:1;stroke-width:0.59776;stroke-linecap:butt;stroke-linejoin:round;stroke:rgb(0%,0%,0%);stroke-opacity:1;stroke-miterlimit:10;\" transform=\"matrix(-1,0.00873,0.00873,1,31.05992,6.89013)\"/>\n",
       "<path d=\"M 6.5255 19.956594 L -18.552625 4.886281 \" style=\"fill:none;stroke-width:0.59776;stroke-linecap:butt;stroke-linejoin:miter;stroke:rgb(0%,0%,0%);stroke-opacity:1;stroke-miterlimit:10;\" transform=\"matrix(1,0,0,-1,35.912,31.273)\"/>\n",
       "<path d=\"M 0.917296 -0.000485075 C -0.229616 0.228664 -1.374357 0.688834 -2.75189 1.489338 C -1.376529 0.457814 -1.375833 -0.458238 -2.751975 -1.489838 C -1.375993 -0.685912 -0.229936 -0.226683 0.917296 -0.000485075 Z M 0.917296 -0.000485075 \" style=\"fill-rule:nonzero;fill:rgb(0%,0%,0%);fill-opacity:1;stroke-width:0.59776;stroke-linecap:butt;stroke-linejoin:round;stroke:rgb(0%,0%,0%);stroke-opacity:1;stroke-miterlimit:10;\" transform=\"matrix(-0.8575,0.51532,0.51532,0.8575,17.36105,26.38709)\"/>\n",
       "<path d=\"M 10.361438 17.526906 L -8.001844 -16.2895 \" style=\"fill:none;stroke-width:0.59776;stroke-linecap:butt;stroke-linejoin:miter;stroke:rgb(0%,0%,0%);stroke-opacity:1;stroke-miterlimit:10;\" transform=\"matrix(1,0,0,-1,35.912,31.273)\"/>\n",
       "<path d=\"M 0.916346 0.000407026 C -0.229662 0.230502 -1.374616 0.687579 -2.751193 1.489466 C -1.373808 0.457168 -1.374299 -0.45762 -2.749998 -1.488739 C -1.373491 -0.688032 -0.228046 -0.230321 0.916346 0.000407026 Z M 0.916346 0.000407026 \" style=\"fill-rule:nonzero;fill:rgb(0%,0%,0%);fill-opacity:1;stroke-width:0.59776;stroke-linecap:butt;stroke-linejoin:round;stroke:rgb(0%,0%,0%);stroke-opacity:1;stroke-miterlimit:10;\" transform=\"matrix(-0.47778,0.8799,0.8799,0.47778,27.91011,47.5607)\"/>\n",
       "<path d=\"M 14.420031 17.526906 L 15.529406 -14.266063 \" style=\"fill:none;stroke-width:0.59776;stroke-linecap:butt;stroke-linejoin:miter;stroke:rgb(0%,0%,0%);stroke-opacity:1;stroke-miterlimit:10;\" transform=\"matrix(1,0,0,-1,35.912,31.273)\"/>\n",
       "<path d=\"M 0.91791 -0.000440636 C -0.230768 0.231133 -1.37545 0.68923 -2.750553 1.487545 C -1.375679 0.458668 -1.376462 -0.459678 -2.748954 -1.490383 C -1.376555 -0.686336 -0.227324 -0.230127 0.91791 -0.000440636 Z M 0.91791 -0.000440636 \" style=\"fill-rule:nonzero;fill:rgb(0%,0%,0%);fill-opacity:1;stroke-width:0.59776;stroke-linecap:butt;stroke-linejoin:round;stroke:rgb(0%,0%,0%);stroke-opacity:1;stroke-miterlimit:10;\" transform=\"matrix(0.03488,0.99956,0.99956,-0.03488,51.44108,45.53951)\"/>\n",
       "<path d=\"M -18.412 17.273 L -23.458875 7.980031 \" style=\"fill:none;stroke-width:0.59776;stroke-linecap:butt;stroke-linejoin:miter;stroke:rgb(0%,0%,0%);stroke-opacity:1;stroke-miterlimit:10;\" transform=\"matrix(1,0,0,-1,35.912,31.273)\"/>\n",
       "<path d=\"M 0.914707 0.000137579 C -0.229429 0.22677 -1.37624 0.68724 -2.749391 1.490941 C -1.375426 0.456832 -1.375894 -0.457943 -2.751545 -1.489084 C -1.37508 -0.688352 -0.229663 -0.230617 0.914707 0.000137579 Z M 0.914707 0.000137579 \" style=\"fill-rule:nonzero;fill:rgb(0%,0%,0%);fill-opacity:1;stroke-width:0.59776;stroke-linecap:butt;stroke-linejoin:round;stroke:rgb(0%,0%,0%);stroke-opacity:1;stroke-miterlimit:10;\" transform=\"matrix(-0.47781,0.8799,0.8799,0.47781,12.45256,23.29274)\"/>\n",
       "<path d=\"M -14.353406 17.273 L -13.19325 -16.023875 \" style=\"fill:none;stroke-width:0.59776;stroke-linecap:butt;stroke-linejoin:miter;stroke:rgb(0%,0%,0%);stroke-opacity:1;stroke-miterlimit:10;\" transform=\"matrix(1,0,0,-1,35.912,31.273)\"/>\n",
       "<path d=\"M 0.915333 0.00152179 C -0.229572 0.229079 -1.374244 0.687198 -2.749194 1.489443 C -1.374478 0.456636 -1.375142 -0.457805 -2.751558 -1.488347 C -1.375377 -0.688367 -0.229905 -0.228142 0.915333 0.00152179 Z M 0.915333 0.00152179 \" style=\"fill-rule:nonzero;fill:rgb(0%,0%,0%);fill-opacity:1;stroke-width:0.59776;stroke-linecap:butt;stroke-linejoin:round;stroke:rgb(0%,0%,0%);stroke-opacity:1;stroke-miterlimit:10;\" transform=\"matrix(0.0349,0.99956,0.99956,-0.0349,22.72044,47.29606)\"/>\n",
       "<path d=\"M -10.126844 17.273 L 10.189563 -14.605906 \" style=\"fill:none;stroke-width:0.59776;stroke-linecap:butt;stroke-linejoin:miter;stroke:rgb(0%,0%,0%);stroke-opacity:1;stroke-miterlimit:10;\" transform=\"matrix(1,0,0,-1,35.912,31.273)\"/>\n",
       "<path d=\"M 0.918093 -0.000982075 C -0.227285 0.230254 -1.375211 0.689341 -2.74839 1.490489 C -1.374755 0.458206 -1.377405 -0.458864 -2.750507 -1.490666 C -1.374856 -0.686716 -0.229656 -0.229923 0.918093 -0.000982075 Z M 0.918093 -0.000982075 \" style=\"fill-rule:nonzero;fill:rgb(0%,0%,0%);fill-opacity:1;stroke-width:0.59776;stroke-linecap:butt;stroke-linejoin:round;stroke:rgb(0%,0%,0%);stroke-opacity:1;stroke-miterlimit:10;\" transform=\"matrix(0.53914,0.84608,0.84608,-0.53914,46.0996,45.87894)\"/>\n",
       "<path d=\"M -23.853406 -8.012156 L -18.537 -16.363719 \" style=\"fill:none;stroke-width:0.59776;stroke-linecap:butt;stroke-linejoin:miter;stroke:rgb(0%,0%,0%);stroke-opacity:1;stroke-miterlimit:10;\" transform=\"matrix(1,0,0,-1,35.912,31.273)\"/>\n",
       "<path d=\"M 0.915913 0.000500214 C -0.231606 0.228402 -1.374216 0.688638 -2.747479 1.489742 C -1.373748 0.457495 -1.376352 -0.459605 -2.749446 -1.491509 C -1.373792 -0.687463 -0.228577 -0.230598 0.915913 0.000500214 Z M 0.915913 0.000500214 \" style=\"fill-rule:nonzero;fill:rgb(0%,0%,0%);fill-opacity:1;stroke-width:0.59776;stroke-linecap:butt;stroke-linejoin:round;stroke:rgb(0%,0%,0%);stroke-opacity:1;stroke-miterlimit:10;\" transform=\"matrix(0.53908,0.84608,0.84608,-0.53908,17.37692,47.63549)\"/>\n",
       "<path d=\"M -20.447156 -5.004344 L 6.357531 -18.6645 \" style=\"fill:none;stroke-width:0.59776;stroke-linecap:butt;stroke-linejoin:miter;stroke:rgb(0%,0%,0%);stroke-opacity:1;stroke-miterlimit:10;\" transform=\"matrix(1,0,0,-1,35.912,31.273)\"/>\n",
       "<path d=\"M 0.915812 0.000818864 C -0.230999 0.228638 -1.374389 0.68967 -2.751844 1.489976 C -1.374344 0.458223 -1.374228 -0.458862 -2.749752 -1.487494 C -1.37595 -0.686842 -0.229208 -0.229022 0.915812 0.000818864 Z M 0.915812 0.000818864 \" style=\"fill-rule:nonzero;fill:rgb(0%,0%,0%);fill-opacity:1;stroke-width:0.59776;stroke-linecap:butt;stroke-linejoin:round;stroke:rgb(0%,0%,0%);stroke-opacity:1;stroke-miterlimit:10;\" transform=\"matrix(0.89442,0.45587,0.45587,-0.89442,42.27035,49.93871)\"/>\n",
       "<g clip-path=\"url(#clip1)\" clip-rule=\"nonzero\">\n",
       "<path d=\"M -5.287 -24.793406 L 6.127063 -24.094188 \" style=\"fill:none;stroke-width:0.59776;stroke-linecap:butt;stroke-linejoin:miter;stroke:rgb(0%,0%,0%);stroke-opacity:1;stroke-miterlimit:10;\" transform=\"matrix(1,0,0,-1,35.912,31.273)\"/>\n",
       "</g>\n",
       "<path d=\"M 0.917828 -0.000414148 C -0.230313 0.230251 -1.37632 0.687757 -2.747916 1.487777 C -1.374793 0.45678 -1.376008 -0.458857 -2.750033 -1.49011 C -1.374243 -0.685936 -0.23092 -0.227567 0.917828 -0.000414148 Z M 0.917828 -0.000414148 \" style=\"fill-rule:nonzero;fill:rgb(0%,0%,0%);fill-opacity:1;stroke-width:0.59776;stroke-linecap:butt;stroke-linejoin:round;stroke:rgb(0%,0%,0%);stroke-opacity:1;stroke-miterlimit:10;\" transform=\"matrix(0.9982,-0.06105,-0.06105,-0.9982,42.04083,55.36812)\"/>\n",
       "</g>\n",
       "</svg>"
      ],
      "text/plain": [
       "<IPython.core.display.SVG object>"
      ]
     },
     "execution_count": 23,
     "metadata": {},
     "output_type": "execute_result"
    }
   ],
   "source": [
    "%%itikz --as-jinja --temp-dir --tex-packages=tikz --tikz-libraries=arrows,automata --implicit-standalone\n",
    "\\begin{tikzpicture}[->,>=stealth',shorten >=1pt,auto,node distance=2.8cm,\n",
    "                    semithick]\n",
    "  \\tikzstyle{every state}=[fill=mymagenta,draw=none,text=white]\n",
    "  \n",
    "  {% for name, angle in nodes.items() -%}\n",
    "       \\node[color=red] (v{{loop.index0}}) at ({{angle}}:1) {${{name}}$};\n",
    "  {% endfor -%}\n",
    "  \n",
    "  {% for n1 in range(n) -%}\n",
    "      {% for n2 in range(n) -%}\n",
    "         {%if n1 < n2 -%}\n",
    "             \\path (v{{n1}}) edge (v{{n2}});\n",
    "         {% endif -%}\n",
    "      {% endfor -%}\n",
    "  {% endfor -%}\n",
    "\n",
    "\\end{tikzpicture}"
   ]
  },
  {
   "cell_type": "markdown",
   "metadata": {},
   "source": [
    "Sometimes, you'll make mistakes. Debugging transpiled code is hard, especially without a mapping. To help, you can print the interpolated source."
   ]
  },
  {
   "cell_type": "code",
   "execution_count": 24,
   "metadata": {},
   "outputs": [
    {
     "name": "stdout",
     "output_type": "stream",
     "text": [
      "\\begin{tikzpicture}[->,>=stealth',shorten >=1pt,auto,node distance=2.8cm,\n",
      "                    semithick]\n",
      "  \\tikzstyle{every state}=[fill=mymagenta,draw=none,text=white]\n",
      "  \n",
      "  \\node[color=red] (v0) at (0:1) {$A$};\n",
      "  \\node[color=red] (v1) at (60:1) {$B$};\n",
      "  \\node[color=red] (v2) at (121:1) {$C$};\n",
      "  \\node[color=red] (v3) at (182:1) {$D$};\n",
      "  \\node[color=red] (v4) at (243:1) {$E$};\n",
      "  \\node[color=red] (v5) at (304:1) {$F$};\n",
      "  \\path (v0) edge (v1);\n",
      "         \\path (v0) edge (v2);\n",
      "         \\path (v0) edge (v3);\n",
      "         \\path (v0) edge (v4);\n",
      "         \\path (v0) edge (v5);\n",
      "         \\path (v1) edge (v2);\n",
      "         \\path (v1) edge (v3);\n",
      "         \\path (v1) edge (v4);\n",
      "         \\path (v1) edge (v5);\n",
      "         \\path (v2) edge (v3);\n",
      "         \\path (v2) edge (v4);\n",
      "         \\path (v2) edge (v5);\n",
      "         \\path (v3) edge (v4);\n",
      "         \\path (v3) edge (v5);\n",
      "         \\path (v4) edge (v5);\n",
      "         \n",
      "\n",
      "\\end{tikzpicture}\n"
     ]
    }
   ],
   "source": [
    "%%itikz --as-jinja --print-jinja --temp-dir --as-jinja --tex-packages=tikz --tikz-libraries=arrows,automata --implicit-standalone\n",
    "\\begin{tikzpicture}[->,>=stealth',shorten >=1pt,auto,node distance=2.8cm,\n",
    "                    semithick]\n",
    "  \\tikzstyle{every state}=[fill=mymagenta,draw=none,text=white]\n",
    "  \n",
    "  {% for name, angle in nodes.items() -%}\n",
    "       \\node[color=red] (v{{loop.index0}}) at ({{angle}}:1) {${{name}}$};\n",
    "  {% endfor -%}\n",
    "  \n",
    "  {% for n1 in range(n) -%}\n",
    "      {% for n2 in range(n) -%}\n",
    "         {%if n1 < n2 -%}\n",
    "             \\path (v{{n1}}) edge (v{{n2}});\n",
    "         {% endif -%}\n",
    "      {% endfor -%}\n",
    "  {% endfor %}\n",
    "\n",
    "\\end{tikzpicture}"
   ]
  },
  {
   "cell_type": "markdown",
   "metadata": {},
   "source": [
    "Finally, its worth noting that jinja templating assumes a jinja2 file loader set in the `$CWD`. This means you can stick to the DRY principal with blocks and template extension."
   ]
  },
  {
   "cell_type": "code",
   "execution_count": 25,
   "metadata": {},
   "outputs": [
    {
     "name": "stdout",
     "output_type": "stream",
     "text": [
      "Writing dag_demo.tex\n"
     ]
    }
   ],
   "source": [
    "%%writefile dag_demo.tex\n",
    "\\documentclass[tikz]{standalone}\n",
    "\\usetikzlibrary{arrows,automata}\n",
    "\\definecolor{mymagenta}{RGB}{226,0,116}\n",
    "\\begin{document}\n",
    "\\begin{tikzpicture}[->,>=stealth',shorten >=1pt,auto,node distance=2.8cm,\n",
    "                    semithick]\n",
    "  \\tikzstyle{every state}=[fill=mymagenta,draw=none,text=white]\n",
    "  \n",
    "{% block content %}\n",
    "{% endblock %}\n",
    "\n",
    "\\end{tikzpicture}\n",
    "\\end{document}"
   ]
  },
  {
   "cell_type": "code",
   "execution_count": 26,
   "metadata": {},
   "outputs": [
    {
     "name": "stdout",
     "output_type": "stream",
     "text": [
      "dag_demo.tex\n"
     ]
    }
   ],
   "source": [
    "!ls dag_demo.tex"
   ]
  },
  {
   "cell_type": "code",
   "execution_count": 27,
   "metadata": {},
   "outputs": [
    {
     "data": {
      "image/svg+xml": [
       "<svg height=\"63.254pt\" version=\"1.1\" viewBox=\"0 0 71.315 63.254\" width=\"71.315pt\" xmlns=\"http://www.w3.org/2000/svg\" xmlns:xlink=\"http://www.w3.org/1999/xlink\">\n",
       "<defs>\n",
       "<g>\n",
       "<symbol id=\"glyph0-0\" overflow=\"visible\">\n",
       "<path d=\"\" style=\"stroke:none;\"/>\n",
       "</symbol>\n",
       "<symbol id=\"glyph0-1\" overflow=\"visible\">\n",
       "<path d=\"M 1.78125 -1.140625 C 1.390625 -0.484375 1 -0.34375 0.5625 -0.3125 C 0.4375 -0.296875 0.34375 -0.296875 0.34375 -0.109375 C 0.34375 -0.046875 0.40625 0 0.484375 0 C 0.75 0 1.0625 -0.03125 1.328125 -0.03125 C 1.671875 -0.03125 2.015625 0 2.328125 0 C 2.390625 0 2.515625 0 2.515625 -0.1875 C 2.515625 -0.296875 2.4375 -0.3125 2.359375 -0.3125 C 2.140625 -0.328125 1.890625 -0.40625 1.890625 -0.65625 C 1.890625 -0.78125 1.953125 -0.890625 2.03125 -1.03125 L 2.796875 -2.296875 L 5.296875 -2.296875 C 5.3125 -2.09375 5.453125 -0.734375 5.453125 -0.640625 C 5.453125 -0.34375 4.9375 -0.3125 4.734375 -0.3125 C 4.59375 -0.3125 4.5 -0.3125 4.5 -0.109375 C 4.5 0 4.609375 0 4.640625 0 C 5.046875 0 5.46875 -0.03125 5.875 -0.03125 C 6.125 -0.03125 6.765625 0 7.015625 0 C 7.0625 0 7.1875 0 7.1875 -0.203125 C 7.1875 -0.3125 7.09375 -0.3125 6.953125 -0.3125 C 6.34375 -0.3125 6.34375 -0.375 6.3125 -0.671875 L 5.703125 -6.890625 C 5.6875 -7.09375 5.6875 -7.140625 5.515625 -7.140625 C 5.359375 -7.140625 5.3125 -7.0625 5.25 -6.96875 Z M 2.984375 -2.609375 L 4.9375 -5.90625 L 5.265625 -2.609375 Z M 2.984375 -2.609375 \" style=\"stroke:none;\"/>\n",
       "</symbol>\n",
       "<symbol id=\"glyph0-2\" overflow=\"visible\">\n",
       "<path d=\"M 1.59375 -0.78125 C 1.5 -0.390625 1.46875 -0.3125 0.6875 -0.3125 C 0.515625 -0.3125 0.421875 -0.3125 0.421875 -0.109375 C 0.421875 0 0.515625 0 0.6875 0 L 4.25 0 C 5.828125 0 7 -1.171875 7 -2.15625 C 7 -2.875 6.421875 -3.453125 5.453125 -3.5625 C 6.484375 -3.75 7.53125 -4.484375 7.53125 -5.4375 C 7.53125 -6.171875 6.875 -6.8125 5.6875 -6.8125 L 2.328125 -6.8125 C 2.140625 -6.8125 2.046875 -6.8125 2.046875 -6.609375 C 2.046875 -6.5 2.140625 -6.5 2.328125 -6.5 C 2.34375 -6.5 2.53125 -6.5 2.703125 -6.484375 C 2.875 -6.453125 2.96875 -6.453125 2.96875 -6.3125 C 2.96875 -6.28125 2.953125 -6.25 2.9375 -6.125 Z M 3.09375 -3.65625 L 3.71875 -6.125 C 3.8125 -6.46875 3.828125 -6.5 4.25 -6.5 L 5.546875 -6.5 C 6.421875 -6.5 6.625 -5.90625 6.625 -5.46875 C 6.625 -4.59375 5.765625 -3.65625 4.5625 -3.65625 Z M 2.65625 -0.3125 C 2.515625 -0.3125 2.5 -0.3125 2.4375 -0.3125 C 2.328125 -0.328125 2.296875 -0.34375 2.296875 -0.421875 C 2.296875 -0.453125 2.296875 -0.46875 2.359375 -0.640625 L 3.046875 -3.421875 L 4.921875 -3.421875 C 5.875 -3.421875 6.078125 -2.6875 6.078125 -2.265625 C 6.078125 -1.28125 5.1875 -0.3125 4 -0.3125 Z M 2.65625 -0.3125 \" style=\"stroke:none;\"/>\n",
       "</symbol>\n",
       "<symbol id=\"glyph0-3\" overflow=\"visible\">\n",
       "<path d=\"M 7.578125 -6.921875 C 7.578125 -6.953125 7.5625 -7.03125 7.46875 -7.03125 C 7.4375 -7.03125 7.421875 -7.015625 7.3125 -6.90625 L 6.625 -6.140625 C 6.53125 -6.28125 6.078125 -7.03125 4.96875 -7.03125 C 2.734375 -7.03125 0.5 -4.828125 0.5 -2.515625 C 0.5 -0.875 1.671875 0.21875 3.203125 0.21875 C 4.0625 0.21875 4.828125 -0.171875 5.359375 -0.640625 C 6.28125 -1.453125 6.453125 -2.359375 6.453125 -2.390625 C 6.453125 -2.5 6.34375 -2.5 6.328125 -2.5 C 6.265625 -2.5 6.21875 -2.46875 6.203125 -2.390625 C 6.109375 -2.109375 5.875 -1.390625 5.1875 -0.8125 C 4.5 -0.265625 3.875 -0.09375 3.359375 -0.09375 C 2.46875 -0.09375 1.40625 -0.609375 1.40625 -2.15625 C 1.40625 -2.734375 1.609375 -4.34375 2.609375 -5.515625 C 3.21875 -6.21875 4.15625 -6.71875 5.046875 -6.71875 C 6.0625 -6.71875 6.65625 -5.953125 6.65625 -4.796875 C 6.65625 -4.390625 6.625 -4.390625 6.625 -4.28125 C 6.625 -4.1875 6.734375 -4.1875 6.765625 -4.1875 C 6.890625 -4.1875 6.890625 -4.203125 6.953125 -4.390625 Z M 7.578125 -6.921875 \" style=\"stroke:none;\"/>\n",
       "</symbol>\n",
       "<symbol id=\"glyph0-4\" overflow=\"visible\">\n",
       "<path d=\"M 1.578125 -0.78125 C 1.484375 -0.390625 1.46875 -0.3125 0.671875 -0.3125 C 0.515625 -0.3125 0.40625 -0.3125 0.40625 -0.125 C 0.40625 0 0.484375 0 0.671875 0 L 3.984375 0 C 6.046875 0 8.015625 -2.109375 8.015625 -4.28125 C 8.015625 -5.6875 7.171875 -6.8125 5.671875 -6.8125 L 2.328125 -6.8125 C 2.140625 -6.8125 2.03125 -6.8125 2.03125 -6.625 C 2.03125 -6.5 2.109375 -6.5 2.3125 -6.5 C 2.4375 -6.5 2.625 -6.484375 2.734375 -6.484375 C 2.90625 -6.453125 2.953125 -6.4375 2.953125 -6.3125 C 2.953125 -6.28125 2.953125 -6.25 2.921875 -6.125 Z M 3.734375 -6.125 C 3.828125 -6.46875 3.84375 -6.5 4.28125 -6.5 L 5.34375 -6.5 C 6.3125 -6.5 7.140625 -5.96875 7.140625 -4.65625 C 7.140625 -4.171875 6.953125 -2.53125 6.09375 -1.4375 C 5.8125 -1.0625 5.03125 -0.3125 3.796875 -0.3125 L 2.671875 -0.3125 C 2.53125 -0.3125 2.515625 -0.3125 2.453125 -0.3125 C 2.359375 -0.328125 2.328125 -0.34375 2.328125 -0.421875 C 2.328125 -0.453125 2.328125 -0.46875 2.375 -0.640625 Z M 3.734375 -6.125 \" style=\"stroke:none;\"/>\n",
       "</symbol>\n",
       "<symbol id=\"glyph0-5\" overflow=\"visible\">\n",
       "<path d=\"M 7.0625 -2.328125 C 7.078125 -2.375 7.109375 -2.4375 7.109375 -2.46875 C 7.109375 -2.46875 7.109375 -2.578125 6.984375 -2.578125 C 6.890625 -2.578125 6.875 -2.515625 6.859375 -2.453125 C 6.203125 -0.984375 5.84375 -0.3125 4.140625 -0.3125 L 2.6875 -0.3125 C 2.546875 -0.3125 2.515625 -0.3125 2.46875 -0.3125 C 2.359375 -0.328125 2.328125 -0.34375 2.328125 -0.421875 C 2.328125 -0.453125 2.328125 -0.46875 2.375 -0.640625 L 3.0625 -3.375 L 4.046875 -3.375 C 4.890625 -3.375 4.890625 -3.15625 4.890625 -2.90625 C 4.890625 -2.84375 4.890625 -2.71875 4.828125 -2.421875 C 4.8125 -2.375 4.796875 -2.34375 4.796875 -2.3125 C 4.796875 -2.265625 4.828125 -2.203125 4.921875 -2.203125 C 5 -2.203125 5.03125 -2.25 5.078125 -2.40625 L 5.640625 -4.734375 C 5.640625 -4.796875 5.59375 -4.84375 5.515625 -4.84375 C 5.4375 -4.84375 5.40625 -4.78125 5.390625 -4.671875 C 5.171875 -3.90625 5 -3.671875 4.078125 -3.671875 L 3.140625 -3.671875 L 3.734375 -6.078125 C 3.828125 -6.4375 3.84375 -6.46875 4.28125 -6.46875 L 5.6875 -6.46875 C 6.890625 -6.46875 7.203125 -6.1875 7.203125 -5.359375 C 7.203125 -5.125 7.203125 -5.109375 7.15625 -4.828125 C 7.15625 -4.78125 7.140625 -4.703125 7.140625 -4.65625 C 7.140625 -4.609375 7.171875 -4.53125 7.265625 -4.53125 C 7.375 -4.53125 7.390625 -4.59375 7.40625 -4.78125 L 7.609375 -6.515625 C 7.640625 -6.78125 7.59375 -6.78125 7.34375 -6.78125 L 2.296875 -6.78125 C 2.109375 -6.78125 2 -6.78125 2 -6.578125 C 2 -6.46875 2.09375 -6.46875 2.28125 -6.46875 C 2.65625 -6.46875 2.9375 -6.46875 2.9375 -6.296875 C 2.9375 -6.25 2.9375 -6.234375 2.875 -6.046875 L 1.5625 -0.78125 C 1.46875 -0.390625 1.453125 -0.3125 0.65625 -0.3125 C 0.484375 -0.3125 0.375 -0.3125 0.375 -0.125 C 0.375 0 0.46875 0 0.65625 0 L 5.828125 0 C 6.0625 0 6.078125 -0.015625 6.140625 -0.171875 Z M 7.0625 -2.328125 \" style=\"stroke:none;\"/>\n",
       "</symbol>\n",
       "<symbol id=\"glyph0-6\" overflow=\"visible\">\n",
       "<path d=\"M 3.015625 -3.234375 L 3.984375 -3.234375 C 4.734375 -3.234375 4.8125 -3.078125 4.8125 -2.796875 C 4.8125 -2.71875 4.8125 -2.609375 4.75 -2.296875 C 4.71875 -2.25 4.71875 -2.21875 4.71875 -2.1875 C 4.71875 -2.109375 4.78125 -2.078125 4.828125 -2.078125 C 4.9375 -2.078125 4.9375 -2.109375 4.984375 -2.28125 L 5.53125 -4.453125 C 5.5625 -4.5625 5.5625 -4.578125 5.5625 -4.609375 C 5.5625 -4.625 5.546875 -4.71875 5.4375 -4.71875 C 5.34375 -4.71875 5.328125 -4.671875 5.296875 -4.5 C 5.078125 -3.734375 4.859375 -3.546875 4 -3.546875 L 3.09375 -3.546875 L 3.734375 -6.078125 C 3.828125 -6.4375 3.84375 -6.46875 4.28125 -6.46875 L 5.59375 -6.46875 C 6.8125 -6.46875 7.046875 -6.140625 7.046875 -5.375 C 7.046875 -5.140625 7.046875 -5.109375 7.015625 -4.828125 C 7 -4.703125 7 -4.6875 7 -4.65625 C 7 -4.609375 7.03125 -4.53125 7.125 -4.53125 C 7.234375 -4.53125 7.234375 -4.59375 7.25 -4.78125 L 7.453125 -6.515625 C 7.484375 -6.78125 7.4375 -6.78125 7.1875 -6.78125 L 2.296875 -6.78125 C 2.109375 -6.78125 2 -6.78125 2 -6.578125 C 2 -6.46875 2.09375 -6.46875 2.28125 -6.46875 C 2.65625 -6.46875 2.9375 -6.46875 2.9375 -6.296875 C 2.9375 -6.25 2.9375 -6.234375 2.875 -6.046875 L 1.5625 -0.78125 C 1.46875 -0.390625 1.453125 -0.3125 0.65625 -0.3125 C 0.484375 -0.3125 0.375 -0.3125 0.375 -0.125 C 0.375 0 0.5 0 0.53125 0 C 0.8125 0 1.5625 -0.03125 1.84375 -0.03125 C 2.171875 -0.03125 3 0 3.328125 0 C 3.421875 0 3.53125 0 3.53125 -0.1875 C 3.53125 -0.265625 3.484375 -0.296875 3.484375 -0.296875 C 3.453125 -0.3125 3.421875 -0.3125 3.203125 -0.3125 C 2.984375 -0.3125 2.9375 -0.3125 2.6875 -0.328125 C 2.390625 -0.359375 2.359375 -0.40625 2.359375 -0.53125 C 2.359375 -0.546875 2.359375 -0.609375 2.40625 -0.75 Z M 3.015625 -3.234375 \" style=\"stroke:none;\"/>\n",
       "</symbol>\n",
       "</g>\n",
       "<clipPath id=\"clip1\">\n",
       "  <path d=\"M 22 46 L 51 46 L 51 63.253906 L 22 63.253906 Z M 22 46 \"/>\n",
       "</clipPath>\n",
       "</defs>\n",
       "<g id=\"surface1\">\n",
       "<g style=\"fill:rgb(88.627625%,0%,45.489502%);fill-opacity:1;\">\n",
       "  <use x=\"60.523\" xlink:href=\"#glyph0-1\" y=\"34.677\"/>\n",
       "</g>\n",
       "<g style=\"fill:rgb(88.627625%,0%,45.489502%);fill-opacity:1;\">\n",
       "  <use x=\"46.057\" xlink:href=\"#glyph0-2\" y=\"10.128\"/>\n",
       "</g>\n",
       "<g style=\"fill:rgb(88.627625%,0%,45.489502%);fill-opacity:1;\">\n",
       "  <use x=\"17.396\" xlink:href=\"#glyph0-3\" y=\"10.379\"/>\n",
       "</g>\n",
       "<g style=\"fill:rgb(88.627625%,0%,45.489502%);fill-opacity:1;\">\n",
       "  <use x=\"3.321\" xlink:href=\"#glyph0-4\" y=\"35.666\"/>\n",
       "</g>\n",
       "<g style=\"fill:rgb(88.627625%,0%,45.489502%);fill-opacity:1;\">\n",
       "  <use x=\"19.079\" xlink:href=\"#glyph0-5\" y=\"59.933\"/>\n",
       "</g>\n",
       "<g style=\"fill:rgb(88.627625%,0%,45.489502%);fill-opacity:1;\">\n",
       "  <use x=\"47.868\" xlink:href=\"#glyph0-6\" y=\"58.177\"/>\n",
       "</g>\n",
       "<path d=\"M 24.291125 7.023 L 19.338 15.605031 \" style=\"fill:none;stroke-width:0.59776;stroke-linecap:butt;stroke-linejoin:miter;stroke:rgb(0%,0%,0%);stroke-opacity:1;stroke-miterlimit:10;\" transform=\"matrix(1,0,0,-1,35.912,31.273)\"/>\n",
       "<path d=\"M 0.91774 -0.000739806 C -0.230162 0.23051 -1.37317 0.688244 -2.750304 1.488012 C -1.374693 0.459812 -1.374041 -0.45781 -2.747923 -1.489913 C -1.375564 -0.686241 -0.229836 -0.228301 0.91774 -0.000739806 Z M 0.91774 -0.000739806 \" style=\"fill-rule:nonzero;fill:rgb(0%,0%,0%);fill-opacity:1;stroke-width:0.59776;stroke-linecap:butt;stroke-linejoin:round;stroke:rgb(0%,0%,0%);stroke-opacity:1;stroke-miterlimit:10;\" transform=\"matrix(-0.5017,-0.86877,-0.86877,0.5017,55.24885,15.66877)\"/>\n",
       "<path d=\"M 20.990344 4.159719 L -5.134656 18.944875 \" style=\"fill:none;stroke-width:0.59776;stroke-linecap:butt;stroke-linejoin:miter;stroke:rgb(0%,0%,0%);stroke-opacity:1;stroke-miterlimit:10;\" transform=\"matrix(1,0,0,-1,35.912,31.273)\"/>\n",
       "<path d=\"M 0.917282 0.00212614 C -0.228619 0.231176 -1.374045 0.688822 -2.750011 1.490574 C -1.374519 0.460225 -1.374498 -0.457553 -2.750421 -1.491357 C -1.374972 -0.68615 -0.227648 -0.229409 0.917282 0.00212614 Z M 0.917282 0.00212614 \" style=\"fill-rule:nonzero;fill:rgb(0%,0%,0%);fill-opacity:1;stroke-width:0.59776;stroke-linecap:butt;stroke-linejoin:round;stroke:rgb(0%,0%,0%);stroke-opacity:1;stroke-miterlimit:10;\" transform=\"matrix(-0.87251,-0.49374,-0.49374,0.87251,30.77795,12.32995)\"/>\n",
       "<path d=\"M 20.990344 -0.129344 L -18.236219 -0.812938 \" style=\"fill:none;stroke-width:0.59776;stroke-linecap:butt;stroke-linejoin:miter;stroke:rgb(0%,0%,0%);stroke-opacity:1;stroke-miterlimit:10;\" transform=\"matrix(1,0,0,-1,35.912,31.273)\"/>\n",
       "<path d=\"M 0.918362 -0.000644585 C -0.230013 0.230321 -1.374441 0.687791 -2.751166 1.489171 C -1.374552 0.457313 -1.374859 -0.45679 -2.748364 -1.487589 C -1.37497 -0.687269 -0.230235 -0.230636 0.918362 -0.000644585 Z M 0.918362 -0.000644585 \" style=\"fill-rule:nonzero;fill:rgb(0%,0%,0%);fill-opacity:1;stroke-width:0.59776;stroke-linecap:butt;stroke-linejoin:round;stroke:rgb(0%,0%,0%);stroke-opacity:1;stroke-miterlimit:10;\" transform=\"matrix(-0.99995,0.01743,0.01743,0.99995,17.67614,32.0862)\"/>\n",
       "<path d=\"M 20.990344 -4.50825 L -3.396375 -19.453563 \" style=\"fill:none;stroke-width:0.59776;stroke-linecap:butt;stroke-linejoin:miter;stroke:rgb(0%,0%,0%);stroke-opacity:1;stroke-miterlimit:10;\" transform=\"matrix(1,0,0,-1,35.912,31.273)\"/>\n",
       "<path d=\"M 0.918685 0.000191598 C -0.231361 0.229114 -1.373908 0.6868 -2.749418 1.488584 C -1.376043 0.459325 -1.374605 -0.456691 -2.749277 -1.490264 C -1.373414 -0.686204 -0.228979 -0.229913 0.918685 0.000191598 Z M 0.918685 0.000191598 \" style=\"fill-rule:nonzero;fill:rgb(0%,0%,0%);fill-opacity:1;stroke-width:0.59776;stroke-linecap:butt;stroke-linejoin:round;stroke:rgb(0%,0%,0%);stroke-opacity:1;stroke-miterlimit:10;\" transform=\"matrix(-0.8537,0.52318,0.52318,0.8537,32.51465,50.72623)\"/>\n",
       "<path d=\"M 24.611438 -7.023875 L 20.623156 -14.523875 \" style=\"fill:none;stroke-width:0.59776;stroke-linecap:butt;stroke-linejoin:miter;stroke:rgb(0%,0%,0%);stroke-opacity:1;stroke-miterlimit:10;\" transform=\"matrix(1,0,0,-1,35.912,31.273)\"/>\n",
       "<path d=\"M 0.91631 -0.000413697 C -0.228005 0.231028 -1.376184 0.685882 -2.749648 1.48955 C -1.373933 0.45719 -1.373654 -0.457796 -2.748175 -1.489377 C -1.37485 -0.68832 -0.230395 -0.230021 0.91631 -0.000413697 Z M 0.91631 -0.000413697 \" style=\"fill-rule:nonzero;fill:rgb(0%,0%,0%);fill-opacity:1;stroke-width:0.59776;stroke-linecap:butt;stroke-linejoin:round;stroke:rgb(0%,0%,0%);stroke-opacity:1;stroke-miterlimit:10;\" transform=\"matrix(-0.46988,0.88358,0.88358,0.46988,56.53639,45.79603)\"/>\n",
       "<path d=\"M 6.5255 24.483937 L -4.853406 24.382375 \" style=\"fill:none;stroke-width:0.59776;stroke-linecap:butt;stroke-linejoin:miter;stroke:rgb(0%,0%,0%);stroke-opacity:1;stroke-miterlimit:10;\" transform=\"matrix(1,0,0,-1,35.912,31.273)\"/>\n",
       "<path d=\"M 0.915392 0.000316132 C -0.231049 0.229075 -1.375478 0.688284 -2.751297 1.489358 C -1.373583 0.457799 -1.373785 -0.460168 -2.749973 -1.491123 C -1.375763 -0.686713 -0.227227 -0.22799 0.915392 0.000316132 Z M 0.915392 0.000316132 \" style=\"fill-rule:nonzero;fill:rgb(0%,0%,0%);fill-opacity:1;stroke-width:0.59776;stroke-linecap:butt;stroke-linejoin:round;stroke:rgb(0%,0%,0%);stroke-opacity:1;stroke-miterlimit:10;\" transform=\"matrix(-1,0.00873,0.00873,1,31.05992,6.89013)\"/>\n",
       "<path d=\"M 6.5255 19.956594 L -18.552625 4.886281 \" style=\"fill:none;stroke-width:0.59776;stroke-linecap:butt;stroke-linejoin:miter;stroke:rgb(0%,0%,0%);stroke-opacity:1;stroke-miterlimit:10;\" transform=\"matrix(1,0,0,-1,35.912,31.273)\"/>\n",
       "<path d=\"M 0.917296 -0.000485075 C -0.229616 0.228664 -1.374357 0.688834 -2.75189 1.489338 C -1.376529 0.457814 -1.375833 -0.458238 -2.751975 -1.489838 C -1.375993 -0.685912 -0.229936 -0.226683 0.917296 -0.000485075 Z M 0.917296 -0.000485075 \" style=\"fill-rule:nonzero;fill:rgb(0%,0%,0%);fill-opacity:1;stroke-width:0.59776;stroke-linecap:butt;stroke-linejoin:round;stroke:rgb(0%,0%,0%);stroke-opacity:1;stroke-miterlimit:10;\" transform=\"matrix(-0.8575,0.51532,0.51532,0.8575,17.36105,26.38709)\"/>\n",
       "<path d=\"M 10.361438 17.526906 L -8.001844 -16.2895 \" style=\"fill:none;stroke-width:0.59776;stroke-linecap:butt;stroke-linejoin:miter;stroke:rgb(0%,0%,0%);stroke-opacity:1;stroke-miterlimit:10;\" transform=\"matrix(1,0,0,-1,35.912,31.273)\"/>\n",
       "<path d=\"M 0.916346 0.000407026 C -0.229662 0.230502 -1.374616 0.687579 -2.751193 1.489466 C -1.373808 0.457168 -1.374299 -0.45762 -2.749998 -1.488739 C -1.373491 -0.688032 -0.228046 -0.230321 0.916346 0.000407026 Z M 0.916346 0.000407026 \" style=\"fill-rule:nonzero;fill:rgb(0%,0%,0%);fill-opacity:1;stroke-width:0.59776;stroke-linecap:butt;stroke-linejoin:round;stroke:rgb(0%,0%,0%);stroke-opacity:1;stroke-miterlimit:10;\" transform=\"matrix(-0.47778,0.8799,0.8799,0.47778,27.91011,47.5607)\"/>\n",
       "<path d=\"M 14.420031 17.526906 L 15.529406 -14.266063 \" style=\"fill:none;stroke-width:0.59776;stroke-linecap:butt;stroke-linejoin:miter;stroke:rgb(0%,0%,0%);stroke-opacity:1;stroke-miterlimit:10;\" transform=\"matrix(1,0,0,-1,35.912,31.273)\"/>\n",
       "<path d=\"M 0.91791 -0.000440636 C -0.230768 0.231133 -1.37545 0.68923 -2.750553 1.487545 C -1.375679 0.458668 -1.376462 -0.459678 -2.748954 -1.490383 C -1.376555 -0.686336 -0.227324 -0.230127 0.91791 -0.000440636 Z M 0.91791 -0.000440636 \" style=\"fill-rule:nonzero;fill:rgb(0%,0%,0%);fill-opacity:1;stroke-width:0.59776;stroke-linecap:butt;stroke-linejoin:round;stroke:rgb(0%,0%,0%);stroke-opacity:1;stroke-miterlimit:10;\" transform=\"matrix(0.03488,0.99956,0.99956,-0.03488,51.44108,45.53951)\"/>\n",
       "<path d=\"M -18.412 17.273 L -23.458875 7.980031 \" style=\"fill:none;stroke-width:0.59776;stroke-linecap:butt;stroke-linejoin:miter;stroke:rgb(0%,0%,0%);stroke-opacity:1;stroke-miterlimit:10;\" transform=\"matrix(1,0,0,-1,35.912,31.273)\"/>\n",
       "<path d=\"M 0.914707 0.000137579 C -0.229429 0.22677 -1.37624 0.68724 -2.749391 1.490941 C -1.375426 0.456832 -1.375894 -0.457943 -2.751545 -1.489084 C -1.37508 -0.688352 -0.229663 -0.230617 0.914707 0.000137579 Z M 0.914707 0.000137579 \" style=\"fill-rule:nonzero;fill:rgb(0%,0%,0%);fill-opacity:1;stroke-width:0.59776;stroke-linecap:butt;stroke-linejoin:round;stroke:rgb(0%,0%,0%);stroke-opacity:1;stroke-miterlimit:10;\" transform=\"matrix(-0.47781,0.8799,0.8799,0.47781,12.45256,23.29274)\"/>\n",
       "<path d=\"M -14.353406 17.273 L -13.19325 -16.023875 \" style=\"fill:none;stroke-width:0.59776;stroke-linecap:butt;stroke-linejoin:miter;stroke:rgb(0%,0%,0%);stroke-opacity:1;stroke-miterlimit:10;\" transform=\"matrix(1,0,0,-1,35.912,31.273)\"/>\n",
       "<path d=\"M 0.915333 0.00152179 C -0.229572 0.229079 -1.374244 0.687198 -2.749194 1.489443 C -1.374478 0.456636 -1.375142 -0.457805 -2.751558 -1.488347 C -1.375377 -0.688367 -0.229905 -0.228142 0.915333 0.00152179 Z M 0.915333 0.00152179 \" style=\"fill-rule:nonzero;fill:rgb(0%,0%,0%);fill-opacity:1;stroke-width:0.59776;stroke-linecap:butt;stroke-linejoin:round;stroke:rgb(0%,0%,0%);stroke-opacity:1;stroke-miterlimit:10;\" transform=\"matrix(0.0349,0.99956,0.99956,-0.0349,22.72044,47.29606)\"/>\n",
       "<path d=\"M -10.126844 17.273 L 10.189563 -14.605906 \" style=\"fill:none;stroke-width:0.59776;stroke-linecap:butt;stroke-linejoin:miter;stroke:rgb(0%,0%,0%);stroke-opacity:1;stroke-miterlimit:10;\" transform=\"matrix(1,0,0,-1,35.912,31.273)\"/>\n",
       "<path d=\"M 0.918093 -0.000982075 C -0.227285 0.230254 -1.375211 0.689341 -2.74839 1.490489 C -1.374755 0.458206 -1.377405 -0.458864 -2.750507 -1.490666 C -1.374856 -0.686716 -0.229656 -0.229923 0.918093 -0.000982075 Z M 0.918093 -0.000982075 \" style=\"fill-rule:nonzero;fill:rgb(0%,0%,0%);fill-opacity:1;stroke-width:0.59776;stroke-linecap:butt;stroke-linejoin:round;stroke:rgb(0%,0%,0%);stroke-opacity:1;stroke-miterlimit:10;\" transform=\"matrix(0.53914,0.84608,0.84608,-0.53914,46.0996,45.87894)\"/>\n",
       "<path d=\"M -23.853406 -8.012156 L -18.537 -16.363719 \" style=\"fill:none;stroke-width:0.59776;stroke-linecap:butt;stroke-linejoin:miter;stroke:rgb(0%,0%,0%);stroke-opacity:1;stroke-miterlimit:10;\" transform=\"matrix(1,0,0,-1,35.912,31.273)\"/>\n",
       "<path d=\"M 0.915913 0.000500214 C -0.231606 0.228402 -1.374216 0.688638 -2.747479 1.489742 C -1.373748 0.457495 -1.376352 -0.459605 -2.749446 -1.491509 C -1.373792 -0.687463 -0.228577 -0.230598 0.915913 0.000500214 Z M 0.915913 0.000500214 \" style=\"fill-rule:nonzero;fill:rgb(0%,0%,0%);fill-opacity:1;stroke-width:0.59776;stroke-linecap:butt;stroke-linejoin:round;stroke:rgb(0%,0%,0%);stroke-opacity:1;stroke-miterlimit:10;\" transform=\"matrix(0.53908,0.84608,0.84608,-0.53908,17.37692,47.63549)\"/>\n",
       "<path d=\"M -20.447156 -5.004344 L 6.357531 -18.6645 \" style=\"fill:none;stroke-width:0.59776;stroke-linecap:butt;stroke-linejoin:miter;stroke:rgb(0%,0%,0%);stroke-opacity:1;stroke-miterlimit:10;\" transform=\"matrix(1,0,0,-1,35.912,31.273)\"/>\n",
       "<path d=\"M 0.915812 0.000818864 C -0.230999 0.228638 -1.374389 0.68967 -2.751844 1.489976 C -1.374344 0.458223 -1.374228 -0.458862 -2.749752 -1.487494 C -1.37595 -0.686842 -0.229208 -0.229022 0.915812 0.000818864 Z M 0.915812 0.000818864 \" style=\"fill-rule:nonzero;fill:rgb(0%,0%,0%);fill-opacity:1;stroke-width:0.59776;stroke-linecap:butt;stroke-linejoin:round;stroke:rgb(0%,0%,0%);stroke-opacity:1;stroke-miterlimit:10;\" transform=\"matrix(0.89442,0.45587,0.45587,-0.89442,42.27035,49.93871)\"/>\n",
       "<g clip-path=\"url(#clip1)\" clip-rule=\"nonzero\">\n",
       "<path d=\"M -5.287 -24.793406 L 6.127063 -24.094188 \" style=\"fill:none;stroke-width:0.59776;stroke-linecap:butt;stroke-linejoin:miter;stroke:rgb(0%,0%,0%);stroke-opacity:1;stroke-miterlimit:10;\" transform=\"matrix(1,0,0,-1,35.912,31.273)\"/>\n",
       "</g>\n",
       "<path d=\"M 0.917828 -0.000414148 C -0.230313 0.230251 -1.37632 0.687757 -2.747916 1.487777 C -1.374793 0.45678 -1.376008 -0.458857 -2.750033 -1.49011 C -1.374243 -0.685936 -0.23092 -0.227567 0.917828 -0.000414148 Z M 0.917828 -0.000414148 \" style=\"fill-rule:nonzero;fill:rgb(0%,0%,0%);fill-opacity:1;stroke-width:0.59776;stroke-linecap:butt;stroke-linejoin:round;stroke:rgb(0%,0%,0%);stroke-opacity:1;stroke-miterlimit:10;\" transform=\"matrix(0.9982,-0.06105,-0.06105,-0.9982,42.04083,55.36812)\"/>\n",
       "</g>\n",
       "</svg>"
      ],
      "text/plain": [
       "<IPython.core.display.SVG object>"
      ]
     },
     "execution_count": 27,
     "metadata": {},
     "output_type": "execute_result"
    }
   ],
   "source": [
    "%%itikz --as-jinja --temp-dir\n",
    "{% extends \"dag_demo.tex\" %}\n",
    "{% block content %}\n",
    "\n",
    "{% for name, angle in nodes.items() %}\n",
    "       \\node[color=mymagenta] (v{{loop.index0}}) at ({{angle}}:1) {${{name}}$};\n",
    "{% endfor -%}\n",
    "  \n",
    "{% for n1 in range(n) %}\n",
    "    {% for n2 in range(n) %}\n",
    "        {%if n1 < n2 %}\n",
    "            \\path (v{{n1}}) edge (v{{n2}});\n",
    "        {% endif %}\n",
    "    {% endfor -%}\n",
    "{% endfor %}\n",
    "\n",
    "{% endblock %}"
   ]
  },
  {
   "cell_type": "code",
   "execution_count": 28,
   "metadata": {},
   "outputs": [],
   "source": [
    "!rm dag_demo.tex # ignore this, it's just housekeeping"
   ]
  },
  {
   "cell_type": "markdown",
   "metadata": {},
   "source": [
    "Sometimes, you may want to send a collaborator a quick snapshot of your work. But, lots of messaging windows won't accept SVG drag-and-drop. As a time saver, you can rasterize the SVG as a PNG (if you have cairosvg installed)."
   ]
  },
  {
   "cell_type": "code",
   "execution_count": 29,
   "metadata": {},
   "outputs": [
    {
     "data": {
      "image/png": "[encoded data removed]",
      "text/plain": [
       "<IPython.core.display.Image object>"
      ]
     },
     "execution_count": 29,
     "metadata": {},
     "output_type": "execute_result"
    }
   ],
   "source": [
    "%%itikz --implicit-pic --temp-dir --rasterize\n",
    "\\draw[fill=black] (1, 1) rectangle (2, 2);\n",
    "\\draw[fill=black] (2, 1) rectangle (3, 2);\n",
    "\\draw[fill=black] (3, 1) rectangle (4, 2);\n",
    "\\draw[fill=black] (3, 2) rectangle (4, 3);\n",
    "\\draw[fill=black] (2, 3) rectangle (3, 4);"
   ]
  },
  {
   "cell_type": "markdown",
   "metadata": {},
   "source": [
    "Also, the latex command line error messages tend to be...verbose. By default, only the tail is shown."
   ]
  },
  {
   "cell_type": "code",
   "execution_count": 30,
   "metadata": {},
   "outputs": [
    {
     "name": "stderr",
     "output_type": "stream",
     "text": [
      "l.6 \\end{tikzpicture}\n",
      "                     \n",
      "? \n",
      "! Emergency stop.\n",
      "<inserted text> \n",
      "                $\n",
      "l.6 \\end{tikzpicture}\n",
      "                     \n",
      "!  ==> Fatal error occurred, no output PDF file produced!\n",
      "Transcript written on 26e1ca6384b15e1d929f6c01ce6ba32f.log.\n"
     ]
    }
   ],
   "source": [
    "%%itikz --implicit-pic\n",
    "4$"
   ]
  },
  {
   "cell_type": "markdown",
   "metadata": {},
   "source": [
    "But, if this isn't enough, you can see the whole message."
   ]
  },
  {
   "cell_type": "code",
   "execution_count": 31,
   "metadata": {},
   "outputs": [
    {
     "name": "stderr",
     "output_type": "stream",
     "text": [
      "This is pdfTeX, Version 3.14159265-2.6-1.40.19 (TeX Live 2018/Debian) (preloaded format=pdflatex)\n",
      " restricted \\write18 enabled.\n",
      "entering extended mode\n",
      "(./26e1ca6384b15e1d929f6c01ce6ba32f.tex\n",
      "LaTeX2e <2018-04-01> patch level 4\n",
      "Babel <3.20> and hyphenation patterns for 84 language(s) loaded.\n",
      "(/usr/share/texlive/texmf-dist/tex/latex/standalone/standalone.cls\n",
      "Document Class: standalone 2018/03/26 v1.3a Class to compile TeX sub-files stan\n",
      "dalone\n",
      "(/usr/share/texlive/texmf-dist/tex/latex/tools/shellesc.sty)\n",
      "(/usr/share/texlive/texmf-dist/tex/generic/oberdiek/ifluatex.sty)\n",
      "(/usr/share/texlive/texmf-dist/tex/generic/oberdiek/ifpdf.sty)\n",
      "(/usr/share/texlive/texmf-dist/tex/generic/ifxetex/ifxetex.sty)\n",
      "(/usr/share/texlive/texmf-dist/tex/latex/xkeyval/xkeyval.sty\n",
      "(/usr/share/texlive/texmf-dist/tex/generic/xkeyval/xkeyval.tex\n",
      "(/usr/share/texlive/texmf-dist/tex/generic/xkeyval/xkvutils.tex\n",
      "(/usr/share/texlive/texmf-dist/tex/generic/xkeyval/keyval.tex))))\n",
      "(/usr/share/texlive/texmf-dist/tex/latex/standalone/standalone.cfg)\n",
      "(/usr/share/texlive/texmf-dist/tex/latex/base/article.cls\n",
      "Document Class: article 2014/09/29 v1.4h Standard LaTeX document class\n",
      "(/usr/share/texlive/texmf-dist/tex/latex/base/size10.clo))\n",
      "(/usr/share/texlive/texmf-dist/tex/latex/pgf/frontendlayer/tikz.sty\n",
      "(/usr/share/texlive/texmf-dist/tex/latex/pgf/basiclayer/pgf.sty\n",
      "(/usr/share/texlive/texmf-dist/tex/latex/pgf/utilities/pgfrcs.sty\n",
      "(/usr/share/texlive/texmf-dist/tex/generic/pgf/utilities/pgfutil-common.tex\n",
      "(/usr/share/texlive/texmf-dist/tex/generic/pgf/utilities/pgfutil-common-lists.t\n",
      "ex)) (/usr/share/texlive/texmf-dist/tex/generic/pgf/utilities/pgfutil-latex.def\n",
      "(/usr/share/texlive/texmf-dist/tex/latex/ms/everyshi.sty))\n",
      "(/usr/share/texlive/texmf-dist/tex/generic/pgf/utilities/pgfrcs.code.tex))\n",
      "(/usr/share/texlive/texmf-dist/tex/latex/pgf/basiclayer/pgfcore.sty\n",
      "(/usr/share/texlive/texmf-dist/tex/latex/graphics/graphicx.sty\n",
      "(/usr/share/texlive/texmf-dist/tex/latex/graphics/graphics.sty\n",
      "(/usr/share/texlive/texmf-dist/tex/latex/graphics/trig.sty)\n",
      "(/usr/share/texlive/texmf-dist/tex/latex/graphics-cfg/graphics.cfg)\n",
      "(/usr/share/texlive/texmf-dist/tex/latex/graphics-def/pdftex.def)))\n",
      "(/usr/share/texlive/texmf-dist/tex/latex/pgf/systemlayer/pgfsys.sty\n",
      "(/usr/share/texlive/texmf-dist/tex/generic/pgf/systemlayer/pgfsys.code.tex\n",
      "(/usr/share/texlive/texmf-dist/tex/generic/pgf/utilities/pgfkeys.code.tex\n",
      "(/usr/share/texlive/texmf-dist/tex/generic/pgf/utilities/pgfkeysfiltered.code.t\n",
      "ex)) (/usr/share/texlive/texmf-dist/tex/generic/pgf/systemlayer/pgf.cfg)\n",
      "(/usr/share/texlive/texmf-dist/tex/generic/pgf/systemlayer/pgfsys-pdftex.def\n",
      "(/usr/share/texlive/texmf-dist/tex/generic/pgf/systemlayer/pgfsys-common-pdf.de\n",
      "f)))\n",
      "(/usr/share/texlive/texmf-dist/tex/generic/pgf/systemlayer/pgfsyssoftpath.code.\n",
      "tex)\n",
      "(/usr/share/texlive/texmf-dist/tex/generic/pgf/systemlayer/pgfsysprotocol.code.\n",
      "tex)) (/usr/share/texlive/texmf-dist/tex/latex/xcolor/xcolor.sty\n",
      "(/usr/share/texlive/texmf-dist/tex/latex/graphics-cfg/color.cfg))\n",
      "(/usr/share/texlive/texmf-dist/tex/generic/pgf/basiclayer/pgfcore.code.tex\n",
      "(/usr/share/texlive/texmf-dist/tex/generic/pgf/math/pgfmath.code.tex\n",
      "(/usr/share/texlive/texmf-dist/tex/generic/pgf/math/pgfmathcalc.code.tex\n",
      "(/usr/share/texlive/texmf-dist/tex/generic/pgf/math/pgfmathutil.code.tex)\n",
      "(/usr/share/texlive/texmf-dist/tex/generic/pgf/math/pgfmathparser.code.tex)\n",
      "(/usr/share/texlive/texmf-dist/tex/generic/pgf/math/pgfmathfunctions.code.tex\n",
      "(/usr/share/texlive/texmf-dist/tex/generic/pgf/math/pgfmathfunctions.basic.code\n",
      ".tex)\n",
      "(/usr/share/texlive/texmf-dist/tex/generic/pgf/math/pgfmathfunctions.trigonomet\n",
      "ric.code.tex)\n",
      "(/usr/share/texlive/texmf-dist/tex/generic/pgf/math/pgfmathfunctions.random.cod\n",
      "e.tex)\n",
      "(/usr/share/texlive/texmf-dist/tex/generic/pgf/math/pgfmathfunctions.comparison\n",
      ".code.tex)\n",
      "(/usr/share/texlive/texmf-dist/tex/generic/pgf/math/pgfmathfunctions.base.code.\n",
      "tex)\n",
      "(/usr/share/texlive/texmf-dist/tex/generic/pgf/math/pgfmathfunctions.round.code\n",
      ".tex)\n",
      "(/usr/share/texlive/texmf-dist/tex/generic/pgf/math/pgfmathfunctions.misc.code.\n",
      "tex)\n",
      "(/usr/share/texlive/texmf-dist/tex/generic/pgf/math/pgfmathfunctions.integerari\n",
      "thmetics.code.tex)))\n",
      "(/usr/share/texlive/texmf-dist/tex/generic/pgf/math/pgfmathfloat.code.tex))\n",
      "(/usr/share/texlive/texmf-dist/tex/generic/pgf/basiclayer/pgfcorepoints.code.te\n",
      "x)\n",
      "(/usr/share/texlive/texmf-dist/tex/generic/pgf/basiclayer/pgfcorepathconstruct.\n",
      "code.tex)\n",
      "(/usr/share/texlive/texmf-dist/tex/generic/pgf/basiclayer/pgfcorepathusage.code\n",
      ".tex)\n",
      "(/usr/share/texlive/texmf-dist/tex/generic/pgf/basiclayer/pgfcorescopes.code.te\n",
      "x)\n",
      "(/usr/share/texlive/texmf-dist/tex/generic/pgf/basiclayer/pgfcoregraphicstate.c\n",
      "ode.tex)\n",
      "(/usr/share/texlive/texmf-dist/tex/generic/pgf/basiclayer/pgfcoretransformation\n",
      "s.code.tex)\n",
      "(/usr/share/texlive/texmf-dist/tex/generic/pgf/basiclayer/pgfcorequick.code.tex\n",
      ")\n",
      "(/usr/share/texlive/texmf-dist/tex/generic/pgf/basiclayer/pgfcoreobjects.code.t\n",
      "ex)\n",
      "(/usr/share/texlive/texmf-dist/tex/generic/pgf/basiclayer/pgfcorepathprocessing\n",
      ".code.tex)\n",
      "(/usr/share/texlive/texmf-dist/tex/generic/pgf/basiclayer/pgfcorearrows.code.te\n",
      "x)\n",
      "(/usr/share/texlive/texmf-dist/tex/generic/pgf/basiclayer/pgfcoreshade.code.tex\n",
      ")\n",
      "(/usr/share/texlive/texmf-dist/tex/generic/pgf/basiclayer/pgfcoreimage.code.tex\n",
      "\n",
      "(/usr/share/texlive/texmf-dist/tex/generic/pgf/basiclayer/pgfcoreexternal.code.\n",
      "tex))\n",
      "(/usr/share/texlive/texmf-dist/tex/generic/pgf/basiclayer/pgfcorelayers.code.te\n",
      "x)\n",
      "(/usr/share/texlive/texmf-dist/tex/generic/pgf/basiclayer/pgfcoretransparency.c\n",
      "ode.tex)\n",
      "(/usr/share/texlive/texmf-dist/tex/generic/pgf/basiclayer/pgfcorepatterns.code.\n",
      "tex)))\n",
      "(/usr/share/texlive/texmf-dist/tex/generic/pgf/modules/pgfmoduleshapes.code.tex\n",
      ") (/usr/share/texlive/texmf-dist/tex/generic/pgf/modules/pgfmoduleplot.code.tex\n",
      ")\n",
      "(/usr/share/texlive/texmf-dist/tex/latex/pgf/compatibility/pgfcomp-version-0-65\n",
      ".sty)\n",
      "(/usr/share/texlive/texmf-dist/tex/latex/pgf/compatibility/pgfcomp-version-1-18\n",
      ".sty)) (/usr/share/texlive/texmf-dist/tex/latex/pgf/utilities/pgffor.sty\n",
      "(/usr/share/texlive/texmf-dist/tex/latex/pgf/utilities/pgfkeys.sty\n",
      "(/usr/share/texlive/texmf-dist/tex/generic/pgf/utilities/pgfkeys.code.tex))\n",
      "(/usr/share/texlive/texmf-dist/tex/latex/pgf/math/pgfmath.sty\n",
      "(/usr/share/texlive/texmf-dist/tex/generic/pgf/math/pgfmath.code.tex))\n",
      "(/usr/share/texlive/texmf-dist/tex/generic/pgf/utilities/pgffor.code.tex\n",
      "(/usr/share/texlive/texmf-dist/tex/generic/pgf/math/pgfmath.code.tex)))\n",
      "(/usr/share/texlive/texmf-dist/tex/generic/pgf/frontendlayer/tikz/tikz.code.tex\n",
      "\n",
      "(/usr/share/texlive/texmf-dist/tex/generic/pgf/libraries/pgflibraryplothandlers\n",
      ".code.tex)\n",
      "(/usr/share/texlive/texmf-dist/tex/generic/pgf/modules/pgfmodulematrix.code.tex\n",
      ")\n",
      "(/usr/share/texlive/texmf-dist/tex/generic/pgf/frontendlayer/tikz/libraries/tik\n",
      "zlibrarytopaths.code.tex))))\n",
      "No file 26e1ca6384b15e1d929f6c01ce6ba32f.aux.\n",
      "ABD: EveryShipout initializing macros\n",
      "(/usr/share/texlive/texmf-dist/tex/context/base/mkii/supp-pdf.mkii\n",
      "[Loading MPS to PDF converter (version 2006.09.02).]\n",
      ") (/usr/share/texlive/texmf-dist/tex/latex/oberdiek/epstopdf-base.sty\n",
      "(/usr/share/texlive/texmf-dist/tex/generic/oberdiek/infwarerr.sty)\n",
      "(/usr/share/texlive/texmf-dist/tex/latex/oberdiek/grfext.sty\n",
      "(/usr/share/texlive/texmf-dist/tex/generic/oberdiek/kvdefinekeys.sty\n",
      "(/usr/share/texlive/texmf-dist/tex/generic/oberdiek/ltxcmds.sty)))\n",
      "(/usr/share/texlive/texmf-dist/tex/latex/oberdiek/kvoptions.sty\n",
      "(/usr/share/texlive/texmf-dist/tex/generic/oberdiek/kvsetkeys.sty\n",
      "(/usr/share/texlive/texmf-dist/tex/generic/oberdiek/etexcmds.sty)))\n",
      "(/usr/share/texlive/texmf-dist/tex/generic/oberdiek/pdftexcmds.sty)\n",
      "(/usr/share/texlive/texmf-dist/tex/latex/latexconfig/epstopdf-sys.cfg))\n",
      "! Missing $ inserted.\n",
      "<inserted text> \n",
      "                $\n",
      "l.6 \\end{tikzpicture}\n",
      "                     \n",
      "? \n",
      "! Emergency stop.\n",
      "<inserted text> \n",
      "                $\n",
      "l.6 \\end{tikzpicture}\n",
      "                     \n",
      "!  ==> Fatal error occurred, no output PDF file produced!\n",
      "Transcript written on 26e1ca6384b15e1d929f6c01ce6ba32f.log.\n",
      "\n"
     ]
    }
   ],
   "source": [
    "%%itikz --implicit-pic --full-error\n",
    "4$"
   ]
  },
  {
   "cell_type": "markdown",
   "metadata": {},
   "source": [
    "Finally, if you forget the usage, ask for help."
   ]
  },
  {
   "cell_type": "code",
   "execution_count": 32,
   "metadata": {},
   "outputs": [
    {
     "name": "stderr",
     "output_type": "stream",
     "text": [
      "usage: %%itikz [--temp-dir] [--file-prefix FILE_PREFIX] [--implicit-pic]\n",
      "               [--implicit-standalone] [--scale SCALE]\n",
      "               [--tikz-libraries TIKZ_LIBRARIES] [--tex-packages TEX_PACKAGES]\n",
      "               [--as-jinja] [--print-jinja] [--rasterize] [--full-error] [-h]\n",
      "               [k]\n",
      "\n",
      "Tikz to tex to SVG\n",
      "\n",
      "positional arguments:\n",
      "  k                     the variable in IPython with the string source\n",
      "\n",
      "optional arguments:\n",
      "  --temp-dir            emit artifacts to system temp dir\n",
      "  --file-prefix FILE_PREFIX\n",
      "                        emit artifacts with a path prefix\n",
      "  --implicit-pic        wrap source in implicit tikzpicture document\n",
      "  --implicit-standalone\n",
      "                        wrap source in implicit document\n",
      "  --scale SCALE         Set tikzpicture scale in --implicit-pic tmpl\n",
      "  --tikz-libraries TIKZ_LIBRARIES\n",
      "                        Comma separated list of tikz libraries to use\n",
      "  --tex-packages TEX_PACKAGES\n",
      "                        Comma separated list of tex packages to use\n",
      "  --as-jinja            Interpret the source as a jinja2 template\n",
      "  --print-jinja         Print interpolated jinja2 source then bail.\n",
      "  --rasterize           Rasterize the svg with cairosvg\n",
      "  --full-error          Emit the full error message\n",
      "  -h, --help            show this help message\n"
     ]
    }
   ],
   "source": [
    "%itikz -h"
   ]
  }
 ],
 "metadata": {
  "kernelspec": {
   "display_name": "Python 3",
   "language": "python",
   "name": "python3"
  },
  "language_info": {
   "codemirror_mode": {
    "name": "ipython",
    "version": 3
   },
   "file_extension": ".py",
   "mimetype": "text/x-python",
   "name": "python",
   "nbconvert_exporter": "python",
   "pygments_lexer": "ipython3",
   "version": "3.6.5"
  }
 },
 "nbformat": 4,
 "nbformat_minor": 2
}
